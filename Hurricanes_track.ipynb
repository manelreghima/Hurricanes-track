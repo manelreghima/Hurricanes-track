{
  "nbformat": 4,
  "nbformat_minor": 0,
  "metadata": {
    "colab": {
      "name": " Hurricanes track",
      "provenance": [],
      "collapsed_sections": [
        "K8IOqJMzQIqM",
        "phbwhL49L4lC"
      ],
      "toc_visible": true,
      "include_colab_link": true
    },
    "kernelspec": {
      "name": "python3",
      "display_name": "Python 3"
    },
    "language_info": {
      "name": "python"
    }
  },
  "cells": [
    {
      "cell_type": "markdown",
      "metadata": {
        "id": "view-in-github",
        "colab_type": "text"
      },
      "source": [
        "<a href=\"https://colab.research.google.com/github/manelreghima/Hurricanes-track/blob/main/Hurricanes_track.ipynb\" target=\"_parent\"><img src=\"https://colab.research.google.com/assets/colab-badge.svg\" alt=\"Open In Colab\"/></a>"
      ]
    },
    {
      "cell_type": "markdown",
      "source": [
        "**Introduction:**\n",
        "\n",
        "The intensity of a hurricane is measured by the Saffir-Simpson Hurricane Wind Scale.\n",
        "\n",
        "This rates the storms from one to five based on sustained wind speed and the potential property damage those winds can cause. "
      ],
      "metadata": {
        "id": "ht4yeqnvhfRA"
      }
    },
    {
      "cell_type": "markdown",
      "source": [
        "**Task:**\n",
        "\n",
        "Train a forecaster that predicts hurricanes track 24 hours ahead in time (latitude and longitude).\n",
        "\n",
        "Training data: before 2021\n",
        "Test data: hurricanes in North Atlant 2021\n",
        "\n",
        "Calculate mean absolute error for your 24h prediction in kilometers for the test set.\n",
        "\n",
        "Training and test data can be found here:\n",
        "https://www.ncdc.noaa.gov/ibtracs/index.php?name=ib-v4-access\n"
      ],
      "metadata": {
        "id": "ga0tKoKaYEzN"
      }
    },
    {
      "cell_type": "markdown",
      "source": [
        "#Setup\n"
      ],
      "metadata": {
        "id": "_IQkaTBcaWcE"
      }
    },
    {
      "cell_type": "code",
      "source": [
        "!pip install geopandas"
      ],
      "metadata": {
        "colab": {
          "base_uri": "https://localhost:8080/"
        },
        "id": "jKu1oGpttEHI",
        "outputId": "cf483e27-f89c-44df-df0e-2fe8ed52d462"
      },
      "execution_count": null,
      "outputs": [
        {
          "output_type": "stream",
          "name": "stdout",
          "text": [
            "Collecting geopandas\n",
            "  Downloading geopandas-0.10.2-py2.py3-none-any.whl (1.0 MB)\n",
            "\u001b[?25l\r\u001b[K     |▎                               | 10 kB 27.7 MB/s eta 0:00:01\r\u001b[K     |▋                               | 20 kB 33.7 MB/s eta 0:00:01\r\u001b[K     |█                               | 30 kB 15.1 MB/s eta 0:00:01\r\u001b[K     |█▎                              | 40 kB 11.3 MB/s eta 0:00:01\r\u001b[K     |█▋                              | 51 kB 7.9 MB/s eta 0:00:01\r\u001b[K     |██                              | 61 kB 8.3 MB/s eta 0:00:01\r\u001b[K     |██▎                             | 71 kB 7.1 MB/s eta 0:00:01\r\u001b[K     |██▌                             | 81 kB 7.9 MB/s eta 0:00:01\r\u001b[K     |██▉                             | 92 kB 6.9 MB/s eta 0:00:01\r\u001b[K     |███▏                            | 102 kB 7.3 MB/s eta 0:00:01\r\u001b[K     |███▌                            | 112 kB 7.3 MB/s eta 0:00:01\r\u001b[K     |███▉                            | 122 kB 7.3 MB/s eta 0:00:01\r\u001b[K     |████▏                           | 133 kB 7.3 MB/s eta 0:00:01\r\u001b[K     |████▌                           | 143 kB 7.3 MB/s eta 0:00:01\r\u001b[K     |████▊                           | 153 kB 7.3 MB/s eta 0:00:01\r\u001b[K     |█████                           | 163 kB 7.3 MB/s eta 0:00:01\r\u001b[K     |█████▍                          | 174 kB 7.3 MB/s eta 0:00:01\r\u001b[K     |█████▊                          | 184 kB 7.3 MB/s eta 0:00:01\r\u001b[K     |██████                          | 194 kB 7.3 MB/s eta 0:00:01\r\u001b[K     |██████▍                         | 204 kB 7.3 MB/s eta 0:00:01\r\u001b[K     |██████▊                         | 215 kB 7.3 MB/s eta 0:00:01\r\u001b[K     |███████                         | 225 kB 7.3 MB/s eta 0:00:01\r\u001b[K     |███████▎                        | 235 kB 7.3 MB/s eta 0:00:01\r\u001b[K     |███████▋                        | 245 kB 7.3 MB/s eta 0:00:01\r\u001b[K     |████████                        | 256 kB 7.3 MB/s eta 0:00:01\r\u001b[K     |████████▎                       | 266 kB 7.3 MB/s eta 0:00:01\r\u001b[K     |████████▋                       | 276 kB 7.3 MB/s eta 0:00:01\r\u001b[K     |█████████                       | 286 kB 7.3 MB/s eta 0:00:01\r\u001b[K     |█████████▏                      | 296 kB 7.3 MB/s eta 0:00:01\r\u001b[K     |█████████▌                      | 307 kB 7.3 MB/s eta 0:00:01\r\u001b[K     |█████████▉                      | 317 kB 7.3 MB/s eta 0:00:01\r\u001b[K     |██████████▏                     | 327 kB 7.3 MB/s eta 0:00:01\r\u001b[K     |██████████▌                     | 337 kB 7.3 MB/s eta 0:00:01\r\u001b[K     |██████████▉                     | 348 kB 7.3 MB/s eta 0:00:01\r\u001b[K     |███████████▏                    | 358 kB 7.3 MB/s eta 0:00:01\r\u001b[K     |███████████▍                    | 368 kB 7.3 MB/s eta 0:00:01\r\u001b[K     |███████████▊                    | 378 kB 7.3 MB/s eta 0:00:01\r\u001b[K     |████████████                    | 389 kB 7.3 MB/s eta 0:00:01\r\u001b[K     |████████████▍                   | 399 kB 7.3 MB/s eta 0:00:01\r\u001b[K     |████████████▊                   | 409 kB 7.3 MB/s eta 0:00:01\r\u001b[K     |█████████████                   | 419 kB 7.3 MB/s eta 0:00:01\r\u001b[K     |█████████████▍                  | 430 kB 7.3 MB/s eta 0:00:01\r\u001b[K     |█████████████▋                  | 440 kB 7.3 MB/s eta 0:00:01\r\u001b[K     |██████████████                  | 450 kB 7.3 MB/s eta 0:00:01\r\u001b[K     |██████████████▎                 | 460 kB 7.3 MB/s eta 0:00:01\r\u001b[K     |██████████████▋                 | 471 kB 7.3 MB/s eta 0:00:01\r\u001b[K     |███████████████                 | 481 kB 7.3 MB/s eta 0:00:01\r\u001b[K     |███████████████▎                | 491 kB 7.3 MB/s eta 0:00:01\r\u001b[K     |███████████████▋                | 501 kB 7.3 MB/s eta 0:00:01\r\u001b[K     |███████████████▉                | 512 kB 7.3 MB/s eta 0:00:01\r\u001b[K     |████████████████▏               | 522 kB 7.3 MB/s eta 0:00:01\r\u001b[K     |████████████████▌               | 532 kB 7.3 MB/s eta 0:00:01\r\u001b[K     |████████████████▉               | 542 kB 7.3 MB/s eta 0:00:01\r\u001b[K     |█████████████████▏              | 552 kB 7.3 MB/s eta 0:00:01\r\u001b[K     |█████████████████▌              | 563 kB 7.3 MB/s eta 0:00:01\r\u001b[K     |█████████████████▉              | 573 kB 7.3 MB/s eta 0:00:01\r\u001b[K     |██████████████████              | 583 kB 7.3 MB/s eta 0:00:01\r\u001b[K     |██████████████████▍             | 593 kB 7.3 MB/s eta 0:00:01\r\u001b[K     |██████████████████▊             | 604 kB 7.3 MB/s eta 0:00:01\r\u001b[K     |███████████████████             | 614 kB 7.3 MB/s eta 0:00:01\r\u001b[K     |███████████████████▍            | 624 kB 7.3 MB/s eta 0:00:01\r\u001b[K     |███████████████████▊            | 634 kB 7.3 MB/s eta 0:00:01\r\u001b[K     |████████████████████            | 645 kB 7.3 MB/s eta 0:00:01\r\u001b[K     |████████████████████▎           | 655 kB 7.3 MB/s eta 0:00:01\r\u001b[K     |████████████████████▋           | 665 kB 7.3 MB/s eta 0:00:01\r\u001b[K     |█████████████████████           | 675 kB 7.3 MB/s eta 0:00:01\r\u001b[K     |█████████████████████▎          | 686 kB 7.3 MB/s eta 0:00:01\r\u001b[K     |█████████████████████▋          | 696 kB 7.3 MB/s eta 0:00:01\r\u001b[K     |██████████████████████          | 706 kB 7.3 MB/s eta 0:00:01\r\u001b[K     |██████████████████████▎         | 716 kB 7.3 MB/s eta 0:00:01\r\u001b[K     |██████████████████████▋         | 727 kB 7.3 MB/s eta 0:00:01\r\u001b[K     |██████████████████████▉         | 737 kB 7.3 MB/s eta 0:00:01\r\u001b[K     |███████████████████████▏        | 747 kB 7.3 MB/s eta 0:00:01\r\u001b[K     |███████████████████████▌        | 757 kB 7.3 MB/s eta 0:00:01\r\u001b[K     |███████████████████████▉        | 768 kB 7.3 MB/s eta 0:00:01\r\u001b[K     |████████████████████████▏       | 778 kB 7.3 MB/s eta 0:00:01\r\u001b[K     |████████████████████████▌       | 788 kB 7.3 MB/s eta 0:00:01\r\u001b[K     |████████████████████████▉       | 798 kB 7.3 MB/s eta 0:00:01\r\u001b[K     |█████████████████████████       | 808 kB 7.3 MB/s eta 0:00:01\r\u001b[K     |█████████████████████████▍      | 819 kB 7.3 MB/s eta 0:00:01\r\u001b[K     |█████████████████████████▊      | 829 kB 7.3 MB/s eta 0:00:01\r\u001b[K     |██████████████████████████      | 839 kB 7.3 MB/s eta 0:00:01\r\u001b[K     |██████████████████████████▍     | 849 kB 7.3 MB/s eta 0:00:01\r\u001b[K     |██████████████████████████▊     | 860 kB 7.3 MB/s eta 0:00:01\r\u001b[K     |███████████████████████████     | 870 kB 7.3 MB/s eta 0:00:01\r\u001b[K     |███████████████████████████▎    | 880 kB 7.3 MB/s eta 0:00:01\r\u001b[K     |███████████████████████████▋    | 890 kB 7.3 MB/s eta 0:00:01\r\u001b[K     |████████████████████████████    | 901 kB 7.3 MB/s eta 0:00:01\r\u001b[K     |████████████████████████████▎   | 911 kB 7.3 MB/s eta 0:00:01\r\u001b[K     |████████████████████████████▋   | 921 kB 7.3 MB/s eta 0:00:01\r\u001b[K     |█████████████████████████████   | 931 kB 7.3 MB/s eta 0:00:01\r\u001b[K     |█████████████████████████████▎  | 942 kB 7.3 MB/s eta 0:00:01\r\u001b[K     |█████████████████████████████▌  | 952 kB 7.3 MB/s eta 0:00:01\r\u001b[K     |█████████████████████████████▉  | 962 kB 7.3 MB/s eta 0:00:01\r\u001b[K     |██████████████████████████████▏ | 972 kB 7.3 MB/s eta 0:00:01\r\u001b[K     |██████████████████████████████▌ | 983 kB 7.3 MB/s eta 0:00:01\r\u001b[K     |██████████████████████████████▉ | 993 kB 7.3 MB/s eta 0:00:01\r\u001b[K     |███████████████████████████████▏| 1.0 MB 7.3 MB/s eta 0:00:01\r\u001b[K     |███████████████████████████████▌| 1.0 MB 7.3 MB/s eta 0:00:01\r\u001b[K     |███████████████████████████████▊| 1.0 MB 7.3 MB/s eta 0:00:01\r\u001b[K     |████████████████████████████████| 1.0 MB 7.3 MB/s \n",
            "\u001b[?25hRequirement already satisfied: pandas>=0.25.0 in /usr/local/lib/python3.7/dist-packages (from geopandas) (1.3.5)\n",
            "Collecting fiona>=1.8\n",
            "  Downloading Fiona-1.8.21-cp37-cp37m-manylinux2014_x86_64.whl (16.7 MB)\n",
            "\u001b[K     |████████████████████████████████| 16.7 MB 31.6 MB/s \n",
            "\u001b[?25hRequirement already satisfied: shapely>=1.6 in /usr/local/lib/python3.7/dist-packages (from geopandas) (1.8.0)\n",
            "Collecting pyproj>=2.2.0\n",
            "  Downloading pyproj-3.2.1-cp37-cp37m-manylinux2010_x86_64.whl (6.3 MB)\n",
            "\u001b[K     |████████████████████████████████| 6.3 MB 16.6 MB/s \n",
            "\u001b[?25hRequirement already satisfied: six>=1.7 in /usr/local/lib/python3.7/dist-packages (from fiona>=1.8->geopandas) (1.15.0)\n",
            "Requirement already satisfied: attrs>=17 in /usr/local/lib/python3.7/dist-packages (from fiona>=1.8->geopandas) (21.4.0)\n",
            "Collecting click-plugins>=1.0\n",
            "  Downloading click_plugins-1.1.1-py2.py3-none-any.whl (7.5 kB)\n",
            "Requirement already satisfied: click>=4.0 in /usr/local/lib/python3.7/dist-packages (from fiona>=1.8->geopandas) (7.1.2)\n",
            "Collecting munch\n",
            "  Downloading munch-2.5.0-py2.py3-none-any.whl (10 kB)\n",
            "Requirement already satisfied: certifi in /usr/local/lib/python3.7/dist-packages (from fiona>=1.8->geopandas) (2021.10.8)\n",
            "Requirement already satisfied: setuptools in /usr/local/lib/python3.7/dist-packages (from fiona>=1.8->geopandas) (57.4.0)\n",
            "Collecting cligj>=0.5\n",
            "  Downloading cligj-0.7.2-py3-none-any.whl (7.1 kB)\n",
            "Requirement already satisfied: python-dateutil>=2.7.3 in /usr/local/lib/python3.7/dist-packages (from pandas>=0.25.0->geopandas) (2.8.2)\n",
            "Requirement already satisfied: numpy>=1.17.3 in /usr/local/lib/python3.7/dist-packages (from pandas>=0.25.0->geopandas) (1.19.5)\n",
            "Requirement already satisfied: pytz>=2017.3 in /usr/local/lib/python3.7/dist-packages (from pandas>=0.25.0->geopandas) (2018.9)\n",
            "Installing collected packages: munch, cligj, click-plugins, pyproj, fiona, geopandas\n",
            "Successfully installed click-plugins-1.1.1 cligj-0.7.2 fiona-1.8.21 geopandas-0.10.2 munch-2.5.0 pyproj-3.2.1\n"
          ]
        }
      ]
    },
    {
      "cell_type": "code",
      "source": [
        "!pip install cartopy"
      ],
      "metadata": {
        "colab": {
          "base_uri": "https://localhost:8080/"
        },
        "id": "UWGIWw--M5Wi",
        "outputId": "e175eae8-22f4-47fc-932d-a68e8636b10b"
      },
      "execution_count": null,
      "outputs": [
        {
          "output_type": "stream",
          "name": "stdout",
          "text": [
            "Collecting cartopy\n",
            "  Downloading Cartopy-0.20.2.tar.gz (10.8 MB)\n",
            "\u001b[K     |████████████████████████████████| 10.8 MB 7.8 MB/s \n",
            "\u001b[?25h  Installing build dependencies ... \u001b[?25l\u001b[?25hdone\n",
            "  Getting requirements to build wheel ... \u001b[?25l\u001b[?25herror\n",
            "\u001b[33mWARNING: Discarding https://files.pythonhosted.org/packages/f6/55/1e1c737dc9436b320deead73d1c455ddbb74b8b6992081863492f6f6378a/Cartopy-0.20.2.tar.gz#sha256=4d08c198ecaa50a6a6b109d0f14c070e813defc046a83ac5d7ab494f85599e35 (from https://pypi.org/simple/cartopy/) (requires-python:>=3.7). Command errored out with exit status 1: /usr/bin/python3 /usr/local/lib/python3.7/dist-packages/pip/_vendor/pep517/in_process/_in_process.py get_requires_for_build_wheel /tmp/tmpgxvldhs6 Check the logs for full command output.\u001b[0m\n",
            "  Downloading Cartopy-0.20.1.tar.gz (10.8 MB)\n",
            "\u001b[K     |████████████████████████████████| 10.8 MB 21.2 MB/s \n",
            "\u001b[?25h  Installing build dependencies ... \u001b[?25l\u001b[?25hdone\n",
            "  Getting requirements to build wheel ... \u001b[?25l\u001b[?25herror\n",
            "\u001b[33mWARNING: Discarding https://files.pythonhosted.org/packages/fc/59/aa52698e3838f4cd0e7eaa75bd86837e9e0b05041dbdaee3cda2fffced06/Cartopy-0.20.1.tar.gz#sha256=91f87b130e2574547a20cd634498df97d797abd12dcfd0235bc0cdbcec8b05e3 (from https://pypi.org/simple/cartopy/) (requires-python:>=3.7). Command errored out with exit status 1: /usr/bin/python3 /usr/local/lib/python3.7/dist-packages/pip/_vendor/pep517/in_process/_in_process.py get_requires_for_build_wheel /tmp/tmprvp3a68m Check the logs for full command output.\u001b[0m\n",
            "  Downloading Cartopy-0.20.0.tar.gz (10.8 MB)\n",
            "\u001b[K     |████████████████████████████████| 10.8 MB 32.9 MB/s \n",
            "\u001b[?25h  Installing build dependencies ... \u001b[?25l\u001b[?25hdone\n",
            "  Getting requirements to build wheel ... \u001b[?25l\u001b[?25herror\n",
            "\u001b[33mWARNING: Discarding https://files.pythonhosted.org/packages/0f/c0/58453b036e79046d211f083880d58dcce787e7e07647ac25dc46c6555099/Cartopy-0.20.0.tar.gz#sha256=eae58aff26806e63cf115b2bce9477cedc4aa9f578c5e477b2c25cfa404f2b7a (from https://pypi.org/simple/cartopy/) (requires-python:>=3.7). Command errored out with exit status 1: /usr/bin/python3 /usr/local/lib/python3.7/dist-packages/pip/_vendor/pep517/in_process/_in_process.py get_requires_for_build_wheel /tmp/tmp4qzqlehr Check the logs for full command output.\u001b[0m\n",
            "  Downloading Cartopy-0.19.0.post1.tar.gz (12.1 MB)\n",
            "\u001b[K     |████████████████████████████████| 12.1 MB 24.1 MB/s \n",
            "\u001b[?25h  Installing build dependencies ... \u001b[?25l\u001b[?25hdone\n",
            "  Getting requirements to build wheel ... \u001b[?25l\u001b[?25hdone\n",
            "    Preparing wheel metadata ... \u001b[?25l\u001b[?25hdone\n",
            "Requirement already satisfied: shapely>=1.5.6 in /usr/local/lib/python3.7/dist-packages (from cartopy) (1.8.0)\n",
            "Collecting pyshp>=2\n",
            "  Downloading pyshp-2.2.0-py3-none-any.whl (44 kB)\n",
            "\u001b[K     |████████████████████████████████| 44 kB 3.0 MB/s \n",
            "\u001b[?25hRequirement already satisfied: numpy>=1.13.3 in /usr/local/lib/python3.7/dist-packages (from cartopy) (1.19.5)\n",
            "Building wheels for collected packages: cartopy\n",
            "  Building wheel for cartopy (PEP 517) ... \u001b[?25l\u001b[?25hdone\n",
            "  Created wheel for cartopy: filename=Cartopy-0.19.0.post1-cp37-cp37m-linux_x86_64.whl size=12516300 sha256=d137273ff4126d5f64671922aa3957308bddd1354ae6d0c8ad815fb900d6d8db\n",
            "  Stored in directory: /root/.cache/pip/wheels/98/01/f7/bd10aeb96fe4b518cde5f7c4f5e12c7202f85b7353a5017847\n",
            "Successfully built cartopy\n",
            "Installing collected packages: pyshp, cartopy\n",
            "Successfully installed cartopy-0.19.0.post1 pyshp-2.2.0\n"
          ]
        }
      ]
    },
    {
      "cell_type": "code",
      "source": [
        "# importing the required library\n",
        "import pandas as pd\n",
        "import matplotlib.pyplot as plt\n",
        "import seaborn as sns\n",
        "import numpy as np\n",
        "import plotly.express as px \n",
        "import geopandas as gpd\n"
      ],
      "metadata": {
        "id": "q8yOozcSag8Y"
      },
      "execution_count": null,
      "outputs": []
    },
    {
      "cell_type": "code",
      "source": [
        "from statsmodels.graphics.tsaplots import plot_acf, plot_pacf\n",
        "from statsmodels.tsa.statespace.varmax import VARMAX\n",
        "from statsmodels.tsa.api import VAR\n",
        "from statsmodels.tsa.stattools import grangercausalitytests, adfuller\n",
        "from tqdm import tqdm_notebook\n",
        "from itertools import product\n",
        "\n",
        "import matplotlib.pyplot as plt\n",
        "import statsmodels.api as sm\n",
        "import pandas as pd\n",
        "import numpy as np\n",
        "from datetime import datetime,date\n",
        "\n",
        "import warnings\n",
        "warnings.filterwarnings('ignore')\n",
        "\n",
        "from sklearn.metrics import mean_squared_error\n",
        "import math \n",
        "from statistics import mean\n"
      ],
      "metadata": {
        "id": "2Oxh6YGk9_E4",
        "colab": {
          "base_uri": "https://localhost:8080/"
        },
        "outputId": "a4851a3e-65c1-4a34-d20d-3138efa645ca"
      },
      "execution_count": null,
      "outputs": [
        {
          "output_type": "stream",
          "name": "stderr",
          "text": [
            "/usr/local/lib/python3.7/dist-packages/statsmodels/tools/_testing.py:19: FutureWarning: pandas.util.testing is deprecated. Use the functions in the public API at pandas.testing instead.\n",
            "  import pandas.util.testing as tm\n"
          ]
        }
      ]
    },
    {
      "cell_type": "markdown",
      "source": [
        "#data exploration"
      ],
      "metadata": {
        "id": "WLjmw5daaUa8"
      }
    },
    {
      "cell_type": "code",
      "execution_count": null,
      "metadata": {
        "id": "Y1my_EQ-YDjQ"
      },
      "outputs": [],
      "source": [
        "df = pd.read_csv('/content/ibtracs.NA.list.v04r00.csv')"
      ]
    },
    {
      "cell_type": "code",
      "source": [
        "df.head(3)"
      ],
      "metadata": {
        "colab": {
          "base_uri": "https://localhost:8080/",
          "height": 306
        },
        "id": "VCBUGKA7bZWR",
        "outputId": "8395e463-49e1-4ce5-86ac-3da469a980b9"
      },
      "execution_count": null,
      "outputs": [
        {
          "output_type": "execute_result",
          "data": {
            "text/html": [
              "\n",
              "  <div id=\"df-a870921e-a269-49e9-ac7e-0fb85d22b659\">\n",
              "    <div class=\"colab-df-container\">\n",
              "      <div>\n",
              "<style scoped>\n",
              "    .dataframe tbody tr th:only-of-type {\n",
              "        vertical-align: middle;\n",
              "    }\n",
              "\n",
              "    .dataframe tbody tr th {\n",
              "        vertical-align: top;\n",
              "    }\n",
              "\n",
              "    .dataframe thead th {\n",
              "        text-align: right;\n",
              "    }\n",
              "</style>\n",
              "<table border=\"1\" class=\"dataframe\">\n",
              "  <thead>\n",
              "    <tr style=\"text-align: right;\">\n",
              "      <th></th>\n",
              "      <th>SID</th>\n",
              "      <th>SEASON</th>\n",
              "      <th>NUMBER</th>\n",
              "      <th>BASIN</th>\n",
              "      <th>SUBBASIN</th>\n",
              "      <th>NAME</th>\n",
              "      <th>ISO_TIME</th>\n",
              "      <th>NATURE</th>\n",
              "      <th>LAT</th>\n",
              "      <th>LON</th>\n",
              "      <th>WMO_WIND</th>\n",
              "      <th>WMO_PRES</th>\n",
              "      <th>WMO_AGENCY</th>\n",
              "      <th>TRACK_TYPE</th>\n",
              "      <th>DIST2LAND</th>\n",
              "      <th>LANDFALL</th>\n",
              "      <th>IFLAG</th>\n",
              "      <th>USA_AGENCY</th>\n",
              "      <th>USA_ATCF_ID</th>\n",
              "      <th>USA_LAT</th>\n",
              "      <th>USA_LON</th>\n",
              "      <th>USA_RECORD</th>\n",
              "      <th>USA_STATUS</th>\n",
              "      <th>USA_WIND</th>\n",
              "      <th>USA_PRES</th>\n",
              "      <th>USA_SSHS</th>\n",
              "      <th>USA_R34_NE</th>\n",
              "      <th>USA_R34_SE</th>\n",
              "      <th>USA_R34_SW</th>\n",
              "      <th>USA_R34_NW</th>\n",
              "      <th>USA_R50_NE</th>\n",
              "      <th>USA_R50_SE</th>\n",
              "      <th>USA_R50_SW</th>\n",
              "      <th>USA_R50_NW</th>\n",
              "      <th>USA_R64_NE</th>\n",
              "      <th>USA_R64_SE</th>\n",
              "      <th>USA_R64_SW</th>\n",
              "      <th>USA_R64_NW</th>\n",
              "      <th>USA_POCI</th>\n",
              "      <th>USA_ROCI</th>\n",
              "      <th>...</th>\n",
              "      <th>WELLINGTON_LON</th>\n",
              "      <th>WELLINGTON_WIND</th>\n",
              "      <th>WELLINGTON_PRES</th>\n",
              "      <th>DS824_LAT</th>\n",
              "      <th>DS824_LON</th>\n",
              "      <th>DS824_STAGE</th>\n",
              "      <th>DS824_WIND</th>\n",
              "      <th>DS824_PRES</th>\n",
              "      <th>TD9636_LAT</th>\n",
              "      <th>TD9636_LON</th>\n",
              "      <th>TD9636_STAGE</th>\n",
              "      <th>TD9636_WIND</th>\n",
              "      <th>TD9636_PRES</th>\n",
              "      <th>TD9635_LAT</th>\n",
              "      <th>TD9635_LON</th>\n",
              "      <th>TD9635_WIND</th>\n",
              "      <th>TD9635_PRES</th>\n",
              "      <th>TD9635_ROCI</th>\n",
              "      <th>NEUMANN_LAT</th>\n",
              "      <th>NEUMANN_LON</th>\n",
              "      <th>NEUMANN_CLASS</th>\n",
              "      <th>NEUMANN_WIND</th>\n",
              "      <th>NEUMANN_PRES</th>\n",
              "      <th>MLC_LAT</th>\n",
              "      <th>MLC_LON</th>\n",
              "      <th>MLC_CLASS</th>\n",
              "      <th>MLC_WIND</th>\n",
              "      <th>MLC_PRES</th>\n",
              "      <th>USA_GUST</th>\n",
              "      <th>BOM_GUST</th>\n",
              "      <th>BOM_GUST_PER</th>\n",
              "      <th>REUNION_GUST</th>\n",
              "      <th>REUNION_GUST_PER</th>\n",
              "      <th>USA_SEAHGT</th>\n",
              "      <th>USA_SEARAD_NE</th>\n",
              "      <th>USA_SEARAD_SE</th>\n",
              "      <th>USA_SEARAD_SW</th>\n",
              "      <th>USA_SEARAD_NW</th>\n",
              "      <th>STORM_SPEED</th>\n",
              "      <th>STORM_DIR</th>\n",
              "    </tr>\n",
              "  </thead>\n",
              "  <tbody>\n",
              "    <tr>\n",
              "      <th>0</th>\n",
              "      <td></td>\n",
              "      <td>Year</td>\n",
              "      <td></td>\n",
              "      <td></td>\n",
              "      <td></td>\n",
              "      <td></td>\n",
              "      <td></td>\n",
              "      <td></td>\n",
              "      <td>degrees_north</td>\n",
              "      <td>degrees_east</td>\n",
              "      <td>kts</td>\n",
              "      <td>mb</td>\n",
              "      <td></td>\n",
              "      <td></td>\n",
              "      <td>km</td>\n",
              "      <td>km</td>\n",
              "      <td></td>\n",
              "      <td></td>\n",
              "      <td></td>\n",
              "      <td>degrees_north</td>\n",
              "      <td>degrees_east</td>\n",
              "      <td></td>\n",
              "      <td></td>\n",
              "      <td>kts</td>\n",
              "      <td>mb</td>\n",
              "      <td>1</td>\n",
              "      <td>nmile</td>\n",
              "      <td>nmile</td>\n",
              "      <td>nmile</td>\n",
              "      <td>nmile</td>\n",
              "      <td>nmile</td>\n",
              "      <td>nmile</td>\n",
              "      <td>nmile</td>\n",
              "      <td>nmile</td>\n",
              "      <td>nmile</td>\n",
              "      <td>nmile</td>\n",
              "      <td>nmile</td>\n",
              "      <td>nmile</td>\n",
              "      <td>mb</td>\n",
              "      <td>nmile</td>\n",
              "      <td>...</td>\n",
              "      <td>degrees_east</td>\n",
              "      <td>kts</td>\n",
              "      <td>mb</td>\n",
              "      <td>degrees_north</td>\n",
              "      <td>degrees_east</td>\n",
              "      <td></td>\n",
              "      <td>kts</td>\n",
              "      <td>mb</td>\n",
              "      <td>degrees_north</td>\n",
              "      <td>degrees_east</td>\n",
              "      <td></td>\n",
              "      <td>kts</td>\n",
              "      <td>mb</td>\n",
              "      <td>degrees_north</td>\n",
              "      <td>degrees_east</td>\n",
              "      <td>kts</td>\n",
              "      <td>mb</td>\n",
              "      <td>nmile</td>\n",
              "      <td>degrees_north</td>\n",
              "      <td>degrees_east</td>\n",
              "      <td></td>\n",
              "      <td>kts</td>\n",
              "      <td>mb</td>\n",
              "      <td>degrees_north</td>\n",
              "      <td>degrees_east</td>\n",
              "      <td></td>\n",
              "      <td>kts</td>\n",
              "      <td>mb</td>\n",
              "      <td>kts</td>\n",
              "      <td>kts</td>\n",
              "      <td>second</td>\n",
              "      <td>kts</td>\n",
              "      <td>second</td>\n",
              "      <td>ft</td>\n",
              "      <td>nmile</td>\n",
              "      <td>nmile</td>\n",
              "      <td>nmile</td>\n",
              "      <td>nmile</td>\n",
              "      <td>kts</td>\n",
              "      <td>degrees</td>\n",
              "    </tr>\n",
              "    <tr>\n",
              "      <th>1</th>\n",
              "      <td>1851175N26270</td>\n",
              "      <td>1851</td>\n",
              "      <td>5</td>\n",
              "      <td>NaN</td>\n",
              "      <td>GM</td>\n",
              "      <td>NOT_NAMED</td>\n",
              "      <td>1851-06-23 12:00:00</td>\n",
              "      <td>TS</td>\n",
              "      <td>26.1000</td>\n",
              "      <td>-90.4000</td>\n",
              "      <td></td>\n",
              "      <td></td>\n",
              "      <td></td>\n",
              "      <td>main</td>\n",
              "      <td>335</td>\n",
              "      <td>323</td>\n",
              "      <td>_____________O</td>\n",
              "      <td></td>\n",
              "      <td></td>\n",
              "      <td></td>\n",
              "      <td></td>\n",
              "      <td></td>\n",
              "      <td></td>\n",
              "      <td></td>\n",
              "      <td></td>\n",
              "      <td>-5</td>\n",
              "      <td></td>\n",
              "      <td></td>\n",
              "      <td></td>\n",
              "      <td></td>\n",
              "      <td></td>\n",
              "      <td></td>\n",
              "      <td></td>\n",
              "      <td></td>\n",
              "      <td></td>\n",
              "      <td></td>\n",
              "      <td></td>\n",
              "      <td></td>\n",
              "      <td></td>\n",
              "      <td></td>\n",
              "      <td>...</td>\n",
              "      <td></td>\n",
              "      <td></td>\n",
              "      <td></td>\n",
              "      <td></td>\n",
              "      <td></td>\n",
              "      <td></td>\n",
              "      <td></td>\n",
              "      <td></td>\n",
              "      <td></td>\n",
              "      <td></td>\n",
              "      <td></td>\n",
              "      <td></td>\n",
              "      <td></td>\n",
              "      <td></td>\n",
              "      <td></td>\n",
              "      <td></td>\n",
              "      <td></td>\n",
              "      <td></td>\n",
              "      <td></td>\n",
              "      <td></td>\n",
              "      <td></td>\n",
              "      <td></td>\n",
              "      <td></td>\n",
              "      <td>26.1000</td>\n",
              "      <td>-90.4000</td>\n",
              "      <td>TD</td>\n",
              "      <td>30</td>\n",
              "      <td></td>\n",
              "      <td></td>\n",
              "      <td></td>\n",
              "      <td></td>\n",
              "      <td></td>\n",
              "      <td></td>\n",
              "      <td></td>\n",
              "      <td></td>\n",
              "      <td></td>\n",
              "      <td></td>\n",
              "      <td></td>\n",
              "      <td>6</td>\n",
              "      <td>291</td>\n",
              "    </tr>\n",
              "    <tr>\n",
              "      <th>2</th>\n",
              "      <td>1851175N26270</td>\n",
              "      <td>1851</td>\n",
              "      <td>5</td>\n",
              "      <td>NaN</td>\n",
              "      <td>GM</td>\n",
              "      <td>NOT_NAMED</td>\n",
              "      <td>1851-06-23 15:00:00</td>\n",
              "      <td>TS</td>\n",
              "      <td>26.2001</td>\n",
              "      <td>-90.6999</td>\n",
              "      <td></td>\n",
              "      <td></td>\n",
              "      <td></td>\n",
              "      <td>main</td>\n",
              "      <td>323</td>\n",
              "      <td>312</td>\n",
              "      <td>_____________P</td>\n",
              "      <td></td>\n",
              "      <td></td>\n",
              "      <td></td>\n",
              "      <td></td>\n",
              "      <td></td>\n",
              "      <td></td>\n",
              "      <td></td>\n",
              "      <td></td>\n",
              "      <td>-5</td>\n",
              "      <td></td>\n",
              "      <td></td>\n",
              "      <td></td>\n",
              "      <td></td>\n",
              "      <td></td>\n",
              "      <td></td>\n",
              "      <td></td>\n",
              "      <td></td>\n",
              "      <td></td>\n",
              "      <td></td>\n",
              "      <td></td>\n",
              "      <td></td>\n",
              "      <td></td>\n",
              "      <td></td>\n",
              "      <td>...</td>\n",
              "      <td></td>\n",
              "      <td></td>\n",
              "      <td></td>\n",
              "      <td></td>\n",
              "      <td></td>\n",
              "      <td></td>\n",
              "      <td></td>\n",
              "      <td></td>\n",
              "      <td></td>\n",
              "      <td></td>\n",
              "      <td></td>\n",
              "      <td></td>\n",
              "      <td></td>\n",
              "      <td></td>\n",
              "      <td></td>\n",
              "      <td></td>\n",
              "      <td></td>\n",
              "      <td></td>\n",
              "      <td></td>\n",
              "      <td></td>\n",
              "      <td></td>\n",
              "      <td></td>\n",
              "      <td></td>\n",
              "      <td>26.2001</td>\n",
              "      <td>-90.6999</td>\n",
              "      <td>TD</td>\n",
              "      <td>30</td>\n",
              "      <td></td>\n",
              "      <td></td>\n",
              "      <td></td>\n",
              "      <td></td>\n",
              "      <td></td>\n",
              "      <td></td>\n",
              "      <td></td>\n",
              "      <td></td>\n",
              "      <td></td>\n",
              "      <td></td>\n",
              "      <td></td>\n",
              "      <td>6</td>\n",
              "      <td>290</td>\n",
              "    </tr>\n",
              "  </tbody>\n",
              "</table>\n",
              "<p>3 rows × 163 columns</p>\n",
              "</div>\n",
              "      <button class=\"colab-df-convert\" onclick=\"convertToInteractive('df-a870921e-a269-49e9-ac7e-0fb85d22b659')\"\n",
              "              title=\"Convert this dataframe to an interactive table.\"\n",
              "              style=\"display:none;\">\n",
              "        \n",
              "  <svg xmlns=\"http://www.w3.org/2000/svg\" height=\"24px\"viewBox=\"0 0 24 24\"\n",
              "       width=\"24px\">\n",
              "    <path d=\"M0 0h24v24H0V0z\" fill=\"none\"/>\n",
              "    <path d=\"M18.56 5.44l.94 2.06.94-2.06 2.06-.94-2.06-.94-.94-2.06-.94 2.06-2.06.94zm-11 1L8.5 8.5l.94-2.06 2.06-.94-2.06-.94L8.5 2.5l-.94 2.06-2.06.94zm10 10l.94 2.06.94-2.06 2.06-.94-2.06-.94-.94-2.06-.94 2.06-2.06.94z\"/><path d=\"M17.41 7.96l-1.37-1.37c-.4-.4-.92-.59-1.43-.59-.52 0-1.04.2-1.43.59L10.3 9.45l-7.72 7.72c-.78.78-.78 2.05 0 2.83L4 21.41c.39.39.9.59 1.41.59.51 0 1.02-.2 1.41-.59l7.78-7.78 2.81-2.81c.8-.78.8-2.07 0-2.86zM5.41 20L4 18.59l7.72-7.72 1.47 1.35L5.41 20z\"/>\n",
              "  </svg>\n",
              "      </button>\n",
              "      \n",
              "  <style>\n",
              "    .colab-df-container {\n",
              "      display:flex;\n",
              "      flex-wrap:wrap;\n",
              "      gap: 12px;\n",
              "    }\n",
              "\n",
              "    .colab-df-convert {\n",
              "      background-color: #E8F0FE;\n",
              "      border: none;\n",
              "      border-radius: 50%;\n",
              "      cursor: pointer;\n",
              "      display: none;\n",
              "      fill: #1967D2;\n",
              "      height: 32px;\n",
              "      padding: 0 0 0 0;\n",
              "      width: 32px;\n",
              "    }\n",
              "\n",
              "    .colab-df-convert:hover {\n",
              "      background-color: #E2EBFA;\n",
              "      box-shadow: 0px 1px 2px rgba(60, 64, 67, 0.3), 0px 1px 3px 1px rgba(60, 64, 67, 0.15);\n",
              "      fill: #174EA6;\n",
              "    }\n",
              "\n",
              "    [theme=dark] .colab-df-convert {\n",
              "      background-color: #3B4455;\n",
              "      fill: #D2E3FC;\n",
              "    }\n",
              "\n",
              "    [theme=dark] .colab-df-convert:hover {\n",
              "      background-color: #434B5C;\n",
              "      box-shadow: 0px 1px 3px 1px rgba(0, 0, 0, 0.15);\n",
              "      filter: drop-shadow(0px 1px 2px rgba(0, 0, 0, 0.3));\n",
              "      fill: #FFFFFF;\n",
              "    }\n",
              "  </style>\n",
              "\n",
              "      <script>\n",
              "        const buttonEl =\n",
              "          document.querySelector('#df-a870921e-a269-49e9-ac7e-0fb85d22b659 button.colab-df-convert');\n",
              "        buttonEl.style.display =\n",
              "          google.colab.kernel.accessAllowed ? 'block' : 'none';\n",
              "\n",
              "        async function convertToInteractive(key) {\n",
              "          const element = document.querySelector('#df-a870921e-a269-49e9-ac7e-0fb85d22b659');\n",
              "          const dataTable =\n",
              "            await google.colab.kernel.invokeFunction('convertToInteractive',\n",
              "                                                     [key], {});\n",
              "          if (!dataTable) return;\n",
              "\n",
              "          const docLinkHtml = 'Like what you see? Visit the ' +\n",
              "            '<a target=\"_blank\" href=https://colab.research.google.com/notebooks/data_table.ipynb>data table notebook</a>'\n",
              "            + ' to learn more about interactive tables.';\n",
              "          element.innerHTML = '';\n",
              "          dataTable['output_type'] = 'display_data';\n",
              "          await google.colab.output.renderOutput(dataTable, element);\n",
              "          const docLink = document.createElement('div');\n",
              "          docLink.innerHTML = docLinkHtml;\n",
              "          element.appendChild(docLink);\n",
              "        }\n",
              "      </script>\n",
              "    </div>\n",
              "  </div>\n",
              "  "
            ],
            "text/plain": [
              "             SID SEASON NUMBER  ... USA_SEARAD_NW STORM_SPEED STORM_DIR\n",
              "0                  Year         ...         nmile         kts   degrees\n",
              "1  1851175N26270   1851      5  ...                         6       291\n",
              "2  1851175N26270   1851      5  ...                         6       290\n",
              "\n",
              "[3 rows x 163 columns]"
            ]
          },
          "metadata": {},
          "execution_count": 6
        }
      ]
    },
    {
      "cell_type": "code",
      "source": [
        "df.dtypes"
      ],
      "metadata": {
        "colab": {
          "base_uri": "https://localhost:8080/"
        },
        "id": "ldKXX0itskzB",
        "outputId": "e6efb671-723d-47af-9f15-e3a9dbdf63d0"
      },
      "execution_count": null,
      "outputs": [
        {
          "output_type": "execute_result",
          "data": {
            "text/plain": [
              "SID              object\n",
              "SEASON           object\n",
              "NUMBER           object\n",
              "BASIN            object\n",
              "SUBBASIN         object\n",
              "                  ...  \n",
              "USA_SEARAD_SE    object\n",
              "USA_SEARAD_SW    object\n",
              "USA_SEARAD_NW    object\n",
              "STORM_SPEED      object\n",
              "STORM_DIR        object\n",
              "Length: 163, dtype: object"
            ]
          },
          "metadata": {},
          "execution_count": 7
        }
      ]
    },
    {
      "cell_type": "markdown",
      "source": [
        " ▶ The first line contains the unit of measure ➡ to drop\n",
        "\n",
        " ▶ Scrolling the see the different values for a given row, we find that there are many empty cells (probably missing values) \n",
        " \n",
        " ➡ to explore further"
      ],
      "metadata": {
        "id": "XXLuodUdnZBS"
      }
    },
    {
      "cell_type": "code",
      "source": [
        "df.shape"
      ],
      "metadata": {
        "colab": {
          "base_uri": "https://localhost:8080/"
        },
        "id": "0qNDAG42ZD4D",
        "outputId": "78faa1d2-7082-4b64-89b8-bbef4470c480"
      },
      "execution_count": null,
      "outputs": [
        {
          "output_type": "execute_result",
          "data": {
            "text/plain": [
              "(124139, 163)"
            ]
          },
          "metadata": {},
          "execution_count": 8
        }
      ]
    },
    {
      "cell_type": "code",
      "source": [
        "df.info()"
      ],
      "metadata": {
        "colab": {
          "base_uri": "https://localhost:8080/"
        },
        "id": "Mwks72Gr32Yb",
        "outputId": "a99b122c-48d3-456f-c7c9-4562d9ae6846"
      },
      "execution_count": null,
      "outputs": [
        {
          "output_type": "stream",
          "name": "stdout",
          "text": [
            "<class 'pandas.core.frame.DataFrame'>\n",
            "RangeIndex: 124139 entries, 0 to 124138\n",
            "Columns: 163 entries, SID to STORM_DIR\n",
            "dtypes: int64(1), object(162)\n",
            "memory usage: 154.4+ MB\n"
          ]
        }
      ]
    },
    {
      "cell_type": "code",
      "metadata": {
        "colab": {
          "base_uri": "https://localhost:8080/",
          "height": 300
        },
        "id": "33cwjcXEbgoV",
        "outputId": "fedae57f-d82f-462e-bc30-5c2ae9952c9c"
      },
      "source": [
        "df.describe()"
      ],
      "execution_count": null,
      "outputs": [
        {
          "output_type": "execute_result",
          "data": {
            "text/html": [
              "\n",
              "  <div id=\"df-5b1817b5-0556-48b4-b44f-cf4242f2ee58\">\n",
              "    <div class=\"colab-df-container\">\n",
              "      <div>\n",
              "<style scoped>\n",
              "    .dataframe tbody tr th:only-of-type {\n",
              "        vertical-align: middle;\n",
              "    }\n",
              "\n",
              "    .dataframe tbody tr th {\n",
              "        vertical-align: top;\n",
              "    }\n",
              "\n",
              "    .dataframe thead th {\n",
              "        text-align: right;\n",
              "    }\n",
              "</style>\n",
              "<table border=\"1\" class=\"dataframe\">\n",
              "  <thead>\n",
              "    <tr style=\"text-align: right;\">\n",
              "      <th></th>\n",
              "      <th>USA_SSHS</th>\n",
              "    </tr>\n",
              "  </thead>\n",
              "  <tbody>\n",
              "    <tr>\n",
              "      <th>count</th>\n",
              "      <td>124139.000000</td>\n",
              "    </tr>\n",
              "    <tr>\n",
              "      <th>mean</th>\n",
              "      <td>-1.024118</td>\n",
              "    </tr>\n",
              "    <tr>\n",
              "      <th>std</th>\n",
              "      <td>2.432623</td>\n",
              "    </tr>\n",
              "    <tr>\n",
              "      <th>min</th>\n",
              "      <td>-5.000000</td>\n",
              "    </tr>\n",
              "    <tr>\n",
              "      <th>25%</th>\n",
              "      <td>-3.000000</td>\n",
              "    </tr>\n",
              "    <tr>\n",
              "      <th>50%</th>\n",
              "      <td>0.000000</td>\n",
              "    </tr>\n",
              "    <tr>\n",
              "      <th>75%</th>\n",
              "      <td>0.000000</td>\n",
              "    </tr>\n",
              "    <tr>\n",
              "      <th>max</th>\n",
              "      <td>5.000000</td>\n",
              "    </tr>\n",
              "  </tbody>\n",
              "</table>\n",
              "</div>\n",
              "      <button class=\"colab-df-convert\" onclick=\"convertToInteractive('df-5b1817b5-0556-48b4-b44f-cf4242f2ee58')\"\n",
              "              title=\"Convert this dataframe to an interactive table.\"\n",
              "              style=\"display:none;\">\n",
              "        \n",
              "  <svg xmlns=\"http://www.w3.org/2000/svg\" height=\"24px\"viewBox=\"0 0 24 24\"\n",
              "       width=\"24px\">\n",
              "    <path d=\"M0 0h24v24H0V0z\" fill=\"none\"/>\n",
              "    <path d=\"M18.56 5.44l.94 2.06.94-2.06 2.06-.94-2.06-.94-.94-2.06-.94 2.06-2.06.94zm-11 1L8.5 8.5l.94-2.06 2.06-.94-2.06-.94L8.5 2.5l-.94 2.06-2.06.94zm10 10l.94 2.06.94-2.06 2.06-.94-2.06-.94-.94-2.06-.94 2.06-2.06.94z\"/><path d=\"M17.41 7.96l-1.37-1.37c-.4-.4-.92-.59-1.43-.59-.52 0-1.04.2-1.43.59L10.3 9.45l-7.72 7.72c-.78.78-.78 2.05 0 2.83L4 21.41c.39.39.9.59 1.41.59.51 0 1.02-.2 1.41-.59l7.78-7.78 2.81-2.81c.8-.78.8-2.07 0-2.86zM5.41 20L4 18.59l7.72-7.72 1.47 1.35L5.41 20z\"/>\n",
              "  </svg>\n",
              "      </button>\n",
              "      \n",
              "  <style>\n",
              "    .colab-df-container {\n",
              "      display:flex;\n",
              "      flex-wrap:wrap;\n",
              "      gap: 12px;\n",
              "    }\n",
              "\n",
              "    .colab-df-convert {\n",
              "      background-color: #E8F0FE;\n",
              "      border: none;\n",
              "      border-radius: 50%;\n",
              "      cursor: pointer;\n",
              "      display: none;\n",
              "      fill: #1967D2;\n",
              "      height: 32px;\n",
              "      padding: 0 0 0 0;\n",
              "      width: 32px;\n",
              "    }\n",
              "\n",
              "    .colab-df-convert:hover {\n",
              "      background-color: #E2EBFA;\n",
              "      box-shadow: 0px 1px 2px rgba(60, 64, 67, 0.3), 0px 1px 3px 1px rgba(60, 64, 67, 0.15);\n",
              "      fill: #174EA6;\n",
              "    }\n",
              "\n",
              "    [theme=dark] .colab-df-convert {\n",
              "      background-color: #3B4455;\n",
              "      fill: #D2E3FC;\n",
              "    }\n",
              "\n",
              "    [theme=dark] .colab-df-convert:hover {\n",
              "      background-color: #434B5C;\n",
              "      box-shadow: 0px 1px 3px 1px rgba(0, 0, 0, 0.15);\n",
              "      filter: drop-shadow(0px 1px 2px rgba(0, 0, 0, 0.3));\n",
              "      fill: #FFFFFF;\n",
              "    }\n",
              "  </style>\n",
              "\n",
              "      <script>\n",
              "        const buttonEl =\n",
              "          document.querySelector('#df-5b1817b5-0556-48b4-b44f-cf4242f2ee58 button.colab-df-convert');\n",
              "        buttonEl.style.display =\n",
              "          google.colab.kernel.accessAllowed ? 'block' : 'none';\n",
              "\n",
              "        async function convertToInteractive(key) {\n",
              "          const element = document.querySelector('#df-5b1817b5-0556-48b4-b44f-cf4242f2ee58');\n",
              "          const dataTable =\n",
              "            await google.colab.kernel.invokeFunction('convertToInteractive',\n",
              "                                                     [key], {});\n",
              "          if (!dataTable) return;\n",
              "\n",
              "          const docLinkHtml = 'Like what you see? Visit the ' +\n",
              "            '<a target=\"_blank\" href=https://colab.research.google.com/notebooks/data_table.ipynb>data table notebook</a>'\n",
              "            + ' to learn more about interactive tables.';\n",
              "          element.innerHTML = '';\n",
              "          dataTable['output_type'] = 'display_data';\n",
              "          await google.colab.output.renderOutput(dataTable, element);\n",
              "          const docLink = document.createElement('div');\n",
              "          docLink.innerHTML = docLinkHtml;\n",
              "          element.appendChild(docLink);\n",
              "        }\n",
              "      </script>\n",
              "    </div>\n",
              "  </div>\n",
              "  "
            ],
            "text/plain": [
              "            USA_SSHS\n",
              "count  124139.000000\n",
              "mean       -1.024118\n",
              "std         2.432623\n",
              "min        -5.000000\n",
              "25%        -3.000000\n",
              "50%         0.000000\n",
              "75%         0.000000\n",
              "max         5.000000"
            ]
          },
          "metadata": {},
          "execution_count": 10
        }
      ]
    },
    {
      "cell_type": "markdown",
      "source": [
        "▶ We have one numeric column amoth the 163 columns.\n",
        "\n",
        "**▶Information about USA_SSHS:**\n",
        "\n",
        "Saffir-Simpson Hurricane Scale information based on the wind speed provided by the US agency\n",
        "wind speed (US agencies provide 1-minute wind speeds)\n",
        "\n"
      ],
      "metadata": {
        "id": "782vpRlIhtfq"
      }
    },
    {
      "cell_type": "code",
      "source": [
        "df.columns"
      ],
      "metadata": {
        "colab": {
          "base_uri": "https://localhost:8080/"
        },
        "id": "5gevW-kgi_Wk",
        "outputId": "74a23e4f-12fc-4f87-f614-fbf5b25e123c"
      },
      "execution_count": null,
      "outputs": [
        {
          "output_type": "execute_result",
          "data": {
            "text/plain": [
              "Index(['SID', 'SEASON', 'NUMBER', 'BASIN', 'SUBBASIN', 'NAME', 'ISO_TIME',\n",
              "       'NATURE', 'LAT', 'LON',\n",
              "       ...\n",
              "       'BOM_GUST_PER', 'REUNION_GUST', 'REUNION_GUST_PER', 'USA_SEAHGT',\n",
              "       'USA_SEARAD_NE', 'USA_SEARAD_SE', 'USA_SEARAD_SW', 'USA_SEARAD_NW',\n",
              "       'STORM_SPEED', 'STORM_DIR'],\n",
              "      dtype='object', length=163)"
            ]
          },
          "metadata": {},
          "execution_count": 11
        }
      ]
    },
    {
      "cell_type": "code",
      "source": [
        "df.isnull().sum()"
      ],
      "metadata": {
        "colab": {
          "base_uri": "https://localhost:8080/"
        },
        "id": "Rp1PZASKzKPo",
        "outputId": "d9c09e54-449f-432b-8d48-9e4c02b1b91e"
      },
      "execution_count": null,
      "outputs": [
        {
          "output_type": "execute_result",
          "data": {
            "text/plain": [
              "SID                   0\n",
              "SEASON                0\n",
              "NUMBER                0\n",
              "BASIN            123617\n",
              "SUBBASIN          94476\n",
              "                  ...  \n",
              "USA_SEARAD_SE         0\n",
              "USA_SEARAD_SW         0\n",
              "USA_SEARAD_NW         0\n",
              "STORM_SPEED           0\n",
              "STORM_DIR             0\n",
              "Length: 163, dtype: int64"
            ]
          },
          "metadata": {},
          "execution_count": 12
        }
      ]
    },
    {
      "cell_type": "code",
      "source": [
        "#exploring columns having missing values\n",
        "\n",
        "ncounts = pd.DataFrame([df.isna().mean()]).T\n",
        "ncounts\n",
        "ncounts = ncounts.rename(columns={0: \"df_missing\"})\n",
        "\n",
        "ncounts.query(\"df_missing > 0\").plot(\n",
        "    kind=\"barh\", figsize=(8, 5), title=\"% of Values Missing\"\n",
        ")\n",
        "plt.show()"
      ],
      "metadata": {
        "colab": {
          "base_uri": "https://localhost:8080/",
          "height": 336
        },
        "id": "jXyVyBx3hU8m",
        "outputId": "b5a89f97-6ad8-427b-fc35-36b476b80f32"
      },
      "execution_count": null,
      "outputs": [
        {
          "output_type": "display_data",
          "data": {
            "image/png": "[encoded data removed]",
            "text/plain": [
              "<Figure size 576x360 with 1 Axes>"
            ]
          },
          "metadata": {
            "needs_background": "light"
          }
        }
      ]
    },
    {
      "cell_type": "markdown",
      "source": [
        "*BASIN* Basin of the current storm position\n",
        "\n",
        "*SUBBASIN* Sub-basin of the current storm position\n",
        "\n",
        "\n",
        "Basins and subbasins include:\n",
        "\n",
        "NA - North Atlantic\n",
        "EP - Eastern North Pacific\n",
        "WP - Western North Pacific\n",
        "NI - North Indian\n",
        "SI - South Indian\n",
        "SP - Southern Pacific\n",
        "SA - South Atlantic\n"
      ],
      "metadata": {
        "id": "tc-MdD5Fhmng"
      }
    },
    {
      "cell_type": "code",
      "source": [
        "df.BASIN.value_counts()"
      ],
      "metadata": {
        "colab": {
          "base_uri": "https://localhost:8080/"
        },
        "id": "QlZspvJIje1p",
        "outputId": "544a7063-81f1-4937-89d0-8d67a9894f44"
      },
      "execution_count": null,
      "outputs": [
        {
          "output_type": "execute_result",
          "data": {
            "text/plain": [
              "EP    503\n",
              "NI     18\n",
              "        1\n",
              "Name: BASIN, dtype: int64"
            ]
          },
          "metadata": {},
          "execution_count": 14
        }
      ]
    },
    {
      "cell_type": "code",
      "source": [
        "df.SUBBASIN.value_counts()"
      ],
      "metadata": {
        "colab": {
          "base_uri": "https://localhost:8080/"
        },
        "id": "LKJgchvhkr1k",
        "outputId": "3ca54a47-dc3c-4c7d-e78d-e22fce202c14"
      },
      "execution_count": null,
      "outputs": [
        {
          "output_type": "execute_result",
          "data": {
            "text/plain": [
              "CS    15497\n",
              "GM    13644\n",
              "MM      503\n",
              "AS       18\n",
              "          1\n",
              "Name: SUBBASIN, dtype: int64"
            ]
          },
          "metadata": {},
          "execution_count": 15
        }
      ]
    },
    {
      "cell_type": "markdown",
      "source": [
        "Conclusion :\n",
        "\n",
        "▶ Basin is a column filled with 90% of NaNs \n",
        "\n",
        "▶ Subbasin is a column filled with 77% of NaNs\n",
        "\n",
        "They cannot hold valuable information ➡ drop them."
      ],
      "metadata": {
        "id": "m6UPhr8LlReP"
      }
    },
    {
      "cell_type": "markdown",
      "source": [
        "#Data Preprocessing"
      ],
      "metadata": {
        "id": "8s01dnGtmv4n"
      }
    },
    {
      "cell_type": "code",
      "source": [
        "#Drop the 2 columns full of NaNs\n",
        "df.drop(['BASIN', 'SUBBASIN'], axis = 1, inplace = True) \n"
      ],
      "metadata": {
        "id": "Q3rz9_ROcJ4e"
      },
      "execution_count": null,
      "outputs": []
    },
    {
      "cell_type": "code",
      "source": [
        "#drop the first line containing the units of measures\n",
        "df.drop(index=0, inplace = True)"
      ],
      "metadata": {
        "id": "MtBi69w5mpYY"
      },
      "execution_count": null,
      "outputs": []
    },
    {
      "cell_type": "code",
      "source": [
        "my_dict={}\n",
        "for col in df.columns :\n",
        "  df_result=df.query( col+\" == ' '\")\n",
        "  count=df_result.shape[0]\n",
        "  my_dict[col]=count/df.shape[0]\n",
        "\n",
        "\n"
      ],
      "metadata": {
        "id": "uHwEXPYZnMYQ"
      },
      "execution_count": null,
      "outputs": []
    },
    {
      "cell_type": "code",
      "source": [
        "my_dict2 = { key: value for key, value in my_dict.items() if value == 1 }\n",
        "my_dict3 = { key: value for key, value in my_dict.items() if value >= 0.7}\n",
        "values = my_dict3.values()\n",
        "keys = my_dict3.keys()\n",
        "print('Count of the columns having all empty values :',len(my_dict2))\n",
        "print('Count of the columns having the count of its empty values >= 0.7  :',len(my_dict3))\n"
      ],
      "metadata": {
        "colab": {
          "base_uri": "https://localhost:8080/"
        },
        "id": "_HuJxLIYtFwj",
        "outputId": "e6ffd56e-7ed8-48ec-8457-886181906cd8"
      },
      "execution_count": null,
      "outputs": [
        {
          "output_type": "stream",
          "name": "stdout",
          "text": [
            "Count of the columns having all empty values : 99\n",
            "Count of the columns having the count of its empty values >= 0.7  : 137\n"
          ]
        }
      ]
    },
    {
      "cell_type": "code",
      "source": [
        "#plot of the count of columns having all empty values\n",
        "plt.figure(figsize=(45,10))\n",
        "plt.xticks(rotation=30, ha='right')\n",
        "plt.bar(keys, values)"
      ],
      "metadata": {
        "colab": {
          "base_uri": "https://localhost:8080/",
          "height": 266
        },
        "id": "aLf5JFDjq6YM",
        "outputId": "106c8d53-3f23-4f3b-a442-5a5b8fe63cea"
      },
      "execution_count": null,
      "outputs": [
        {
          "output_type": "execute_result",
          "data": {
            "text/plain": [
              "<BarContainer object of 137 artists>"
            ]
          },
          "metadata": {},
          "execution_count": 20
        },
        {
          "output_type": "display_data",
          "data": {
            "image/png": "[encoded data removed]",
            "text/plain": [
              "<Figure size 3240x720 with 1 Axes>"
            ]
          },
          "metadata": {
            "needs_background": "light"
          }
        }
      ]
    },
    {
      "cell_type": "markdown",
      "source": [
        "Great revelation here !\n",
        "We choose to drop all the columns havig more than or equal to 0.7 empty values since they cannot hold any information."
      ],
      "metadata": {
        "id": "AzO4YSd7CgWN"
      }
    },
    {
      "cell_type": "code",
      "source": [
        "empty_cols= list(keys)\n",
        "df.drop(empty_cols, axis =1 , inplace=True)"
      ],
      "metadata": {
        "id": "8zGyducHDOcl"
      },
      "execution_count": null,
      "outputs": []
    },
    {
      "cell_type": "code",
      "source": [
        "df.shape"
      ],
      "metadata": {
        "colab": {
          "base_uri": "https://localhost:8080/"
        },
        "id": "8GuTdiIsHXLB",
        "outputId": "e35dd1b7-5279-4c05-8f2d-6917d06895fe"
      },
      "execution_count": null,
      "outputs": [
        {
          "output_type": "execute_result",
          "data": {
            "text/plain": [
              "(124138, 24)"
            ]
          },
          "metadata": {},
          "execution_count": 22
        }
      ]
    },
    {
      "cell_type": "code",
      "source": [
        "df.info()"
      ],
      "metadata": {
        "colab": {
          "base_uri": "https://localhost:8080/"
        },
        "id": "NlZy0Tw7Hd6S",
        "outputId": "51705b92-d392-484e-d6f9-ae4a2771d2ae"
      },
      "execution_count": null,
      "outputs": [
        {
          "output_type": "stream",
          "name": "stdout",
          "text": [
            "<class 'pandas.core.frame.DataFrame'>\n",
            "Int64Index: 124138 entries, 1 to 124138\n",
            "Data columns (total 24 columns):\n",
            " #   Column       Non-Null Count   Dtype \n",
            "---  ------       --------------   ----- \n",
            " 0   SID          124138 non-null  object\n",
            " 1   SEASON       124138 non-null  object\n",
            " 2   NUMBER       124138 non-null  object\n",
            " 3   NAME         124138 non-null  object\n",
            " 4   ISO_TIME     124138 non-null  object\n",
            " 5   NATURE       124138 non-null  object\n",
            " 6   LAT          124138 non-null  object\n",
            " 7   LON          124138 non-null  object\n",
            " 8   WMO_WIND     124138 non-null  object\n",
            " 9   WMO_AGENCY   124138 non-null  object\n",
            " 10  TRACK_TYPE   124138 non-null  object\n",
            " 11  DIST2LAND    124138 non-null  object\n",
            " 12  LANDFALL     124138 non-null  object\n",
            " 13  IFLAG        124138 non-null  object\n",
            " 14  USA_AGENCY   124138 non-null  object\n",
            " 15  USA_ATCF_ID  124138 non-null  object\n",
            " 16  USA_LAT      124138 non-null  object\n",
            " 17  USA_LON      124138 non-null  object\n",
            " 18  USA_STATUS   124138 non-null  object\n",
            " 19  USA_WIND     124138 non-null  object\n",
            " 20  USA_PRES     124138 non-null  object\n",
            " 21  USA_SSHS     124138 non-null  int64 \n",
            " 22  STORM_SPEED  124138 non-null  object\n",
            " 23  STORM_DIR    124138 non-null  object\n",
            "dtypes: int64(1), object(23)\n",
            "memory usage: 23.7+ MB\n"
          ]
        }
      ]
    },
    {
      "cell_type": "markdown",
      "source": [
        "##Exploring the remaining 24 columns"
      ],
      "metadata": {
        "id": "u-fx_G3KKdG6"
      }
    },
    {
      "cell_type": "markdown",
      "source": [
        "##Type Conversion"
      ],
      "metadata": {
        "id": "GCKaAlOPh3qy"
      }
    },
    {
      "cell_type": "markdown",
      "source": [
        "###Converting Object columns to Int/float"
      ],
      "metadata": {
        "id": "K8IOqJMzQIqM"
      }
    },
    {
      "cell_type": "code",
      "source": [
        "numeric_cols=['SEASON',\t'NUMBER','DIST2LAND','LANDFALL', 'STORM_SPEED',\t'STORM_DIR','LAT', 'LON']\n",
        "df[numeric_cols]=df[numeric_cols].apply(pd.to_numeric, errors='coerce')\n"
      ],
      "metadata": {
        "id": "m1a0pvw4QlaY"
      },
      "execution_count": null,
      "outputs": []
    },
    {
      "cell_type": "markdown",
      "source": [
        "###Converting ISO_Time to date time column"
      ],
      "metadata": {
        "id": "Q79yLnS2YeBE"
      }
    },
    {
      "cell_type": "code",
      "source": [
        "df['ISO_TIME'] = pd.to_datetime(df['ISO_TIME'])\n"
      ],
      "metadata": {
        "id": "nqYYyQgpcrPc"
      },
      "execution_count": null,
      "outputs": []
    },
    {
      "cell_type": "code",
      "source": [
        "df.head(6)"
      ],
      "metadata": {
        "colab": {
          "base_uri": "https://localhost:8080/",
          "height": 510
        },
        "id": "p6Nz1YjXI66U",
        "outputId": "34f5c04d-c221-4e1a-87f3-e7dffd9a229b"
      },
      "execution_count": null,
      "outputs": [
        {
          "output_type": "execute_result",
          "data": {
            "text/html": [
              "\n",
              "  <div id=\"df-fdb76705-c503-4706-b974-5e9d9c562c04\">\n",
              "    <div class=\"colab-df-container\">\n",
              "      <div>\n",
              "<style scoped>\n",
              "    .dataframe tbody tr th:only-of-type {\n",
              "        vertical-align: middle;\n",
              "    }\n",
              "\n",
              "    .dataframe tbody tr th {\n",
              "        vertical-align: top;\n",
              "    }\n",
              "\n",
              "    .dataframe thead th {\n",
              "        text-align: right;\n",
              "    }\n",
              "</style>\n",
              "<table border=\"1\" class=\"dataframe\">\n",
              "  <thead>\n",
              "    <tr style=\"text-align: right;\">\n",
              "      <th></th>\n",
              "      <th>SID</th>\n",
              "      <th>SEASON</th>\n",
              "      <th>NUMBER</th>\n",
              "      <th>NAME</th>\n",
              "      <th>ISO_TIME</th>\n",
              "      <th>NATURE</th>\n",
              "      <th>LAT</th>\n",
              "      <th>LON</th>\n",
              "      <th>WMO_WIND</th>\n",
              "      <th>WMO_AGENCY</th>\n",
              "      <th>TRACK_TYPE</th>\n",
              "      <th>DIST2LAND</th>\n",
              "      <th>LANDFALL</th>\n",
              "      <th>IFLAG</th>\n",
              "      <th>USA_AGENCY</th>\n",
              "      <th>USA_ATCF_ID</th>\n",
              "      <th>USA_LAT</th>\n",
              "      <th>USA_LON</th>\n",
              "      <th>USA_STATUS</th>\n",
              "      <th>USA_WIND</th>\n",
              "      <th>USA_PRES</th>\n",
              "      <th>USA_SSHS</th>\n",
              "      <th>STORM_SPEED</th>\n",
              "      <th>STORM_DIR</th>\n",
              "    </tr>\n",
              "  </thead>\n",
              "  <tbody>\n",
              "    <tr>\n",
              "      <th>1</th>\n",
              "      <td>1851175N26270</td>\n",
              "      <td>1851</td>\n",
              "      <td>5</td>\n",
              "      <td>NOT_NAMED</td>\n",
              "      <td>1851-06-23 12:00:00</td>\n",
              "      <td>TS</td>\n",
              "      <td>26.1000</td>\n",
              "      <td>-90.4000</td>\n",
              "      <td></td>\n",
              "      <td></td>\n",
              "      <td>main</td>\n",
              "      <td>335</td>\n",
              "      <td>323.0</td>\n",
              "      <td>_____________O</td>\n",
              "      <td></td>\n",
              "      <td></td>\n",
              "      <td></td>\n",
              "      <td></td>\n",
              "      <td></td>\n",
              "      <td></td>\n",
              "      <td></td>\n",
              "      <td>-5</td>\n",
              "      <td>6.0</td>\n",
              "      <td>291.0</td>\n",
              "    </tr>\n",
              "    <tr>\n",
              "      <th>2</th>\n",
              "      <td>1851175N26270</td>\n",
              "      <td>1851</td>\n",
              "      <td>5</td>\n",
              "      <td>NOT_NAMED</td>\n",
              "      <td>1851-06-23 15:00:00</td>\n",
              "      <td>TS</td>\n",
              "      <td>26.2001</td>\n",
              "      <td>-90.6999</td>\n",
              "      <td></td>\n",
              "      <td></td>\n",
              "      <td>main</td>\n",
              "      <td>323</td>\n",
              "      <td>312.0</td>\n",
              "      <td>_____________P</td>\n",
              "      <td></td>\n",
              "      <td></td>\n",
              "      <td></td>\n",
              "      <td></td>\n",
              "      <td></td>\n",
              "      <td></td>\n",
              "      <td></td>\n",
              "      <td>-5</td>\n",
              "      <td>6.0</td>\n",
              "      <td>290.0</td>\n",
              "    </tr>\n",
              "    <tr>\n",
              "      <th>3</th>\n",
              "      <td>1851175N26270</td>\n",
              "      <td>1851</td>\n",
              "      <td>5</td>\n",
              "      <td>NOT_NAMED</td>\n",
              "      <td>1851-06-23 18:00:00</td>\n",
              "      <td>TS</td>\n",
              "      <td>26.3000</td>\n",
              "      <td>-91.0000</td>\n",
              "      <td></td>\n",
              "      <td></td>\n",
              "      <td>main</td>\n",
              "      <td>312</td>\n",
              "      <td>302.0</td>\n",
              "      <td>_____________O</td>\n",
              "      <td></td>\n",
              "      <td></td>\n",
              "      <td></td>\n",
              "      <td></td>\n",
              "      <td></td>\n",
              "      <td></td>\n",
              "      <td></td>\n",
              "      <td>-5</td>\n",
              "      <td>6.0</td>\n",
              "      <td>290.0</td>\n",
              "    </tr>\n",
              "    <tr>\n",
              "      <th>4</th>\n",
              "      <td>1851175N26270</td>\n",
              "      <td>1851</td>\n",
              "      <td>5</td>\n",
              "      <td>NOT_NAMED</td>\n",
              "      <td>1851-06-23 21:00:00</td>\n",
              "      <td>TS</td>\n",
              "      <td>26.3999</td>\n",
              "      <td>-91.3001</td>\n",
              "      <td></td>\n",
              "      <td></td>\n",
              "      <td>main</td>\n",
              "      <td>304</td>\n",
              "      <td>296.0</td>\n",
              "      <td>_____________P</td>\n",
              "      <td></td>\n",
              "      <td></td>\n",
              "      <td></td>\n",
              "      <td></td>\n",
              "      <td></td>\n",
              "      <td></td>\n",
              "      <td></td>\n",
              "      <td>-5</td>\n",
              "      <td>6.0</td>\n",
              "      <td>290.0</td>\n",
              "    </tr>\n",
              "    <tr>\n",
              "      <th>5</th>\n",
              "      <td>1851175N26270</td>\n",
              "      <td>1851</td>\n",
              "      <td>5</td>\n",
              "      <td>NOT_NAMED</td>\n",
              "      <td>1851-06-24 00:00:00</td>\n",
              "      <td>TS</td>\n",
              "      <td>26.5000</td>\n",
              "      <td>-91.6000</td>\n",
              "      <td></td>\n",
              "      <td></td>\n",
              "      <td>main</td>\n",
              "      <td>298</td>\n",
              "      <td>292.0</td>\n",
              "      <td>_____________O</td>\n",
              "      <td></td>\n",
              "      <td></td>\n",
              "      <td></td>\n",
              "      <td></td>\n",
              "      <td></td>\n",
              "      <td></td>\n",
              "      <td></td>\n",
              "      <td>-5</td>\n",
              "      <td>6.0</td>\n",
              "      <td>290.0</td>\n",
              "    </tr>\n",
              "    <tr>\n",
              "      <th>6</th>\n",
              "      <td>1851175N26270</td>\n",
              "      <td>1851</td>\n",
              "      <td>5</td>\n",
              "      <td>NOT_NAMED</td>\n",
              "      <td>1851-06-24 03:00:00</td>\n",
              "      <td>TS</td>\n",
              "      <td>26.5999</td>\n",
              "      <td>-91.9001</td>\n",
              "      <td></td>\n",
              "      <td></td>\n",
              "      <td>main</td>\n",
              "      <td>295</td>\n",
              "      <td>292.0</td>\n",
              "      <td>_____________P</td>\n",
              "      <td></td>\n",
              "      <td></td>\n",
              "      <td></td>\n",
              "      <td></td>\n",
              "      <td></td>\n",
              "      <td></td>\n",
              "      <td></td>\n",
              "      <td>-5</td>\n",
              "      <td>6.0</td>\n",
              "      <td>290.0</td>\n",
              "    </tr>\n",
              "  </tbody>\n",
              "</table>\n",
              "</div>\n",
              "      <button class=\"colab-df-convert\" onclick=\"convertToInteractive('df-fdb76705-c503-4706-b974-5e9d9c562c04')\"\n",
              "              title=\"Convert this dataframe to an interactive table.\"\n",
              "              style=\"display:none;\">\n",
              "        \n",
              "  <svg xmlns=\"http://www.w3.org/2000/svg\" height=\"24px\"viewBox=\"0 0 24 24\"\n",
              "       width=\"24px\">\n",
              "    <path d=\"M0 0h24v24H0V0z\" fill=\"none\"/>\n",
              "    <path d=\"M18.56 5.44l.94 2.06.94-2.06 2.06-.94-2.06-.94-.94-2.06-.94 2.06-2.06.94zm-11 1L8.5 8.5l.94-2.06 2.06-.94-2.06-.94L8.5 2.5l-.94 2.06-2.06.94zm10 10l.94 2.06.94-2.06 2.06-.94-2.06-.94-.94-2.06-.94 2.06-2.06.94z\"/><path d=\"M17.41 7.96l-1.37-1.37c-.4-.4-.92-.59-1.43-.59-.52 0-1.04.2-1.43.59L10.3 9.45l-7.72 7.72c-.78.78-.78 2.05 0 2.83L4 21.41c.39.39.9.59 1.41.59.51 0 1.02-.2 1.41-.59l7.78-7.78 2.81-2.81c.8-.78.8-2.07 0-2.86zM5.41 20L4 18.59l7.72-7.72 1.47 1.35L5.41 20z\"/>\n",
              "  </svg>\n",
              "      </button>\n",
              "      \n",
              "  <style>\n",
              "    .colab-df-container {\n",
              "      display:flex;\n",
              "      flex-wrap:wrap;\n",
              "      gap: 12px;\n",
              "    }\n",
              "\n",
              "    .colab-df-convert {\n",
              "      background-color: #E8F0FE;\n",
              "      border: none;\n",
              "      border-radius: 50%;\n",
              "      cursor: pointer;\n",
              "      display: none;\n",
              "      fill: #1967D2;\n",
              "      height: 32px;\n",
              "      padding: 0 0 0 0;\n",
              "      width: 32px;\n",
              "    }\n",
              "\n",
              "    .colab-df-convert:hover {\n",
              "      background-color: #E2EBFA;\n",
              "      box-shadow: 0px 1px 2px rgba(60, 64, 67, 0.3), 0px 1px 3px 1px rgba(60, 64, 67, 0.15);\n",
              "      fill: #174EA6;\n",
              "    }\n",
              "\n",
              "    [theme=dark] .colab-df-convert {\n",
              "      background-color: #3B4455;\n",
              "      fill: #D2E3FC;\n",
              "    }\n",
              "\n",
              "    [theme=dark] .colab-df-convert:hover {\n",
              "      background-color: #434B5C;\n",
              "      box-shadow: 0px 1px 3px 1px rgba(0, 0, 0, 0.15);\n",
              "      filter: drop-shadow(0px 1px 2px rgba(0, 0, 0, 0.3));\n",
              "      fill: #FFFFFF;\n",
              "    }\n",
              "  </style>\n",
              "\n",
              "      <script>\n",
              "        const buttonEl =\n",
              "          document.querySelector('#df-fdb76705-c503-4706-b974-5e9d9c562c04 button.colab-df-convert');\n",
              "        buttonEl.style.display =\n",
              "          google.colab.kernel.accessAllowed ? 'block' : 'none';\n",
              "\n",
              "        async function convertToInteractive(key) {\n",
              "          const element = document.querySelector('#df-fdb76705-c503-4706-b974-5e9d9c562c04');\n",
              "          const dataTable =\n",
              "            await google.colab.kernel.invokeFunction('convertToInteractive',\n",
              "                                                     [key], {});\n",
              "          if (!dataTable) return;\n",
              "\n",
              "          const docLinkHtml = 'Like what you see? Visit the ' +\n",
              "            '<a target=\"_blank\" href=https://colab.research.google.com/notebooks/data_table.ipynb>data table notebook</a>'\n",
              "            + ' to learn more about interactive tables.';\n",
              "          element.innerHTML = '';\n",
              "          dataTable['output_type'] = 'display_data';\n",
              "          await google.colab.output.renderOutput(dataTable, element);\n",
              "          const docLink = document.createElement('div');\n",
              "          docLink.innerHTML = docLinkHtml;\n",
              "          element.appendChild(docLink);\n",
              "        }\n",
              "      </script>\n",
              "    </div>\n",
              "  </div>\n",
              "  "
            ],
            "text/plain": [
              "             SID  SEASON  NUMBER  ... USA_SSHS STORM_SPEED STORM_DIR\n",
              "1  1851175N26270    1851       5  ...       -5         6.0     291.0\n",
              "2  1851175N26270    1851       5  ...       -5         6.0     290.0\n",
              "3  1851175N26270    1851       5  ...       -5         6.0     290.0\n",
              "4  1851175N26270    1851       5  ...       -5         6.0     290.0\n",
              "5  1851175N26270    1851       5  ...       -5         6.0     290.0\n",
              "6  1851175N26270    1851       5  ...       -5         6.0     290.0\n",
              "\n",
              "[6 rows x 24 columns]"
            ]
          },
          "metadata": {},
          "execution_count": 26
        }
      ]
    },
    {
      "cell_type": "markdown",
      "source": [
        "We choose to rename SEASON to YEAR. That's more intuitive.\n",
        "\n",
        "\n"
      ],
      "metadata": {
        "id": "6jAkY4UmhTGY"
      }
    },
    {
      "cell_type": "code",
      "source": [
        "df.rename(columns={'SEASON': 'YEAR'}, inplace= True, errors='raise')"
      ],
      "metadata": {
        "id": "K6b83tpShaDp"
      },
      "execution_count": null,
      "outputs": []
    },
    {
      "cell_type": "code",
      "source": [
        "print(f\"Dataset contains data of {df['SID'].unique().shape[0]} individual storms from {df['YEAR'].min()} to {df['YEAR'].max()}.\")"
      ],
      "metadata": {
        "colab": {
          "base_uri": "https://localhost:8080/"
        },
        "id": "x6wqjP3USHp_",
        "outputId": "2a2fdd73-8a15-46a5-e958-b238b962da6f"
      },
      "execution_count": null,
      "outputs": [
        {
          "output_type": "stream",
          "name": "stdout",
          "text": [
            "Dataset contains data of 2293 individual storms from 1851 to 2021.\n"
          ]
        }
      ]
    },
    {
      "cell_type": "markdown",
      "source": [
        "##SID\n"
      ],
      "metadata": {
        "id": "phbwhL49L4lC"
      }
    },
    {
      "cell_type": "code",
      "source": [
        "ncounts = pd.DataFrame([df.SID.value_counts()]).T\n",
        "ncounts = ncounts.rename(columns={0: \"value_counts_SID\"})"
      ],
      "metadata": {
        "id": "9k5GyPIwTPEW"
      },
      "execution_count": null,
      "outputs": []
    },
    {
      "cell_type": "code",
      "source": [
        "ncounts"
      ],
      "metadata": {
        "colab": {
          "base_uri": "https://localhost:8080/"
        },
        "id": "l3eQBEK-TQNw",
        "outputId": "d70904cf-4d7f-4ae6-eee0-e646f35599c0"
      },
      "execution_count": null,
      "outputs": [
        {
          "output_type": "execute_result",
          "data": {
            "text/html": [
              "\n",
              "  <div id=\"df-ed572050-b350-47ee-a817-2f315aef7ca3\">\n",
              "    <div class=\"colab-df-container\">\n",
              "      <div>\n",
              "<style scoped>\n",
              "    .dataframe tbody tr th:only-of-type {\n",
              "        vertical-align: middle;\n",
              "    }\n",
              "\n",
              "    .dataframe tbody tr th {\n",
              "        vertical-align: top;\n",
              "    }\n",
              "\n",
              "    .dataframe thead th {\n",
              "        text-align: right;\n",
              "    }\n",
              "</style>\n",
              "<table border=\"1\" class=\"dataframe\">\n",
              "  <thead>\n",
              "    <tr style=\"text-align: right;\">\n",
              "      <th></th>\n",
              "      <th>SID</th>\n",
              "    </tr>\n",
              "  </thead>\n",
              "  <tbody>\n",
              "    <tr>\n",
              "      <th>1899215N12329</th>\n",
              "      <td>264</td>\n",
              "    </tr>\n",
              "    <tr>\n",
              "      <th>1971249N26289</th>\n",
              "      <td>235</td>\n",
              "    </tr>\n",
              "    <tr>\n",
              "      <th>1969264N16313</th>\n",
              "      <td>197</td>\n",
              "    </tr>\n",
              "    <tr>\n",
              "      <th>2012255N16322</th>\n",
              "      <td>191</td>\n",
              "    </tr>\n",
              "    <tr>\n",
              "      <th>1926244N14319</th>\n",
              "      <td>189</td>\n",
              "    </tr>\n",
              "    <tr>\n",
              "      <th>...</th>\n",
              "      <td>...</td>\n",
              "    </tr>\n",
              "    <tr>\n",
              "      <th>1865182N26263</th>\n",
              "      <td>1</td>\n",
              "    </tr>\n",
              "    <tr>\n",
              "      <th>1853265N20265</th>\n",
              "      <td>1</td>\n",
              "    </tr>\n",
              "    <tr>\n",
              "      <th>1854236N33305</th>\n",
              "      <td>1</td>\n",
              "    </tr>\n",
              "    <tr>\n",
              "      <th>1853272N15323</th>\n",
              "      <td>1</td>\n",
              "    </tr>\n",
              "    <tr>\n",
              "      <th>1865150N13280</th>\n",
              "      <td>1</td>\n",
              "    </tr>\n",
              "  </tbody>\n",
              "</table>\n",
              "<p>2293 rows × 1 columns</p>\n",
              "</div>\n",
              "      <button class=\"colab-df-convert\" onclick=\"convertToInteractive('df-ed572050-b350-47ee-a817-2f315aef7ca3')\"\n",
              "              title=\"Convert this dataframe to an interactive table.\"\n",
              "              style=\"display:none;\">\n",
              "        \n",
              "  <svg xmlns=\"http://www.w3.org/2000/svg\" height=\"24px\"viewBox=\"0 0 24 24\"\n",
              "       width=\"24px\">\n",
              "    <path d=\"M0 0h24v24H0V0z\" fill=\"none\"/>\n",
              "    <path d=\"M18.56 5.44l.94 2.06.94-2.06 2.06-.94-2.06-.94-.94-2.06-.94 2.06-2.06.94zm-11 1L8.5 8.5l.94-2.06 2.06-.94-2.06-.94L8.5 2.5l-.94 2.06-2.06.94zm10 10l.94 2.06.94-2.06 2.06-.94-2.06-.94-.94-2.06-.94 2.06-2.06.94z\"/><path d=\"M17.41 7.96l-1.37-1.37c-.4-.4-.92-.59-1.43-.59-.52 0-1.04.2-1.43.59L10.3 9.45l-7.72 7.72c-.78.78-.78 2.05 0 2.83L4 21.41c.39.39.9.59 1.41.59.51 0 1.02-.2 1.41-.59l7.78-7.78 2.81-2.81c.8-.78.8-2.07 0-2.86zM5.41 20L4 18.59l7.72-7.72 1.47 1.35L5.41 20z\"/>\n",
              "  </svg>\n",
              "      </button>\n",
              "      \n",
              "  <style>\n",
              "    .colab-df-container {\n",
              "      display:flex;\n",
              "      flex-wrap:wrap;\n",
              "      gap: 12px;\n",
              "    }\n",
              "\n",
              "    .colab-df-convert {\n",
              "      background-color: #E8F0FE;\n",
              "      border: none;\n",
              "      border-radius: 50%;\n",
              "      cursor: pointer;\n",
              "      display: none;\n",
              "      fill: #1967D2;\n",
              "      height: 32px;\n",
              "      padding: 0 0 0 0;\n",
              "      width: 32px;\n",
              "    }\n",
              "\n",
              "    .colab-df-convert:hover {\n",
              "      background-color: #E2EBFA;\n",
              "      box-shadow: 0px 1px 2px rgba(60, 64, 67, 0.3), 0px 1px 3px 1px rgba(60, 64, 67, 0.15);\n",
              "      fill: #174EA6;\n",
              "    }\n",
              "\n",
              "    [theme=dark] .colab-df-convert {\n",
              "      background-color: #3B4455;\n",
              "      fill: #D2E3FC;\n",
              "    }\n",
              "\n",
              "    [theme=dark] .colab-df-convert:hover {\n",
              "      background-color: #434B5C;\n",
              "      box-shadow: 0px 1px 3px 1px rgba(0, 0, 0, 0.15);\n",
              "      filter: drop-shadow(0px 1px 2px rgba(0, 0, 0, 0.3));\n",
              "      fill: #FFFFFF;\n",
              "    }\n",
              "  </style>\n",
              "\n",
              "      <script>\n",
              "        const buttonEl =\n",
              "          document.querySelector('#df-ed572050-b350-47ee-a817-2f315aef7ca3 button.colab-df-convert');\n",
              "        buttonEl.style.display =\n",
              "          google.colab.kernel.accessAllowed ? 'block' : 'none';\n",
              "\n",
              "        async function convertToInteractive(key) {\n",
              "          const element = document.querySelector('#df-ed572050-b350-47ee-a817-2f315aef7ca3');\n",
              "          const dataTable =\n",
              "            await google.colab.kernel.invokeFunction('convertToInteractive',\n",
              "                                                     [key], {});\n",
              "          if (!dataTable) return;\n",
              "\n",
              "          const docLinkHtml = 'Like what you see? Visit the ' +\n",
              "            '<a target=\"_blank\" href=https://colab.research.google.com/notebooks/data_table.ipynb>data table notebook</a>'\n",
              "            + ' to learn more about interactive tables.';\n",
              "          element.innerHTML = '';\n",
              "          dataTable['output_type'] = 'display_data';\n",
              "          await google.colab.output.renderOutput(dataTable, element);\n",
              "          const docLink = document.createElement('div');\n",
              "          docLink.innerHTML = docLinkHtml;\n",
              "          element.appendChild(docLink);\n",
              "        }\n",
              "      </script>\n",
              "    </div>\n",
              "  </div>\n",
              "  "
            ],
            "text/plain": [
              "               SID\n",
              "1899215N12329  264\n",
              "1971249N26289  235\n",
              "1969264N16313  197\n",
              "2012255N16322  191\n",
              "1926244N14319  189\n",
              "...            ...\n",
              "1865182N26263    1\n",
              "1853265N20265    1\n",
              "1854236N33305    1\n",
              "1853272N15323    1\n",
              "1865150N13280    1\n",
              "\n",
              "[2293 rows x 1 columns]"
            ]
          },
          "metadata": {},
          "execution_count": 30
        }
      ]
    },
    {
      "cell_type": "markdown",
      "source": [
        "A unique storm identifier (SID) assigned by IBTrACS algorithm.\n",
        "\n",
        "We have 2293 different storms.\n",
        "\n"
      ],
      "metadata": {
        "id": "Rl19bTYmUvqs"
      }
    },
    {
      "cell_type": "code",
      "source": [
        "import plotly.express as px \n",
        "import geopandas as gpd\n",
        "\n",
        "#plotting the trajectory of the storm having as SID = 1899215N12329\n",
        "fig = px.scatter_mapbox(df.query(\" SID == '1899215N12329' \"), lat=\"LAT\", lon=\"LON\", hover_name=\"YEAR\", hover_data=[\"USA_SSHS\"],color='NATURE', zoom=3, height=600)\n",
        "fig.update_layout(mapbox_style=\"open-street-map\")\n",
        "\n",
        "fig.update_layout(margin={\"r\":0,\"t\":0,\"l\":0,\"b\":0})\n",
        "fig.show()"
      ],
      "metadata": {
        "colab": {
          "base_uri": "https://localhost:8080/"
        },
        "id": "SOJmYMyxVEp0",
        "outputId": "a7b62628-eede-4ee5-d26a-c67715d32f46"
      },
      "execution_count": null,
      "outputs": [
        {
          "output_type": "display_data",
          "data": {
            "text/html": [
              "<html>\n",
              "<head><meta charset=\"utf-8\" /></head>\n",
              "<body>\n",
              "    <div>            <script src=\"https://cdnjs.cloudflare.com/ajax/libs/mathjax/2.7.5/MathJax.js?config=TeX-AMS-MML_SVG\"></script><script type=\"text/javascript\">if (window.MathJax) {MathJax.Hub.Config({SVG: {font: \"STIX-Web\"}});}</script>                <script type=\"text/javascript\">window.PlotlyConfig = {MathJaxConfig: 'local'};</script>\n",
              "        <script src=\"https://cdn.plot.ly/plotly-2.8.3.min.js\"></script>                <div id=\"5e142fd1-de9d-4312-853a-6f7cc0dd550e\" class=\"plotly-graph-div\" style=\"height:600px; width:100%;\"></div>            <script type=\"text/javascript\">                                    window.PLOTLYENV=window.PLOTLYENV || {};                                    if (document.getElementById(\"5e142fd1-de9d-4312-853a-6f7cc0dd550e\")) {                    Plotly.newPlot(                        \"5e142fd1-de9d-4312-853a-6f7cc0dd550e\",                        [{\"customdata\":[[0],[0],[0],[0],[0],[0],[0],[0],[0],[0],[0],[0],[0],[0],[0],[0],[0],[0],[0],[0],[0],[0],[1],[1],[1],[1],[1],[1],[1],[2],[2],[2],[3],[3],[3],[4],[4],[4],[4],[4],[4],[4],[4],[4],[4],[3],[3],[3],[3],[3],[3],[3],[3],[3],[3],[3],[3],[3],[3],[3],[3],[3],[3],[3],[3],[3],[3],[3],[3],[3],[3],[3],[3],[3],[3],[3],[3],[3],[3],[3],[3],[3],[3],[3],[3],[3],[3],[3],[3],[3],[3],[3],[3],[3],[3],[3],[3],[3],[3],[3],[3],[3],[3],[3],[3],[3],[3],[3],[3],[3],[3],[3],[3],[3],[3],[3],[3],[3],[3],[3],[3],[3],[3],[2],[2],[1],[1],[1],[1],[1],[1],[1],[1],[1],[1],[1],[1],[1],[1],[1],[1],[1],[1],[1],[1],[1],[1],[1],[1],[1],[1],[1],[0],[0],[0],[0],[0],[0],[0],[0],[0],[0],[0],[0],[0],[0],[0],[0],[0],[0],[0],[0],[0],[0],[0],[0],[0],[0],[0],[0],[0],[0],[0],[0],[0],[0],[0],[0],[0],[0],[0],[0],[0],[0],[0],[0],[0],[0],[0],[0],[0],[0],[0],[0],[0],[0],[0],[0],[0],[0],[0],[0],[0],[0],[0],[0],[0],[1],[1],[1],[1],[1],[1],[1],[0]],\"hovertemplate\":\"<b>%{hovertext}</b><br><br>NATURE=TS<br>LAT=%{lat}<br>LON=%{lon}<br>USA_SSHS=%{customdata[0]}<extra></extra>\",\"hovertext\":[1899.0,1899.0,1899.0,1899.0,1899.0,1899.0,1899.0,1899.0,1899.0,1899.0,1899.0,1899.0,1899.0,1899.0,1899.0,1899.0,1899.0,1899.0,1899.0,1899.0,1899.0,1899.0,1899.0,1899.0,1899.0,1899.0,1899.0,1899.0,1899.0,1899.0,1899.0,1899.0,1899.0,1899.0,1899.0,1899.0,1899.0,1899.0,1899.0,1899.0,1899.0,1899.0,1899.0,1899.0,1899.0,1899.0,1899.0,1899.0,1899.0,1899.0,1899.0,1899.0,1899.0,1899.0,1899.0,1899.0,1899.0,1899.0,1899.0,1899.0,1899.0,1899.0,1899.0,1899.0,1899.0,1899.0,1899.0,1899.0,1899.0,1899.0,1899.0,1899.0,1899.0,1899.0,1899.0,1899.0,1899.0,1899.0,1899.0,1899.0,1899.0,1899.0,1899.0,1899.0,1899.0,1899.0,1899.0,1899.0,1899.0,1899.0,1899.0,1899.0,1899.0,1899.0,1899.0,1899.0,1899.0,1899.0,1899.0,1899.0,1899.0,1899.0,1899.0,1899.0,1899.0,1899.0,1899.0,1899.0,1899.0,1899.0,1899.0,1899.0,1899.0,1899.0,1899.0,1899.0,1899.0,1899.0,1899.0,1899.0,1899.0,1899.0,1899.0,1899.0,1899.0,1899.0,1899.0,1899.0,1899.0,1899.0,1899.0,1899.0,1899.0,1899.0,1899.0,1899.0,1899.0,1899.0,1899.0,1899.0,1899.0,1899.0,1899.0,1899.0,1899.0,1899.0,1899.0,1899.0,1899.0,1899.0,1899.0,1899.0,1899.0,1899.0,1899.0,1899.0,1899.0,1899.0,1899.0,1899.0,1899.0,1899.0,1899.0,1899.0,1899.0,1899.0,1899.0,1899.0,1899.0,1899.0,1899.0,1899.0,1899.0,1899.0,1899.0,1899.0,1899.0,1899.0,1899.0,1899.0,1899.0,1899.0,1899.0,1899.0,1899.0,1899.0,1899.0,1899.0,1899.0,1899.0,1899.0,1899.0,1899.0,1899.0,1899.0,1899.0,1899.0,1899.0,1899.0,1899.0,1899.0,1899.0,1899.0,1899.0,1899.0,1899.0,1899.0,1899.0,1899.0,1899.0,1899.0,1899.0,1899.0,1899.0,1899.0,1899.0,1899.0,1899.0,1899.0,1899.0,1899.0,1899.0,1899.0,1899.0,1899.0],\"lat\":[11.7,11.7403,11.8,11.8923,12.0,12.0998,12.2,12.2999,12.4,12.5071,12.6,12.6422,12.7,12.8196,13.0,13.2578,13.5,13.6144,13.7,13.8421,14.0,14.1497,14.3,14.4574,14.6,14.6996,14.8,14.9423,15.1,15.2496,15.4,15.5572,15.7,15.7998,15.9,16.0422,16.2,16.3423,16.5,16.6847,16.9,17.1348,17.4,17.6925,18.0,18.3223,18.6,18.7647,18.9,19.0924,19.3,19.5,19.7,19.9074,20.1,20.2574,20.4,20.5499,20.7,20.8425,21.0,21.1773,21.4,21.6925,22.0,22.2575,22.5,22.7575,23.0,23.2074,23.4,23.6,23.8,24.0075,24.2,24.335,24.5,24.785,25.1,25.35,25.6,25.8775,26.2,26.6,27.0,27.3075,27.6,27.9425,28.3,28.65,29.0,29.3575,29.7,30.0075,30.3,30.615,30.9,31.115,31.3,31.4925,31.7,31.9499,32.2,32.4224,32.6,32.715,32.8,32.8925,33.0,33.1349,33.3,33.4925,33.7,33.9,34.1,34.3074,34.5,34.6575,34.8,34.9096,35.1,35.2,35.3999,35.7,36.0367,36.3,36.395,36.4,36.4075,36.4,36.3925,36.4,36.4123,36.5,36.7048,37.0,37.3427,37.7,38.0145,38.3,38.5568,38.8,39.0801,39.3,39.379,39.4,39.4421,39.5,39.6211,39.7,39.6291,39.5,39.3992,36.0,36.165,36.3,36.4,36.5,36.635,36.8,37.0,37.2,37.3649,37.5,37.585,37.7,37.9275,38.2,38.435,38.7,39.0425,39.4,39.73,40.0,40.1724,40.3,40.4726,40.6,40.63,40.6,40.55,40.5,40.4924,40.5,40.5,40.5,40.515,40.5,40.4075,40.3,40.2424,40.2,40.1499,40.1,40.0425,40.0,39.9999,40.0,39.9501,39.9,39.8922,39.9,39.8924,39.9,39.957,40.0,39.9729,39.9,39.8065,39.7,39.6227,39.5,39.2874,39.0,38.6422,38.3,38.077,37.9,37.6851,37.5,37.3321,37.3,37.4439,37.8,38.2485],\"legendgroup\":\"TS\",\"lon\":[-31.0,-31.6825,-32.4,-33.1775,-34.0,-34.8426,-35.7,-36.5725,-37.4,-38.115,-38.8,-39.5278,-40.3,-41.1127,-42.0,-43.0146,-44.0,-44.7879,-45.5,-46.2351,-47.0,-47.8201,-48.7,-49.6425,-50.6,-51.5078,-52.4,-53.315,-54.2,-55.0151,-55.8,-56.6,-57.4,-58.2077,-59.0,-59.7575,-60.5,-61.2577,-62.0,-62.7077,-63.4,-64.1002,-64.8,-65.5225,-66.2,-66.795,-67.3,-67.7229,-68.1,-68.4926,-68.9,-69.3501,-69.8,-70.2076,-70.6,-71.0001,-71.4,-71.8001,-72.2,-72.6076,-73.0,-73.3502,-73.7,-74.0924,-74.5,-74.9077,-75.3,-75.6725,-76.0,-76.2652,-76.5,-76.7575,-77.0,-77.215,-77.4,-77.5577,-77.7,-77.8574,-78.0,-78.1076,-78.2,-78.3001,-78.4,-78.5,-78.6,-78.7001,-78.8,-78.9075,-79.0,-79.0725,-79.1,-79.0651,-79.0,-78.9574,-78.9,-78.815,-78.7,-78.5649,-78.4,-78.2149,-78.0,-77.765,-77.5,-77.215,-76.9,-76.5573,-76.2,-75.8349,-75.5,-75.2274,-75.0,-74.7775,-74.6,-74.4625,-74.4,-74.3975,-74.5,-74.705,-75.0,-75.3517,-75.7,-75.8,-75.9423,-76.0,-75.8877,-75.7,-75.5923,-75.5,-75.4075,-75.3,-75.1575,-75.0,-74.8796,-74.7,-74.4097,-74.0,-73.4729,-72.9,-72.4068,-71.9,-71.3517,-70.7,-69.8884,-69.0,-68.1638,-67.3,-66.3646,-65.4,-64.4738,-63.5,-62.4364,-61.3,-60.1152,-43.2,-43.2501,-43.3,-43.3925,-43.5,-43.5926,-43.7,-43.8499,-44.0,-44.1001,-44.2,-44.3501,-44.5,-44.6075,-44.7,-44.8075,-44.9,-44.965,-45.0,-45.0299,-45.0,-44.8949,-44.7,-44.4228,-44.1,-43.7923,-43.5,-43.2274,-43.0,-42.8426,-42.7,-42.5075,-42.3,-42.1001,-41.9,-41.6923,-41.5,-41.3426,-41.2,-41.0575,-40.9,-40.715,-40.5,-40.2727,-40.0,-39.6573,-39.3,-39.0076,-38.7,-38.3223,-37.9,-37.4879,-37.0,-36.3573,-35.7,-35.2077,-34.7,-34.0232,-33.3,-32.6124,-32.0,-31.4974,-31.1,-30.8009,-30.5,-30.0723,-29.6,-29.1718,-28.7,-28.1807,-27.5,-26.6283],\"marker\":{\"color\":\"#636efa\"},\"mode\":\"markers\",\"name\":\"TS\",\"showlegend\":true,\"subplot\":\"mapbox\",\"type\":\"scattermapbox\"},{\"customdata\":[[-4],[-4],[-4],[-4],[-4],[-4],[-4],[-4],[-4],[-4],[-4],[-4],[-4],[-4],[-4],[-4],[-4],[-4],[-4],[-4],[-4],[-4],[-4],[-4],[-4],[-4],[-4],[-4],[-4],[-4],[-4],[-4],[-4],[-4],[-4],[-4],[-4],[-4],[-4]],\"hovertemplate\":\"<b>%{hovertext}</b><br><br>NATURE=ET<br>LAT=%{lat}<br>LON=%{lon}<br>USA_SSHS=%{customdata[0]}<extra></extra>\",\"hovertext\":[1899.0,1899.0,1899.0,1899.0,1899.0,1899.0,1899.0,1899.0,1899.0,1899.0,1899.0,1899.0,1899.0,1899.0,1899.0,1899.0,1899.0,1899.0,1899.0,1899.0,1899.0,1899.0,1899.0,1899.0,1899.0,1899.0,1899.0,1899.0,1899.0,1899.0,1899.0,1899.0,1899.0,1899.0,1899.0,1899.0,1899.0,1899.0,1899.0],\"lat\":[39.3,39.2142,39.1,38.915,38.7,38.4989,38.3,38.1141,37.9,37.6151,37.3,37.0071,36.7,36.3501,36.0,35.6995,35.4,35.0348,34.7,34.4551,34.3,34.2122,34.2,34.2198,34.3,34.4051,34.6,34.9498,35.3,35.4724,35.6,35.8,39.0,40.0758,41.5,43.1419,45.0,46.9729,49.0],\"legendgroup\":\"ET\",\"lon\":[-58.9,-57.686,-56.5,-55.3246,-54.3,-53.5032,-52.9,-52.4285,-52.0,-51.4498,-50.9,-50.4433,-50.0,-49.4924,-49.0,-48.6009,-48.2,-47.7298,-47.2,-46.6001,-46.0,-45.4778,-45.0,-44.535,-44.1,-43.655,-43.3,-43.0901,-43.0,-42.9624,-43.0,-43.0924,-25.5,-24.1415,-22.5,-20.5038,-18.5,-16.887,-15.5],\"marker\":{\"color\":\"#EF553B\"},\"mode\":\"markers\",\"name\":\"ET\",\"showlegend\":true,\"subplot\":\"mapbox\",\"type\":\"scattermapbox\"}],                        {\"template\":{\"data\":{\"bar\":[{\"error_x\":{\"color\":\"#2a3f5f\"},\"error_y\":{\"color\":\"#2a3f5f\"},\"marker\":{\"line\":{\"color\":\"#E5ECF6\",\"width\":0.5},\"pattern\":{\"fillmode\":\"overlay\",\"size\":10,\"solidity\":0.2}},\"type\":\"bar\"}],\"barpolar\":[{\"marker\":{\"line\":{\"color\":\"#E5ECF6\",\"width\":0.5},\"pattern\":{\"fillmode\":\"overlay\",\"size\":10,\"solidity\":0.2}},\"type\":\"barpolar\"}],\"carpet\":[{\"aaxis\":{\"endlinecolor\":\"#2a3f5f\",\"gridcolor\":\"white\",\"linecolor\":\"white\",\"minorgridcolor\":\"white\",\"startlinecolor\":\"#2a3f5f\"},\"baxis\":{\"endlinecolor\":\"#2a3f5f\",\"gridcolor\":\"white\",\"linecolor\":\"white\",\"minorgridcolor\":\"white\",\"startlinecolor\":\"#2a3f5f\"},\"type\":\"carpet\"}],\"choropleth\":[{\"colorbar\":{\"outlinewidth\":0,\"ticks\":\"\"},\"type\":\"choropleth\"}],\"contour\":[{\"colorbar\":{\"outlinewidth\":0,\"ticks\":\"\"},\"colorscale\":[[0.0,\"#0d0887\"],[0.1111111111111111,\"#46039f\"],[0.2222222222222222,\"#7201a8\"],[0.3333333333333333,\"#9c179e\"],[0.4444444444444444,\"#bd3786\"],[0.5555555555555556,\"#d8576b\"],[0.6666666666666666,\"#ed7953\"],[0.7777777777777778,\"#fb9f3a\"],[0.8888888888888888,\"#fdca26\"],[1.0,\"#f0f921\"]],\"type\":\"contour\"}],\"contourcarpet\":[{\"colorbar\":{\"outlinewidth\":0,\"ticks\":\"\"},\"type\":\"contourcarpet\"}],\"heatmap\":[{\"colorbar\":{\"outlinewidth\":0,\"ticks\":\"\"},\"colorscale\":[[0.0,\"#0d0887\"],[0.1111111111111111,\"#46039f\"],[0.2222222222222222,\"#7201a8\"],[0.3333333333333333,\"#9c179e\"],[0.4444444444444444,\"#bd3786\"],[0.5555555555555556,\"#d8576b\"],[0.6666666666666666,\"#ed7953\"],[0.7777777777777778,\"#fb9f3a\"],[0.8888888888888888,\"#fdca26\"],[1.0,\"#f0f921\"]],\"type\":\"heatmap\"}],\"heatmapgl\":[{\"colorbar\":{\"outlinewidth\":0,\"ticks\":\"\"},\"colorscale\":[[0.0,\"#0d0887\"],[0.1111111111111111,\"#46039f\"],[0.2222222222222222,\"#7201a8\"],[0.3333333333333333,\"#9c179e\"],[0.4444444444444444,\"#bd3786\"],[0.5555555555555556,\"#d8576b\"],[0.6666666666666666,\"#ed7953\"],[0.7777777777777778,\"#fb9f3a\"],[0.8888888888888888,\"#fdca26\"],[1.0,\"#f0f921\"]],\"type\":\"heatmapgl\"}],\"histogram\":[{\"marker\":{\"pattern\":{\"fillmode\":\"overlay\",\"size\":10,\"solidity\":0.2}},\"type\":\"histogram\"}],\"histogram2d\":[{\"colorbar\":{\"outlinewidth\":0,\"ticks\":\"\"},\"colorscale\":[[0.0,\"#0d0887\"],[0.1111111111111111,\"#46039f\"],[0.2222222222222222,\"#7201a8\"],[0.3333333333333333,\"#9c179e\"],[0.4444444444444444,\"#bd3786\"],[0.5555555555555556,\"#d8576b\"],[0.6666666666666666,\"#ed7953\"],[0.7777777777777778,\"#fb9f3a\"],[0.8888888888888888,\"#fdca26\"],[1.0,\"#f0f921\"]],\"type\":\"histogram2d\"}],\"histogram2dcontour\":[{\"colorbar\":{\"outlinewidth\":0,\"ticks\":\"\"},\"colorscale\":[[0.0,\"#0d0887\"],[0.1111111111111111,\"#46039f\"],[0.2222222222222222,\"#7201a8\"],[0.3333333333333333,\"#9c179e\"],[0.4444444444444444,\"#bd3786\"],[0.5555555555555556,\"#d8576b\"],[0.6666666666666666,\"#ed7953\"],[0.7777777777777778,\"#fb9f3a\"],[0.8888888888888888,\"#fdca26\"],[1.0,\"#f0f921\"]],\"type\":\"histogram2dcontour\"}],\"mesh3d\":[{\"colorbar\":{\"outlinewidth\":0,\"ticks\":\"\"},\"type\":\"mesh3d\"}],\"parcoords\":[{\"line\":{\"colorbar\":{\"outlinewidth\":0,\"ticks\":\"\"}},\"type\":\"parcoords\"}],\"pie\":[{\"automargin\":true,\"type\":\"pie\"}],\"scatter\":[{\"marker\":{\"colorbar\":{\"outlinewidth\":0,\"ticks\":\"\"}},\"type\":\"scatter\"}],\"scatter3d\":[{\"line\":{\"colorbar\":{\"outlinewidth\":0,\"ticks\":\"\"}},\"marker\":{\"colorbar\":{\"outlinewidth\":0,\"ticks\":\"\"}},\"type\":\"scatter3d\"}],\"scattercarpet\":[{\"marker\":{\"colorbar\":{\"outlinewidth\":0,\"ticks\":\"\"}},\"type\":\"scattercarpet\"}],\"scattergeo\":[{\"marker\":{\"colorbar\":{\"outlinewidth\":0,\"ticks\":\"\"}},\"type\":\"scattergeo\"}],\"scattergl\":[{\"marker\":{\"colorbar\":{\"outlinewidth\":0,\"ticks\":\"\"}},\"type\":\"scattergl\"}],\"scattermapbox\":[{\"marker\":{\"colorbar\":{\"outlinewidth\":0,\"ticks\":\"\"}},\"type\":\"scattermapbox\"}],\"scatterpolar\":[{\"marker\":{\"colorbar\":{\"outlinewidth\":0,\"ticks\":\"\"}},\"type\":\"scatterpolar\"}],\"scatterpolargl\":[{\"marker\":{\"colorbar\":{\"outlinewidth\":0,\"ticks\":\"\"}},\"type\":\"scatterpolargl\"}],\"scatterternary\":[{\"marker\":{\"colorbar\":{\"outlinewidth\":0,\"ticks\":\"\"}},\"type\":\"scatterternary\"}],\"surface\":[{\"colorbar\":{\"outlinewidth\":0,\"ticks\":\"\"},\"colorscale\":[[0.0,\"#0d0887\"],[0.1111111111111111,\"#46039f\"],[0.2222222222222222,\"#7201a8\"],[0.3333333333333333,\"#9c179e\"],[0.4444444444444444,\"#bd3786\"],[0.5555555555555556,\"#d8576b\"],[0.6666666666666666,\"#ed7953\"],[0.7777777777777778,\"#fb9f3a\"],[0.8888888888888888,\"#fdca26\"],[1.0,\"#f0f921\"]],\"type\":\"surface\"}],\"table\":[{\"cells\":{\"fill\":{\"color\":\"#EBF0F8\"},\"line\":{\"color\":\"white\"}},\"header\":{\"fill\":{\"color\":\"#C8D4E3\"},\"line\":{\"color\":\"white\"}},\"type\":\"table\"}]},\"layout\":{\"annotationdefaults\":{\"arrowcolor\":\"#2a3f5f\",\"arrowhead\":0,\"arrowwidth\":1},\"autotypenumbers\":\"strict\",\"coloraxis\":{\"colorbar\":{\"outlinewidth\":0,\"ticks\":\"\"}},\"colorscale\":{\"diverging\":[[0,\"#8e0152\"],[0.1,\"#c51b7d\"],[0.2,\"#de77ae\"],[0.3,\"#f1b6da\"],[0.4,\"#fde0ef\"],[0.5,\"#f7f7f7\"],[0.6,\"#e6f5d0\"],[0.7,\"#b8e186\"],[0.8,\"#7fbc41\"],[0.9,\"#4d9221\"],[1,\"#276419\"]],\"sequential\":[[0.0,\"#0d0887\"],[0.1111111111111111,\"#46039f\"],[0.2222222222222222,\"#7201a8\"],[0.3333333333333333,\"#9c179e\"],[0.4444444444444444,\"#bd3786\"],[0.5555555555555556,\"#d8576b\"],[0.6666666666666666,\"#ed7953\"],[0.7777777777777778,\"#fb9f3a\"],[0.8888888888888888,\"#fdca26\"],[1.0,\"#f0f921\"]],\"sequentialminus\":[[0.0,\"#0d0887\"],[0.1111111111111111,\"#46039f\"],[0.2222222222222222,\"#7201a8\"],[0.3333333333333333,\"#9c179e\"],[0.4444444444444444,\"#bd3786\"],[0.5555555555555556,\"#d8576b\"],[0.6666666666666666,\"#ed7953\"],[0.7777777777777778,\"#fb9f3a\"],[0.8888888888888888,\"#fdca26\"],[1.0,\"#f0f921\"]]},\"colorway\":[\"#636efa\",\"#EF553B\",\"#00cc96\",\"#ab63fa\",\"#FFA15A\",\"#19d3f3\",\"#FF6692\",\"#B6E880\",\"#FF97FF\",\"#FECB52\"],\"font\":{\"color\":\"#2a3f5f\"},\"geo\":{\"bgcolor\":\"white\",\"lakecolor\":\"white\",\"landcolor\":\"#E5ECF6\",\"showlakes\":true,\"showland\":true,\"subunitcolor\":\"white\"},\"hoverlabel\":{\"align\":\"left\"},\"hovermode\":\"closest\",\"mapbox\":{\"style\":\"light\"},\"paper_bgcolor\":\"white\",\"plot_bgcolor\":\"#E5ECF6\",\"polar\":{\"angularaxis\":{\"gridcolor\":\"white\",\"linecolor\":\"white\",\"ticks\":\"\"},\"bgcolor\":\"#E5ECF6\",\"radialaxis\":{\"gridcolor\":\"white\",\"linecolor\":\"white\",\"ticks\":\"\"}},\"scene\":{\"xaxis\":{\"backgroundcolor\":\"#E5ECF6\",\"gridcolor\":\"white\",\"gridwidth\":2,\"linecolor\":\"white\",\"showbackground\":true,\"ticks\":\"\",\"zerolinecolor\":\"white\"},\"yaxis\":{\"backgroundcolor\":\"#E5ECF6\",\"gridcolor\":\"white\",\"gridwidth\":2,\"linecolor\":\"white\",\"showbackground\":true,\"ticks\":\"\",\"zerolinecolor\":\"white\"},\"zaxis\":{\"backgroundcolor\":\"#E5ECF6\",\"gridcolor\":\"white\",\"gridwidth\":2,\"linecolor\":\"white\",\"showbackground\":true,\"ticks\":\"\",\"zerolinecolor\":\"white\"}},\"shapedefaults\":{\"line\":{\"color\":\"#2a3f5f\"}},\"ternary\":{\"aaxis\":{\"gridcolor\":\"white\",\"linecolor\":\"white\",\"ticks\":\"\"},\"baxis\":{\"gridcolor\":\"white\",\"linecolor\":\"white\",\"ticks\":\"\"},\"bgcolor\":\"#E5ECF6\",\"caxis\":{\"gridcolor\":\"white\",\"linecolor\":\"white\",\"ticks\":\"\"}},\"title\":{\"x\":0.05},\"xaxis\":{\"automargin\":true,\"gridcolor\":\"white\",\"linecolor\":\"white\",\"ticks\":\"\",\"title\":{\"standoff\":15},\"zerolinecolor\":\"white\",\"zerolinewidth\":2},\"yaxis\":{\"automargin\":true,\"gridcolor\":\"white\",\"linecolor\":\"white\",\"ticks\":\"\",\"title\":{\"standoff\":15},\"zerolinecolor\":\"white\",\"zerolinewidth\":2}}},\"mapbox\":{\"domain\":{\"x\":[0.0,1.0],\"y\":[0.0,1.0]},\"center\":{\"lat\":30.93127727272726,\"lon\":-55.9112359848485},\"zoom\":3,\"style\":\"open-street-map\"},\"legend\":{\"title\":{\"text\":\"NATURE\"},\"tracegroupgap\":0},\"margin\":{\"t\":0,\"r\":0,\"l\":0,\"b\":0},\"height\":600},                        {\"responsive\": true}                    ).then(function(){\n",
              "                            \n",
              "var gd = document.getElementById('5e142fd1-de9d-4312-853a-6f7cc0dd550e');\n",
              "var x = new MutationObserver(function (mutations, observer) {{\n",
              "        var display = window.getComputedStyle(gd).display;\n",
              "        if (!display || display === 'none') {{\n",
              "            console.log([gd, 'removed!']);\n",
              "            Plotly.purge(gd);\n",
              "            observer.disconnect();\n",
              "        }}\n",
              "}});\n",
              "\n",
              "// Listen for the removal of the full notebook cells\n",
              "var notebookContainer = gd.closest('#notebook-container');\n",
              "if (notebookContainer) {{\n",
              "    x.observe(notebookContainer, {childList: true});\n",
              "}}\n",
              "\n",
              "// Listen for the clearing of the current output cell\n",
              "var outputEl = gd.closest('.output');\n",
              "if (outputEl) {{\n",
              "    x.observe(outputEl, {childList: true});\n",
              "}}\n",
              "\n",
              "                        })                };                            </script>        </div>\n",
              "</body>\n",
              "</html>"
            ]
          },
          "metadata": {}
        }
      ]
    },
    {
      "cell_type": "code",
      "source": [
        "import plotly.express as px \n",
        "import geopandas as gpd\n",
        "\n",
        "#plotting the trajectory of the storm having as SID = 1899215N12329\n",
        "fig = px.scatter_mapbox(df.query(\" SID == '2012255N16322' \"), lat=\"LAT\", lon=\"LON\", hover_name=\"YEAR\", hover_data=[\"USA_SSHS\"],color='NATURE', zoom=3, height=600)\n",
        "fig.update_layout(mapbox_style=\"open-street-map\")\n",
        "\n",
        "fig.update_layout(margin={\"r\":0,\"t\":0,\"l\":0,\"b\":0})\n",
        "fig.show()"
      ],
      "metadata": {
        "colab": {
          "base_uri": "https://localhost:8080/"
        },
        "id": "EtXTQ3hKa7N7",
        "outputId": "8b69008c-b6e8-43a5-d67b-7d0c00daacde"
      },
      "execution_count": null,
      "outputs": [
        {
          "output_type": "display_data",
          "data": {
            "text/html": [
              "<html>\n",
              "<head><meta charset=\"utf-8\" /></head>\n",
              "<body>\n",
              "    <div>            <script src=\"https://cdnjs.cloudflare.com/ajax/libs/mathjax/2.7.5/MathJax.js?config=TeX-AMS-MML_SVG\"></script><script type=\"text/javascript\">if (window.MathJax) {MathJax.Hub.Config({SVG: {font: \"STIX-Web\"}});}</script>                <script type=\"text/javascript\">window.PlotlyConfig = {MathJaxConfig: 'local'};</script>\n",
              "        <script src=\"https://cdn.plot.ly/plotly-2.8.3.min.js\"></script>                <div id=\"e1640808-dfe9-41d6-97b0-8361cae5b227\" class=\"plotly-graph-div\" style=\"height:600px; width:100%;\"></div>            <script type=\"text/javascript\">                                    window.PLOTLYENV=window.PLOTLYENV || {};                                    if (document.getElementById(\"e1640808-dfe9-41d6-97b0-8361cae5b227\")) {                    Plotly.newPlot(                        \"e1640808-dfe9-41d6-97b0-8361cae5b227\",                        [{\"customdata\":[[-1],[-1],[-1],[-1],[-1],[-1],[-1],[-1],[-1],[-1],[-1],[-1],[0],[0],[0],[0],[0],[0],[0],[0],[0],[0],[0],[0],[0],[0],[0],[0],[0],[0],[0],[0],[0],[0],[1],[1],[1],[1],[1],[1],[1],[1],[1],[1],[1],[1],[1],[1],[1],[1],[1],[0],[0],[0],[0],[0],[0],[0],[0],[0],[0],[0],[0],[0],[0],[0],[0],[0],[0],[0],[0],[0],[0],[0],[0],[0],[0],[0],[0],[0],[0],[0],[0],[0],[0],[0],[0],[0],[0],[0],[0],[0],[0],[0],[0],[0],[0],[0],[0],[0],[0],[0],[0],[0],[0],[0],[0],[0],[0],[0],[0],[0],[0],[0],[0],[0],[0],[0],[0],[0],[0],[0],[0],[0],[0],[0],[0],[0],[0],[0],[0],[0],[0],[0],[1],[1],[1],[1],[1],[1],[1],[1],[1],[1],[1],[1],[1],[1],[1],[1],[1],[1],[1],[1],[1],[1],[1],[0],[0],[0],[0],[0],[0],[0],[0],[0],[0],[0],[0],[0],[0],[0],[0],[0],[0],[0],[0],[0]],\"hovertemplate\":\"<b>%{hovertext}</b><br><br>NATURE=TS<br>LAT=%{lat}<br>LON=%{lon}<br>USA_SSHS=%{customdata[0]}<extra></extra>\",\"hovertext\":[2012.0,2012.0,2012.0,2012.0,2012.0,2012.0,2012.0,2012.0,2012.0,2012.0,2012.0,2012.0,2012.0,2012.0,2012.0,2012.0,2012.0,2012.0,2012.0,2012.0,2012.0,2012.0,2012.0,2012.0,2012.0,2012.0,2012.0,2012.0,2012.0,2012.0,2012.0,2012.0,2012.0,2012.0,2012.0,2012.0,2012.0,2012.0,2012.0,2012.0,2012.0,2012.0,2012.0,2012.0,2012.0,2012.0,2012.0,2012.0,2012.0,2012.0,2012.0,2012.0,2012.0,2012.0,2012.0,2012.0,2012.0,2012.0,2012.0,2012.0,2012.0,2012.0,2012.0,2012.0,2012.0,2012.0,2012.0,2012.0,2012.0,2012.0,2012.0,2012.0,2012.0,2012.0,2012.0,2012.0,2012.0,2012.0,2012.0,2012.0,2012.0,2012.0,2012.0,2012.0,2012.0,2012.0,2012.0,2012.0,2012.0,2012.0,2012.0,2012.0,2012.0,2012.0,2012.0,2012.0,2012.0,2012.0,2012.0,2012.0,2012.0,2012.0,2012.0,2012.0,2012.0,2012.0,2012.0,2012.0,2012.0,2012.0,2012.0,2012.0,2012.0,2012.0,2012.0,2012.0,2012.0,2012.0,2012.0,2012.0,2012.0,2012.0,2012.0,2012.0,2012.0,2012.0,2012.0,2012.0,2012.0,2012.0,2012.0,2012.0,2012.0,2012.0,2012.0,2012.0,2012.0,2012.0,2012.0,2012.0,2012.0,2012.0,2012.0,2012.0,2012.0,2012.0,2012.0,2012.0,2012.0,2012.0,2012.0,2012.0,2012.0,2012.0,2012.0,2012.0,2012.0,2012.0,2012.0,2012.0,2012.0,2012.0,2012.0,2012.0,2012.0,2012.0,2012.0,2012.0,2012.0,2012.0,2012.0,2012.0,2012.0,2012.0,2012.0,2012.0,2012.0,2012.0],\"lat\":[15.5,15.5403,15.6,15.6925,15.8,15.8848,16.0,16.1773,16.4,16.6348,16.9,17.1925,17.5,17.7923,18.1,18.4424,18.8,19.1498,19.5,19.8424,20.2,20.5773,21.0,21.47,22.0,22.5848,23.2,23.7999,24.4,24.985,25.6,26.2924,27.0,27.6575,28.3,28.9796,29.6,30.1248,30.5,30.7174,30.8,30.8296,30.8,30.7562,30.7,30.6419,30.6,30.577,30.6,30.6775,30.8,30.9185,31.1,31.3625,31.7,32.0995,32.5,32.8297,33.1,33.3148,33.5,33.6999,33.9,34.0849,34.3,34.585,34.9,35.1999,35.5,35.8,36.1,36.415,36.7,36.9374,37.1,37.2024,37.2,37.0874,36.9,36.6999,36.5,36.3426,36.2,36.0647,35.9,35.6877,35.4,35.0373,34.6,34.1225,30.4,30.3775,30.4,30.4775,30.6,30.7501,30.9,31.0074,31.1,31.1999,31.3,31.3925,31.5,31.6424,31.8,31.9724,32.1,32.1301,32.1,32.0724,32.0,31.8649,31.7,31.55,31.4,31.2575,31.1,30.915,30.7,30.465,30.2,29.9,29.6,29.335,29.1,28.8774,28.7,28.5699,28.5,28.47,28.5,28.5625,28.7,28.9274,29.2,29.4274,29.7,30.07,30.5,30.9199,31.4,31.9774,32.6,33.2,33.8,34.4149,35.0,35.5298,36.0,36.4451,36.8,37.0824,37.2,37.1175,36.9,36.6649,36.4,36.15,35.9,35.6575,35.4,35.0849,34.8,34.6201,34.5,34.3773,34.3,34.2774,34.3,34.3349,34.4,34.4845,34.6,34.7273,34.9,35.1047,35.4,35.7893],\"legendgroup\":\"TS\",\"lon\":[-38.0,-38.6925,-39.4,-40.1224,-40.8,-41.3877,-41.9,-42.3651,-42.8,-43.2352,-43.7,-44.2351,-44.8,-45.3428,-45.9,-46.4926,-47.1,-47.7003,-48.3,-48.9078,-49.5,-50.0579,-50.6,-51.1652,-51.7,-52.1728,-52.6,-53.0228,-53.4,-53.7598,-54.0,-54.0678,-54.0,-53.8801,-53.7,-53.5593,-53.3,-52.833,-52.2,-51.4871,-50.7,-49.9071,-49.1,-48.3374,-47.5,-46.5097,-45.4,-44.2222,-43.0,-41.7553,-40.6,-39.6468,-38.8,-37.9051,-37.1,-36.4325,-35.9,-35.4545,-35.1,-34.7846,-34.5,-34.1999,-33.9,-33.5997,-33.3,-32.9851,-32.7,-32.4773,-32.3,-32.1201,-32.0,-31.9772,-32.0,-32.0299,-32.0,-31.8528,-31.6,-31.2874,-30.9,-30.4724,-30.0,-29.4927,-29.0,-28.5855,-28.2,-27.7472,-27.4,-27.2981,-27.3,-27.2653,-25.9,-25.7425,-25.6,-25.4477,-25.4,-25.5548,-25.8,-25.9926,-26.2,-26.4276,-26.7,-27.0351,-27.4,-27.75,-28.1,-28.4499,-28.8,-29.1727,-29.5,-29.7375,-29.9,-30.015,-30.1,-30.2075,-30.3,-30.3574,-30.4,-30.4424,-30.5,-30.5849,-30.7,-30.835,-31.0,-31.1849,-31.4,-31.635,-31.9,-32.185,-32.5,-32.8425,-33.2,-33.5651,-33.9,-34.1725,-34.4,-34.6004,-34.8,-35.0499,-35.3,-35.5079,-35.7,-35.8928,-36.1,-36.3427,-36.6,-36.8502,-37.1,-37.3355,-37.6,-37.9423,-38.3,-38.615,-38.9,-39.1957,-39.4,-39.4372,-39.4,-39.4,-39.4,-39.4227,-39.4,-39.2949,-39.1,-38.8226,-38.5,-38.215,-37.9,-37.5225,-37.1,-36.6574,-36.2,-35.7797,-35.3,-34.6946,-34.0,-33.2716,-32.5,-31.7213],\"marker\":{\"color\":\"#636efa\"},\"mode\":\"markers\",\"name\":\"TS\",\"showlegend\":true,\"subplot\":\"mapbox\",\"type\":\"scattermapbox\"},{\"customdata\":[[-3],[-3],[-3],[-3],[-3],[-3],[-3],[-3],[-3],[-3],[-3],[-3],[-3]],\"hovertemplate\":\"<b>%{hovertext}</b><br><br>NATURE=DS<br>LAT=%{lat}<br>LON=%{lon}<br>USA_SSHS=%{customdata[0]}<extra></extra>\",\"hovertext\":[2012.0,2012.0,2012.0,2012.0,2012.0,2012.0,2012.0,2012.0,2012.0,2012.0,2012.0,2012.0,2012.0],\"lat\":[33.6,33.0276,32.5,32.1274,31.8,31.385,31.0,30.6975,30.5,30.4125,36.3,36.9215,37.6],\"legendgroup\":\"DS\",\"lon\":[-27.2,-27.0571,-26.9,-26.8004,-26.7,-26.5498,-26.4,-26.3001,-26.2,-26.0576,-30.9,-30.0213,-29.1],\"marker\":{\"color\":\"#EF553B\"},\"mode\":\"markers\",\"name\":\"DS\",\"showlegend\":true,\"subplot\":\"mapbox\",\"type\":\"scattermapbox\"}],                        {\"template\":{\"data\":{\"bar\":[{\"error_x\":{\"color\":\"#2a3f5f\"},\"error_y\":{\"color\":\"#2a3f5f\"},\"marker\":{\"line\":{\"color\":\"#E5ECF6\",\"width\":0.5},\"pattern\":{\"fillmode\":\"overlay\",\"size\":10,\"solidity\":0.2}},\"type\":\"bar\"}],\"barpolar\":[{\"marker\":{\"line\":{\"color\":\"#E5ECF6\",\"width\":0.5},\"pattern\":{\"fillmode\":\"overlay\",\"size\":10,\"solidity\":0.2}},\"type\":\"barpolar\"}],\"carpet\":[{\"aaxis\":{\"endlinecolor\":\"#2a3f5f\",\"gridcolor\":\"white\",\"linecolor\":\"white\",\"minorgridcolor\":\"white\",\"startlinecolor\":\"#2a3f5f\"},\"baxis\":{\"endlinecolor\":\"#2a3f5f\",\"gridcolor\":\"white\",\"linecolor\":\"white\",\"minorgridcolor\":\"white\",\"startlinecolor\":\"#2a3f5f\"},\"type\":\"carpet\"}],\"choropleth\":[{\"colorbar\":{\"outlinewidth\":0,\"ticks\":\"\"},\"type\":\"choropleth\"}],\"contour\":[{\"colorbar\":{\"outlinewidth\":0,\"ticks\":\"\"},\"colorscale\":[[0.0,\"#0d0887\"],[0.1111111111111111,\"#46039f\"],[0.2222222222222222,\"#7201a8\"],[0.3333333333333333,\"#9c179e\"],[0.4444444444444444,\"#bd3786\"],[0.5555555555555556,\"#d8576b\"],[0.6666666666666666,\"#ed7953\"],[0.7777777777777778,\"#fb9f3a\"],[0.8888888888888888,\"#fdca26\"],[1.0,\"#f0f921\"]],\"type\":\"contour\"}],\"contourcarpet\":[{\"colorbar\":{\"outlinewidth\":0,\"ticks\":\"\"},\"type\":\"contourcarpet\"}],\"heatmap\":[{\"colorbar\":{\"outlinewidth\":0,\"ticks\":\"\"},\"colorscale\":[[0.0,\"#0d0887\"],[0.1111111111111111,\"#46039f\"],[0.2222222222222222,\"#7201a8\"],[0.3333333333333333,\"#9c179e\"],[0.4444444444444444,\"#bd3786\"],[0.5555555555555556,\"#d8576b\"],[0.6666666666666666,\"#ed7953\"],[0.7777777777777778,\"#fb9f3a\"],[0.8888888888888888,\"#fdca26\"],[1.0,\"#f0f921\"]],\"type\":\"heatmap\"}],\"heatmapgl\":[{\"colorbar\":{\"outlinewidth\":0,\"ticks\":\"\"},\"colorscale\":[[0.0,\"#0d0887\"],[0.1111111111111111,\"#46039f\"],[0.2222222222222222,\"#7201a8\"],[0.3333333333333333,\"#9c179e\"],[0.4444444444444444,\"#bd3786\"],[0.5555555555555556,\"#d8576b\"],[0.6666666666666666,\"#ed7953\"],[0.7777777777777778,\"#fb9f3a\"],[0.8888888888888888,\"#fdca26\"],[1.0,\"#f0f921\"]],\"type\":\"heatmapgl\"}],\"histogram\":[{\"marker\":{\"pattern\":{\"fillmode\":\"overlay\",\"size\":10,\"solidity\":0.2}},\"type\":\"histogram\"}],\"histogram2d\":[{\"colorbar\":{\"outlinewidth\":0,\"ticks\":\"\"},\"colorscale\":[[0.0,\"#0d0887\"],[0.1111111111111111,\"#46039f\"],[0.2222222222222222,\"#7201a8\"],[0.3333333333333333,\"#9c179e\"],[0.4444444444444444,\"#bd3786\"],[0.5555555555555556,\"#d8576b\"],[0.6666666666666666,\"#ed7953\"],[0.7777777777777778,\"#fb9f3a\"],[0.8888888888888888,\"#fdca26\"],[1.0,\"#f0f921\"]],\"type\":\"histogram2d\"}],\"histogram2dcontour\":[{\"colorbar\":{\"outlinewidth\":0,\"ticks\":\"\"},\"colorscale\":[[0.0,\"#0d0887\"],[0.1111111111111111,\"#46039f\"],[0.2222222222222222,\"#7201a8\"],[0.3333333333333333,\"#9c179e\"],[0.4444444444444444,\"#bd3786\"],[0.5555555555555556,\"#d8576b\"],[0.6666666666666666,\"#ed7953\"],[0.7777777777777778,\"#fb9f3a\"],[0.8888888888888888,\"#fdca26\"],[1.0,\"#f0f921\"]],\"type\":\"histogram2dcontour\"}],\"mesh3d\":[{\"colorbar\":{\"outlinewidth\":0,\"ticks\":\"\"},\"type\":\"mesh3d\"}],\"parcoords\":[{\"line\":{\"colorbar\":{\"outlinewidth\":0,\"ticks\":\"\"}},\"type\":\"parcoords\"}],\"pie\":[{\"automargin\":true,\"type\":\"pie\"}],\"scatter\":[{\"marker\":{\"colorbar\":{\"outlinewidth\":0,\"ticks\":\"\"}},\"type\":\"scatter\"}],\"scatter3d\":[{\"line\":{\"colorbar\":{\"outlinewidth\":0,\"ticks\":\"\"}},\"marker\":{\"colorbar\":{\"outlinewidth\":0,\"ticks\":\"\"}},\"type\":\"scatter3d\"}],\"scattercarpet\":[{\"marker\":{\"colorbar\":{\"outlinewidth\":0,\"ticks\":\"\"}},\"type\":\"scattercarpet\"}],\"scattergeo\":[{\"marker\":{\"colorbar\":{\"outlinewidth\":0,\"ticks\":\"\"}},\"type\":\"scattergeo\"}],\"scattergl\":[{\"marker\":{\"colorbar\":{\"outlinewidth\":0,\"ticks\":\"\"}},\"type\":\"scattergl\"}],\"scattermapbox\":[{\"marker\":{\"colorbar\":{\"outlinewidth\":0,\"ticks\":\"\"}},\"type\":\"scattermapbox\"}],\"scatterpolar\":[{\"marker\":{\"colorbar\":{\"outlinewidth\":0,\"ticks\":\"\"}},\"type\":\"scatterpolar\"}],\"scatterpolargl\":[{\"marker\":{\"colorbar\":{\"outlinewidth\":0,\"ticks\":\"\"}},\"type\":\"scatterpolargl\"}],\"scatterternary\":[{\"marker\":{\"colorbar\":{\"outlinewidth\":0,\"ticks\":\"\"}},\"type\":\"scatterternary\"}],\"surface\":[{\"colorbar\":{\"outlinewidth\":0,\"ticks\":\"\"},\"colorscale\":[[0.0,\"#0d0887\"],[0.1111111111111111,\"#46039f\"],[0.2222222222222222,\"#7201a8\"],[0.3333333333333333,\"#9c179e\"],[0.4444444444444444,\"#bd3786\"],[0.5555555555555556,\"#d8576b\"],[0.6666666666666666,\"#ed7953\"],[0.7777777777777778,\"#fb9f3a\"],[0.8888888888888888,\"#fdca26\"],[1.0,\"#f0f921\"]],\"type\":\"surface\"}],\"table\":[{\"cells\":{\"fill\":{\"color\":\"#EBF0F8\"},\"line\":{\"color\":\"white\"}},\"header\":{\"fill\":{\"color\":\"#C8D4E3\"},\"line\":{\"color\":\"white\"}},\"type\":\"table\"}]},\"layout\":{\"annotationdefaults\":{\"arrowcolor\":\"#2a3f5f\",\"arrowhead\":0,\"arrowwidth\":1},\"autotypenumbers\":\"strict\",\"coloraxis\":{\"colorbar\":{\"outlinewidth\":0,\"ticks\":\"\"}},\"colorscale\":{\"diverging\":[[0,\"#8e0152\"],[0.1,\"#c51b7d\"],[0.2,\"#de77ae\"],[0.3,\"#f1b6da\"],[0.4,\"#fde0ef\"],[0.5,\"#f7f7f7\"],[0.6,\"#e6f5d0\"],[0.7,\"#b8e186\"],[0.8,\"#7fbc41\"],[0.9,\"#4d9221\"],[1,\"#276419\"]],\"sequential\":[[0.0,\"#0d0887\"],[0.1111111111111111,\"#46039f\"],[0.2222222222222222,\"#7201a8\"],[0.3333333333333333,\"#9c179e\"],[0.4444444444444444,\"#bd3786\"],[0.5555555555555556,\"#d8576b\"],[0.6666666666666666,\"#ed7953\"],[0.7777777777777778,\"#fb9f3a\"],[0.8888888888888888,\"#fdca26\"],[1.0,\"#f0f921\"]],\"sequentialminus\":[[0.0,\"#0d0887\"],[0.1111111111111111,\"#46039f\"],[0.2222222222222222,\"#7201a8\"],[0.3333333333333333,\"#9c179e\"],[0.4444444444444444,\"#bd3786\"],[0.5555555555555556,\"#d8576b\"],[0.6666666666666666,\"#ed7953\"],[0.7777777777777778,\"#fb9f3a\"],[0.8888888888888888,\"#fdca26\"],[1.0,\"#f0f921\"]]},\"colorway\":[\"#636efa\",\"#EF553B\",\"#00cc96\",\"#ab63fa\",\"#FFA15A\",\"#19d3f3\",\"#FF6692\",\"#B6E880\",\"#FF97FF\",\"#FECB52\"],\"font\":{\"color\":\"#2a3f5f\"},\"geo\":{\"bgcolor\":\"white\",\"lakecolor\":\"white\",\"landcolor\":\"#E5ECF6\",\"showlakes\":true,\"showland\":true,\"subunitcolor\":\"white\"},\"hoverlabel\":{\"align\":\"left\"},\"hovermode\":\"closest\",\"mapbox\":{\"style\":\"light\"},\"paper_bgcolor\":\"white\",\"plot_bgcolor\":\"#E5ECF6\",\"polar\":{\"angularaxis\":{\"gridcolor\":\"white\",\"linecolor\":\"white\",\"ticks\":\"\"},\"bgcolor\":\"#E5ECF6\",\"radialaxis\":{\"gridcolor\":\"white\",\"linecolor\":\"white\",\"ticks\":\"\"}},\"scene\":{\"xaxis\":{\"backgroundcolor\":\"#E5ECF6\",\"gridcolor\":\"white\",\"gridwidth\":2,\"linecolor\":\"white\",\"showbackground\":true,\"ticks\":\"\",\"zerolinecolor\":\"white\"},\"yaxis\":{\"backgroundcolor\":\"#E5ECF6\",\"gridcolor\":\"white\",\"gridwidth\":2,\"linecolor\":\"white\",\"showbackground\":true,\"ticks\":\"\",\"zerolinecolor\":\"white\"},\"zaxis\":{\"backgroundcolor\":\"#E5ECF6\",\"gridcolor\":\"white\",\"gridwidth\":2,\"linecolor\":\"white\",\"showbackground\":true,\"ticks\":\"\",\"zerolinecolor\":\"white\"}},\"shapedefaults\":{\"line\":{\"color\":\"#2a3f5f\"}},\"ternary\":{\"aaxis\":{\"gridcolor\":\"white\",\"linecolor\":\"white\",\"ticks\":\"\"},\"baxis\":{\"gridcolor\":\"white\",\"linecolor\":\"white\",\"ticks\":\"\"},\"bgcolor\":\"#E5ECF6\",\"caxis\":{\"gridcolor\":\"white\",\"linecolor\":\"white\",\"ticks\":\"\"}},\"title\":{\"x\":0.05},\"xaxis\":{\"automargin\":true,\"gridcolor\":\"white\",\"linecolor\":\"white\",\"ticks\":\"\",\"title\":{\"standoff\":15},\"zerolinecolor\":\"white\",\"zerolinewidth\":2},\"yaxis\":{\"automargin\":true,\"gridcolor\":\"white\",\"linecolor\":\"white\",\"ticks\":\"\",\"title\":{\"standoff\":15},\"zerolinecolor\":\"white\",\"zerolinewidth\":2}}},\"mapbox\":{\"domain\":{\"x\":[0.0,1.0],\"y\":[0.0,1.0]},\"center\":{\"lat\":30.530141884816732,\"lon\":-36.471879057591615},\"zoom\":3,\"style\":\"open-street-map\"},\"legend\":{\"title\":{\"text\":\"NATURE\"},\"tracegroupgap\":0},\"margin\":{\"t\":0,\"r\":0,\"l\":0,\"b\":0},\"height\":600},                        {\"responsive\": true}                    ).then(function(){\n",
              "                            \n",
              "var gd = document.getElementById('e1640808-dfe9-41d6-97b0-8361cae5b227');\n",
              "var x = new MutationObserver(function (mutations, observer) {{\n",
              "        var display = window.getComputedStyle(gd).display;\n",
              "        if (!display || display === 'none') {{\n",
              "            console.log([gd, 'removed!']);\n",
              "            Plotly.purge(gd);\n",
              "            observer.disconnect();\n",
              "        }}\n",
              "}});\n",
              "\n",
              "// Listen for the removal of the full notebook cells\n",
              "var notebookContainer = gd.closest('#notebook-container');\n",
              "if (notebookContainer) {{\n",
              "    x.observe(notebookContainer, {childList: true});\n",
              "}}\n",
              "\n",
              "// Listen for the clearing of the current output cell\n",
              "var outputEl = gd.closest('.output');\n",
              "if (outputEl) {{\n",
              "    x.observe(outputEl, {childList: true});\n",
              "}}\n",
              "\n",
              "                        })                };                            </script>        </div>\n",
              "</body>\n",
              "</html>"
            ]
          },
          "metadata": {}
        }
      ]
    },
    {
      "cell_type": "markdown",
      "source": [
        "\n",
        "\n",
        "As it won't be very useful for the prediction part ➡ we choose to drop it."
      ],
      "metadata": {
        "id": "eMAOOzJFVNOc"
      }
    },
    {
      "cell_type": "code",
      "source": [
        "#df.drop('SID', axis=1, inplace=True)"
      ],
      "metadata": {
        "id": "XLbNvhRlMGQp"
      },
      "execution_count": null,
      "outputs": []
    },
    {
      "cell_type": "markdown",
      "source": [
        "##Nature \n"
      ],
      "metadata": {
        "id": "j2rO-L9heS7V"
      }
    },
    {
      "cell_type": "markdown",
      "source": [
        "Nature is a categorical column showing the storm nature.\n",
        "\n",
        "DS - Disturbance\n",
        "\n",
        "TS - Tropical\n",
        "\n",
        "ET - Extratropical\n",
        "\n",
        "SS - Subtropical\n",
        "\n",
        "NR - Not reported\n",
        "\n",
        "MX - Mixture (contradicting nature reports from different agencies)"
      ],
      "metadata": {
        "id": "xuIO6poXe6DZ"
      }
    },
    {
      "cell_type": "code",
      "source": [
        "df.NATURE.value_counts()"
      ],
      "metadata": {
        "colab": {
          "base_uri": "https://localhost:8080/"
        },
        "id": "NMax8I37VhJl",
        "outputId": "85085ce1-4580-459f-acdf-091c8afaf53f"
      },
      "execution_count": null,
      "outputs": [
        {
          "output_type": "execute_result",
          "data": {
            "text/plain": [
              "TS    105183\n",
              "ET     12071\n",
              "DS      3240\n",
              "SS      2173\n",
              "NR       983\n",
              "MX       488\n",
              "Name: NATURE, dtype: int64"
            ]
          },
          "metadata": {},
          "execution_count": 34
        }
      ]
    },
    {
      "cell_type": "markdown",
      "source": [
        "##Vizualising data for the year 2021"
      ],
      "metadata": {
        "id": "HeZxaMYKP38O"
      }
    },
    {
      "cell_type": "code",
      "source": [
        "df_2021= df.query(\" YEAR == 2021\")"
      ],
      "metadata": {
        "id": "ouOOfddyQvyQ"
      },
      "execution_count": null,
      "outputs": []
    },
    {
      "cell_type": "code",
      "source": [
        "plot_cols = ['STORM_DIR', 'LAT', 'LON', 'LANDFALL','USA_SSHS']\n",
        "plot_features = df_2021[plot_cols]\n",
        "plot_features.index = df_2021.ISO_TIME\n",
        "_ = plot_features.plot(subplots=True, figsize=(20,20), kind='line')\n"
      ],
      "metadata": {
        "colab": {
          "base_uri": "https://localhost:8080/",
          "height": 864
        },
        "id": "_l4W-Ap5Ox2t",
        "outputId": "ecb67f24-84d9-4a18-f0d5-8edf79843046"
      },
      "execution_count": null,
      "outputs": [
        {
          "output_type": "display_data",
          "data": {
            "image/png": "[encoded data removed]",
            "text/plain": [
              "<Figure size 1440x1440 with 5 Axes>"
            ]
          },
          "metadata": {
            "needs_background": "light"
          }
        }
      ]
    },
    {
      "cell_type": "code",
      "source": [
        "plot_features = df_2021[plot_cols][:200]\n",
        "plot_features.index = df_2021.ISO_TIME[:200]\n",
        "_ = plot_features.plot(subplots=True,  figsize=(20,20))"
      ],
      "metadata": {
        "colab": {
          "base_uri": "https://localhost:8080/",
          "height": 872
        },
        "id": "Vug-M2xgP9YA",
        "outputId": "599f523e-0851-448c-e574-6f02adb0ecf8"
      },
      "execution_count": null,
      "outputs": [
        {
          "output_type": "display_data",
          "data": {
            "image/png": "[encoded data removed]",
            "text/plain": [
              "<Figure size 1440x1440 with 5 Axes>"
            ]
          },
          "metadata": {
            "needs_background": "light"
          }
        }
      ]
    },
    {
      "cell_type": "code",
      "source": [
        "df_2021.USA_SSHS"
      ],
      "metadata": {
        "colab": {
          "base_uri": "https://localhost:8080/"
        },
        "id": "GfMAsNIPkROX",
        "outputId": "9da7e67d-bd5b-41d1-c735-52ff95f34f0e"
      },
      "execution_count": null,
      "outputs": [
        {
          "output_type": "execute_result",
          "data": {
            "text/plain": [
              "122506   -3\n",
              "122507   -3\n",
              "122508   -3\n",
              "122509   -3\n",
              "122510   -3\n",
              "         ..\n",
              "124134   -1\n",
              "124135   -1\n",
              "124136   -1\n",
              "124137   -1\n",
              "124138   -3\n",
              "Name: USA_SSHS, Length: 1633, dtype: int64"
            ]
          },
          "metadata": {},
          "execution_count": 38
        }
      ]
    },
    {
      "cell_type": "code",
      "source": [
        "#Plotting the storms of 2021 \n",
        "\n",
        "fig = px.scatter_mapbox(df_2021, lat=\"LAT\", lon=\"LON\", hover_name=\"YEAR\", hover_data=[\"USA_SSHS\"],color='USA_SSHS', zoom=3, height=600)\n",
        "fig.update_layout(\n",
        "    mapbox_style=\"white-bg\",\n",
        "    mapbox_layers=[\n",
        "        {\n",
        "            \"below\": 'traces',\n",
        "            \"sourcetype\": \"raster\",\n",
        "            \"sourceattribution\": \"United States Geological Survey\",\n",
        "            \"source\": [\n",
        "                \"https://basemap.nationalmap.gov/arcgis/rest/services/USGSImageryOnly/MapServer/tile/{z}/{y}/{x}\"\n",
        "            ]\n",
        "        },\n",
        "        {\n",
        "            \"sourcetype\": \"raster\",\n",
        "            \"sourceattribution\": \"Government of Canada\",\n",
        "            \"source\": [\"https://geo.weather.gc.ca/geomet/?\"\n",
        "                       \"SERVICE=WMS&VERSION=1.3.0&REQUEST=GetMap&BBOX={bbox-epsg-3857}&CRS=EPSG:3857\"\n",
        "                       \"&WIDTH=1000&HEIGHT=1000&LAYERS=RADAR_1KM_RDBR&TILED=true&FORMAT=image/png\"],\n",
        "        }\n",
        "      ])\n",
        "fig.update_layout(margin={\"r\":0,\"t\":0,\"l\":0,\"b\":0})\n",
        "fig.show()"
      ],
      "metadata": {
        "colab": {
          "base_uri": "https://localhost:8080/",
          "height": 617
        },
        "id": "-kRycpCxuQho",
        "outputId": "9be03bed-682c-4f52-950f-9efe9d746bd5"
      },
      "execution_count": null,
      "outputs": [
        {
          "output_type": "display_data",
          "data": {
            "text/html": [
              "<html>\n",
              "<head><meta charset=\"utf-8\" /></head>\n",
              "<body>\n",
              "    <div>            <script src=\"https://cdnjs.cloudflare.com/ajax/libs/mathjax/2.7.5/MathJax.js?config=TeX-AMS-MML_SVG\"></script><script type=\"text/javascript\">if (window.MathJax) {MathJax.Hub.Config({SVG: {font: \"STIX-Web\"}});}</script>                <script type=\"text/javascript\">window.PlotlyConfig = {MathJaxConfig: 'local'};</script>\n",
              "        <script src=\"https://cdn.plot.ly/plotly-2.8.3.min.js\"></script>                <div id=\"c78c2018-4521-482c-b602-c4f246862784\" class=\"plotly-graph-div\" style=\"height:600px; width:100%;\"></div>            <script type=\"text/javascript\">                                    window.PLOTLYENV=window.PLOTLYENV || {};                                    if (document.getElementById(\"c78c2018-4521-482c-b602-c4f246862784\")) {                    Plotly.newPlot(                        \"c78c2018-4521-482c-b602-c4f246862784\",                        [{\"customdata\":[[-3],[-3],[-3],[-3],[-3],[-3],[-3],[-3],[-4],[-4],[-4],[-4],[-4],[-4],[-4],[-4],[-4],[-4],[-4],[-4],[-4],[-4],[-4],[-4],[-4],[-4],[-2],[-2],[-2],[-2],[-2],[-2],[-2],[-2],[0],[0],[0],[0],[0],[0],[-3],[-3],[-3],[-3],[-3],[-3],[-3],[-3],[-3],[-1],[-1],[0],[0],[0],[0],[0],[0],[0],[0],[0],[0],[-4],[-3],[-3],[-3],[-3],[-3],[-3],[-3],[-3],[-3],[-3],[-3],[-3],[-3],[-3],[-3],[-3],[-3],[-3],[-3],[-3],[-3],[-3],[-3],[-3],[-3],[-3],[-3],[-3],[-3],[-3],[-3],[-3],[-3],[-3],[-3],[-3],[0],[0],[0],[0],[0],[-1],[-1],[-1],[-1],[-1],[-1],[-1],[-1],[-1],[-1],[-1],[0],[0],[0],[0],[0],[0],[0],[-3],[-3],[-3],[-3],[-3],[-3],[-3],[-3],[-3],[-3],[-3],[-3],[-3],[-3],[-3],[-3],[-1],[-1],[0],[0],[0],[-1],[-3],[-3],[-3],[-1],[-1],[0],[0],[0],[0],[0],[0],[0],[0],[0],[0],[1],[1],[1],[1],[1],[1],[1],[1],[1],[0],[0],[0],[0],[0],[0],[0],[0],[0],[0],[0],[0],[0],[0],[0],[0],[0],[0],[0],[0],[0],[0],[0],[0],[0],[0],[0],[1],[0],[0],[0],[0],[0],[0],[0],[0],[0],[0],[0],[0],[0],[0],[0],[0],[0],[0],[0],[0],[0],[-4],[-3],[-3],[-3],[-3],[-3],[-3],[-3],[-3],[-3],[-3],[-3],[-3],[-3],[-3],[-3],[-3],[-3],[-3],[-3],[-3],[-3],[-3],[-3],[-3],[-3],[-3],[0],[0],[0],[0],[0],[0],[0],[-1],[-1],[-1],[-1],[-1],[-1],[-1],[-1],[-1],[-1],[-1],[-1],[-1],[-1],[-1],[-1],[-1],[-1],[-1],[-1],[-1],[-3],[-3],[-3],[-3],[-3],[-3],[-3],[-3],[0],[0],[0],[0],[0],[0],[0],[0],[0],[0],[0],[0],[0],[0],[0],[-1],[-1],[-1],[-3],[-3],[-1],[-1],[-3],[-3],[-3],[-3],[-3],[-3],[-4],[-4],[-4],[-4],[-4],[-4],[-4],[-4],[-4],[-3],[-3],[-3],[-3],[-3],[-3],[-3],[-3],[-3],[-3],[-3],[-3],[-3],[-3],[-3],[-3],[-3],[-3],[-3],[-3],[-3],[-3],[-3],[-3],[-3],[-3],[-3],[-3],[-3],[-3],[-3],[-3],[-1],[-1],[-1],[-1],[0],[0],[0],[0],[0],[0],[0],[0],[0],[0],[0],[-1],[-1],[-1],[-1],[-1],[-1],[-1],[-1],[-1],[-1],[-1],[-1],[-1],[0],[0],[0],[0],[0],[0],[0],[0],[0],[0],[0],[1],[1],[1],[1],[1],[1],[1],[0],[0],[0],[0],[0],[0],[0],[1],[1],[1],[1],[2],[3],[3],[3],[2],[1],[0],[-1],[-3],[-3],[-3],[-3],[-3],[-3],[-3],[-3],[-3],[-3],[-3],[-3],[-3],[-3],[-3],[-3],[-1],[-1],[-1],[-1],[-1],[-1],[0],[0],[0],[0],[0],[0],[0],[0],[0],[0],[0],[0],[0],[0],[0],[0],[0],[0],[0],[0],[0],[0],[0],[0],[0],[0],[0],[0],[0],[0],[0],[0],[0],[0],[0],[0],[0],[0],[0],[0],[1],[1],[1],[1],[1],[0],[0],[0],[0],[0],[-1],[-1],[-1],[-1],[-1],[-1],[-3],[-3],[-3],[-3],[-3],[-3],[-3],[-3],[-3],[-3],[-3],[-3],[-3],[-3],[-3],[-3],[-3],[-3],[-3],[-3],[-3],[-3],[-3],[-3],[-3],[-3],[-3],[-3],[-3],[-3],[-3],[-3],[-3],[-3],[-3],[-3],[-3],[-3],[-3],[-3],[-3],[-3],[-3],[-3],[-3],[-3],[-3],[-3],[-3],[-3],[-3],[-3],[-3],[-3],[-3],[-3],[-3],[-3],[-3],[-3],[-3],[-3],[-3],[-3],[-3],[-1],[-1],[-1],[0],[0],[0],[0],[0],[-4],[-3],[-3],[-3],[-3],[-3],[-3],[-3],[-3],[-3],[-3],[-3],[-3],[-3],[-3],[-3],[-3],[-3],[-3],[-3],[-3],[-3],[-3],[-3],[-3],[-3],[-3],[-3],[-3],[-3],[-3],[-3],[-3],[-3],[-3],[-3],[-3],[-3],[-3],[-3],[-3],[-3],[-3],[-3],[-3],[-3],[-3],[-3],[-3],[-3],[-3],[-1],[-1],[-1],[-1],[-1],[-1],[-1],[-1],[-1],[-1],[-1],[-1],[-1],[-1],[-1],[-1],[0],[0],[0],[0],[0],[0],[0],[0],[0],[-1],[-1],[-1],[-1],[-1],[-1],[-1],[-1],[-1],[-1],[-1],[-1],[-3],[-3],[-3],[-3],[-3],[-3],[-3],[-3],[-3],[-3],[-3],[-3],[-3],[-3],[-3],[-3],[-3],[-3],[-1],[-1],[0],[0],[0],[0],[0],[0],[0],[0],[1],[1],[1],[1],[1],[1],[1],[1],[2],[2],[2],[3],[4],[4],[4],[4],[4],[4],[3],[2],[1],[0],[0],[0],[0],[-1],[-1],[-1],[-1],[-1],[-1],[-1],[-3],[-3],[-1],[-1],[-1],[-1],[-4],[-4],[-4],[-4],[-4],[-4],[-4],[-3],[-3],[-3],[-3],[-3],[-3],[-3],[-3],[-3],[-3],[-3],[-3],[-3],[-3],[-1],[-1],[0],[0],[0],[0],[0],[0],[0],[0],[0],[0],[1],[1],[1],[1],[1],[1],[1],[1],[1],[1],[1],[1],[2],[2],[3],[3],[3],[3],[3],[3],[3],[3],[3],[3],[3],[3],[3],[3],[3],[3],[3],[3],[3],[3],[3],[3],[3],[3],[3],[3],[3],[3],[3],[3],[3],[3],[3],[3],[3],[3],[2],[2],[2],[2],[2],[2],[2],[1],[1],[1],[1],[1],[1],[1],[1],[1],[1],[1],[1],[1],[1],[1],[1],[0],[-4],[-3],[-3],[-3],[-3],[-3],[-3],[-3],[-3],[-3],[-3],[-3],[-3],[-3],[-3],[-3],[-3],[-3],[-3],[-3],[-3],[-3],[-3],[-3],[-3],[-3],[-3],[-3],[-3],[-3],[-3],[-3],[-3],[-3],[-3],[-3],[-3],[-3],[-3],[-3],[-3],[-3],[-3],[-3],[-3],[-3],[-3],[-3],[-3],[-3],[-3],[-3],[-3],[-3],[-3],[-3],[-3],[-3],[-3],[-3],[-3],[-3],[-3],[-3],[-3],[-3],[-3],[-3],[-3],[-3],[-3],[0],[0],[0],[0],[0],[-1],[-1],[-1],[-1],[-1],[-3],[-3],[-3],[-3],[-3],[-3],[-3],[-3],[-3],[-3],[-3],[-3],[-3],[-3],[-3],[-3],[-3],[0],[0],[0],[0],[0],[0],[0],[0],[0],[0],[0],[0],[0],[0],[1],[1],[0],[0],[0],[0],[-1],[-1],[-1],[-1],[-1],[-1],[-1],[-1],[-1],[-1],[-1],[-3],[-3],[-3],[-3],[-3],[-3],[-3],[-3],[-3],[-3],[-3],[-3],[-3],[-3],[-3],[-3],[-3],[-3],[-3],[-3],[-3],[-3],[-3],[-3],[-3],[-3],[-3],[-3],[-3],[-3],[-3],[-3],[-3],[-3],[-3],[-3],[-3],[-3],[-3],[-3],[-3],[-3],[-3],[-3],[-3],[-3],[-3],[-3],[-3],[-3],[-3],[-3],[-3],[-3],[-3],[-3],[-3],[-1],[-1],[0],[0],[0],[0],[0],[0],[0],[0],[0],[0],[0],[0],[0],[0],[0],[0],[0],[0],[0],[-1],[-1],[-1],[-1],[-1],[-1],[-1],[-1],[-1],[-1],[-1],[-1],[-1],[-3],[-3],[-3],[-3],[-3],[-3],[-3],[-3],[-3],[-3],[-3],[-3],[-3],[-3],[-3],[-3],[-3],[-3],[-3],[-3],[-3],[-3],[-3],[-3],[-3],[-3],[-3],[-3],[-3],[-3],[-3],[-3],[-3],[-3],[-3],[-3],[-3],[-3],[-3],[-3],[-3],[-3],[-3],[-3],[-3],[-3],[-3],[-3],[-3],[-3],[-3],[-3],[-3],[-3],[-3],[-3],[-3],[-3],[-3],[-3],[-3],[-3],[-3],[-3],[-3],[-3],[-3],[-3],[-3],[-3],[-3],[-3],[-3],[-3],[-3],[-3],[-3],[-3],[-3],[-3],[-3],[-3],[-3],[0],[0],[0],[0],[0],[0],[0],[0],[-4],[-4],[-4],[-4],[-4],[-4],[-4],[-4],[-4],[-4],[-4],[-4],[-4],[-4],[-4],[-4],[-4],[-4],[-4],[-4],[-4],[-4],[-4],[-4],[-4],[-4],[-4],[-4],[-4],[-4],[-4],[-4],[-4],[-4],[-4],[-4],[-4],[-4],[-4],[-4],[-4],[-4],[-4],[-4],[-4],[-4],[-4],[-4],[-4],[-4],[-4],[-4],[-4],[-4],[-4],[-4],[-4],[-4],[-4],[-3],[-3],[-3],[-3],[-3],[-3],[-3],[-3],[-3],[-3],[-3],[-3],[-3],[-3],[-3],[-3],[-1],[-1],[-1],[-1],[-1],[-1],[-1],[-1],[0],[0],[0],[0],[0],[0],[0],[0],[0],[0],[0],[0],[0],[0],[0],[0],[0],[0],[0],[-1],[-1],[-1],[-1],[-1],[-1],[-1],[-1],[-1],[-1],[-1],[-3],[-3],[-3],[-3],[-3],[-3],[-3],[-3],[-3],[-3],[-3],[-3],[-3],[-3],[-3],[-3],[-3],[-3],[-3],[-3],[-3],[-3],[-3],[-3],[-3],[-3],[-3],[-3],[-3],[-3],[-3],[-3],[-3],[-3],[-3],[-3],[-3],[-1],[-1],[-1],[-1],[0],[0],[0],[0],[0],[0],[0],[0],[1],[1],[1],[1],[1],[1],[2],[2],[2],[3],[3],[3],[4],[4],[4],[4],[4],[4],[4],[4],[4],[4],[4],[4],[4],[3],[3],[3],[3],[3],[3],[3],[4],[4],[4],[4],[4],[4],[4],[4],[4],[4],[4],[4],[4],[4],[4],[4],[4],[4],[4],[4],[4],[4],[4],[4],[4],[4],[4],[4],[4],[4],[4],[4],[4],[4],[4],[3],[3],[3],[3],[2],[2],[2],[2],[2],[2],[2],[2],[2],[2],[2],[2],[1],[1],[1],[1],[1],[-4],[-3],[-3],[-3],[-3],[-3],[-3],[-3],[-3],[-3],[-3],[-2],[-2],[-2],[-2],[-2],[-2],[-2],[-2],[-3],[-3],[-3],[-3],[-3],[-3],[-3],[-1],[-1],[0],[0],[0],[0],[0],[0],[0],[0],[0],[0],[0],[0],[0],[0],[0],[0],[0],[0],[0],[0],[0],[0],[0],[-1],[-1],[-1],[-1],[-1],[-1],[-1],[-1],[-1],[-1],[-1],[-1],[-1],[-1],[-1],[-3],[-3],[-3],[-3],[-3],[-3],[-3],[-3],[-3],[-3],[-3],[-3],[-3],[-3],[-3],[-4],[-4],[-4],[-4],[-4],[-4],[-4],[-4],[-4],[-4],[-4],[-4],[-4],[-4],[-4],[-4],[-4],[-4],[-4],[-4],[-4],[-4],[-4],[-4],[-4],[-4],[-4],[-4],[-4],[-4],[-4],[-4],[-4],[-4],[-2],[-2],[-2],[-2],[-2],[-2],[-2],[-2],[-2],[-2],[-2],[-2],[-2],[-2],[0],[0],[0],[0],[0],[0],[0],[0],[0],[0],[0],[0],[0],[0],[0],[0],[0],[0],[0],[0],[0],[0],[0],[0],[0],[0],[0],[0],[0],[0],[0],[0],[0],[0],[0],[0],[0],[0],[0],[0],[0],[0],[0],[0],[0],[0],[-3],[-3],[-3],[-3],[-3],[-3],[-3],[-3],[-3],[-3],[-3],[-3],[-3],[-3],[-3],[-3],[-3],[-3],[-3],[-3],[-3],[-1],[-1],[-1],[-1],[-1],[-1],[-1],[-1],[-1],[-1],[-1],[-1],[-1],[-1],[-1],[-1],[-1],[-1],[-1],[-1],[-1],[-1],[-1],[-1],[-1],[-1],[0],[0],[0],[0],[0],[-1],[-1],[-1],[-1],[-1],[-1],[-1],[-1],[-1],[-1],[-1],[-1],[-1],[-1],[-1],[-1],[-1],[-1],[-1],[-3]],\"hovertemplate\":\"<b>%{hovertext}</b><br><br>LAT=%{lat}<br>LON=%{lon}<br>USA_SSHS=%{marker.color}<extra></extra>\",\"hovertext\":[2021.0,2021.0,2021.0,2021.0,2021.0,2021.0,2021.0,2021.0,2021.0,2021.0,2021.0,2021.0,2021.0,2021.0,2021.0,2021.0,2021.0,2021.0,2021.0,2021.0,2021.0,2021.0,2021.0,2021.0,2021.0,2021.0,2021.0,2021.0,2021.0,2021.0,2021.0,2021.0,2021.0,2021.0,2021.0,2021.0,2021.0,2021.0,2021.0,2021.0,2021.0,2021.0,2021.0,2021.0,2021.0,2021.0,2021.0,2021.0,2021.0,2021.0,2021.0,2021.0,2021.0,2021.0,2021.0,2021.0,2021.0,2021.0,2021.0,2021.0,2021.0,2021.0,2021.0,2021.0,2021.0,2021.0,2021.0,2021.0,2021.0,2021.0,2021.0,2021.0,2021.0,2021.0,2021.0,2021.0,2021.0,2021.0,2021.0,2021.0,2021.0,2021.0,2021.0,2021.0,2021.0,2021.0,2021.0,2021.0,2021.0,2021.0,2021.0,2021.0,2021.0,2021.0,2021.0,2021.0,2021.0,2021.0,2021.0,2021.0,2021.0,2021.0,2021.0,2021.0,2021.0,2021.0,2021.0,2021.0,2021.0,2021.0,2021.0,2021.0,2021.0,2021.0,2021.0,2021.0,2021.0,2021.0,2021.0,2021.0,2021.0,2021.0,2021.0,2021.0,2021.0,2021.0,2021.0,2021.0,2021.0,2021.0,2021.0,2021.0,2021.0,2021.0,2021.0,2021.0,2021.0,2021.0,2021.0,2021.0,2021.0,2021.0,2021.0,2021.0,2021.0,2021.0,2021.0,2021.0,2021.0,2021.0,2021.0,2021.0,2021.0,2021.0,2021.0,2021.0,2021.0,2021.0,2021.0,2021.0,2021.0,2021.0,2021.0,2021.0,2021.0,2021.0,2021.0,2021.0,2021.0,2021.0,2021.0,2021.0,2021.0,2021.0,2021.0,2021.0,2021.0,2021.0,2021.0,2021.0,2021.0,2021.0,2021.0,2021.0,2021.0,2021.0,2021.0,2021.0,2021.0,2021.0,2021.0,2021.0,2021.0,2021.0,2021.0,2021.0,2021.0,2021.0,2021.0,2021.0,2021.0,2021.0,2021.0,2021.0,2021.0,2021.0,2021.0,2021.0,2021.0,2021.0,2021.0,2021.0,2021.0,2021.0,2021.0,2021.0,2021.0,2021.0,2021.0,2021.0,2021.0,2021.0,2021.0,2021.0,2021.0,2021.0,2021.0,2021.0,2021.0,2021.0,2021.0,2021.0,2021.0,2021.0,2021.0,2021.0,2021.0,2021.0,2021.0,2021.0,2021.0,2021.0,2021.0,2021.0,2021.0,2021.0,2021.0,2021.0,2021.0,2021.0,2021.0,2021.0,2021.0,2021.0,2021.0,2021.0,2021.0,2021.0,2021.0,2021.0,2021.0,2021.0,2021.0,2021.0,2021.0,2021.0,2021.0,2021.0,2021.0,2021.0,2021.0,2021.0,2021.0,2021.0,2021.0,2021.0,2021.0,2021.0,2021.0,2021.0,2021.0,2021.0,2021.0,2021.0,2021.0,2021.0,2021.0,2021.0,2021.0,2021.0,2021.0,2021.0,2021.0,2021.0,2021.0,2021.0,2021.0,2021.0,2021.0,2021.0,2021.0,2021.0,2021.0,2021.0,2021.0,2021.0,2021.0,2021.0,2021.0,2021.0,2021.0,2021.0,2021.0,2021.0,2021.0,2021.0,2021.0,2021.0,2021.0,2021.0,2021.0,2021.0,2021.0,2021.0,2021.0,2021.0,2021.0,2021.0,2021.0,2021.0,2021.0,2021.0,2021.0,2021.0,2021.0,2021.0,2021.0,2021.0,2021.0,2021.0,2021.0,2021.0,2021.0,2021.0,2021.0,2021.0,2021.0,2021.0,2021.0,2021.0,2021.0,2021.0,2021.0,2021.0,2021.0,2021.0,2021.0,2021.0,2021.0,2021.0,2021.0,2021.0,2021.0,2021.0,2021.0,2021.0,2021.0,2021.0,2021.0,2021.0,2021.0,2021.0,2021.0,2021.0,2021.0,2021.0,2021.0,2021.0,2021.0,2021.0,2021.0,2021.0,2021.0,2021.0,2021.0,2021.0,2021.0,2021.0,2021.0,2021.0,2021.0,2021.0,2021.0,2021.0,2021.0,2021.0,2021.0,2021.0,2021.0,2021.0,2021.0,2021.0,2021.0,2021.0,2021.0,2021.0,2021.0,2021.0,2021.0,2021.0,2021.0,2021.0,2021.0,2021.0,2021.0,2021.0,2021.0,2021.0,2021.0,2021.0,2021.0,2021.0,2021.0,2021.0,2021.0,2021.0,2021.0,2021.0,2021.0,2021.0,2021.0,2021.0,2021.0,2021.0,2021.0,2021.0,2021.0,2021.0,2021.0,2021.0,2021.0,2021.0,2021.0,2021.0,2021.0,2021.0,2021.0,2021.0,2021.0,2021.0,2021.0,2021.0,2021.0,2021.0,2021.0,2021.0,2021.0,2021.0,2021.0,2021.0,2021.0,2021.0,2021.0,2021.0,2021.0,2021.0,2021.0,2021.0,2021.0,2021.0,2021.0,2021.0,2021.0,2021.0,2021.0,2021.0,2021.0,2021.0,2021.0,2021.0,2021.0,2021.0,2021.0,2021.0,2021.0,2021.0,2021.0,2021.0,2021.0,2021.0,2021.0,2021.0,2021.0,2021.0,2021.0,2021.0,2021.0,2021.0,2021.0,2021.0,2021.0,2021.0,2021.0,2021.0,2021.0,2021.0,2021.0,2021.0,2021.0,2021.0,2021.0,2021.0,2021.0,2021.0,2021.0,2021.0,2021.0,2021.0,2021.0,2021.0,2021.0,2021.0,2021.0,2021.0,2021.0,2021.0,2021.0,2021.0,2021.0,2021.0,2021.0,2021.0,2021.0,2021.0,2021.0,2021.0,2021.0,2021.0,2021.0,2021.0,2021.0,2021.0,2021.0,2021.0,2021.0,2021.0,2021.0,2021.0,2021.0,2021.0,2021.0,2021.0,2021.0,2021.0,2021.0,2021.0,2021.0,2021.0,2021.0,2021.0,2021.0,2021.0,2021.0,2021.0,2021.0,2021.0,2021.0,2021.0,2021.0,2021.0,2021.0,2021.0,2021.0,2021.0,2021.0,2021.0,2021.0,2021.0,2021.0,2021.0,2021.0,2021.0,2021.0,2021.0,2021.0,2021.0,2021.0,2021.0,2021.0,2021.0,2021.0,2021.0,2021.0,2021.0,2021.0,2021.0,2021.0,2021.0,2021.0,2021.0,2021.0,2021.0,2021.0,2021.0,2021.0,2021.0,2021.0,2021.0,2021.0,2021.0,2021.0,2021.0,2021.0,2021.0,2021.0,2021.0,2021.0,2021.0,2021.0,2021.0,2021.0,2021.0,2021.0,2021.0,2021.0,2021.0,2021.0,2021.0,2021.0,2021.0,2021.0,2021.0,2021.0,2021.0,2021.0,2021.0,2021.0,2021.0,2021.0,2021.0,2021.0,2021.0,2021.0,2021.0,2021.0,2021.0,2021.0,2021.0,2021.0,2021.0,2021.0,2021.0,2021.0,2021.0,2021.0,2021.0,2021.0,2021.0,2021.0,2021.0,2021.0,2021.0,2021.0,2021.0,2021.0,2021.0,2021.0,2021.0,2021.0,2021.0,2021.0,2021.0,2021.0,2021.0,2021.0,2021.0,2021.0,2021.0,2021.0,2021.0,2021.0,2021.0,2021.0,2021.0,2021.0,2021.0,2021.0,2021.0,2021.0,2021.0,2021.0,2021.0,2021.0,2021.0,2021.0,2021.0,2021.0,2021.0,2021.0,2021.0,2021.0,2021.0,2021.0,2021.0,2021.0,2021.0,2021.0,2021.0,2021.0,2021.0,2021.0,2021.0,2021.0,2021.0,2021.0,2021.0,2021.0,2021.0,2021.0,2021.0,2021.0,2021.0,2021.0,2021.0,2021.0,2021.0,2021.0,2021.0,2021.0,2021.0,2021.0,2021.0,2021.0,2021.0,2021.0,2021.0,2021.0,2021.0,2021.0,2021.0,2021.0,2021.0,2021.0,2021.0,2021.0,2021.0,2021.0,2021.0,2021.0,2021.0,2021.0,2021.0,2021.0,2021.0,2021.0,2021.0,2021.0,2021.0,2021.0,2021.0,2021.0,2021.0,2021.0,2021.0,2021.0,2021.0,2021.0,2021.0,2021.0,2021.0,2021.0,2021.0,2021.0,2021.0,2021.0,2021.0,2021.0,2021.0,2021.0,2021.0,2021.0,2021.0,2021.0,2021.0,2021.0,2021.0,2021.0,2021.0,2021.0,2021.0,2021.0,2021.0,2021.0,2021.0,2021.0,2021.0,2021.0,2021.0,2021.0,2021.0,2021.0,2021.0,2021.0,2021.0,2021.0,2021.0,2021.0,2021.0,2021.0,2021.0,2021.0,2021.0,2021.0,2021.0,2021.0,2021.0,2021.0,2021.0,2021.0,2021.0,2021.0,2021.0,2021.0,2021.0,2021.0,2021.0,2021.0,2021.0,2021.0,2021.0,2021.0,2021.0,2021.0,2021.0,2021.0,2021.0,2021.0,2021.0,2021.0,2021.0,2021.0,2021.0,2021.0,2021.0,2021.0,2021.0,2021.0,2021.0,2021.0,2021.0,2021.0,2021.0,2021.0,2021.0,2021.0,2021.0,2021.0,2021.0,2021.0,2021.0,2021.0,2021.0,2021.0,2021.0,2021.0,2021.0,2021.0,2021.0,2021.0,2021.0,2021.0,2021.0,2021.0,2021.0,2021.0,2021.0,2021.0,2021.0,2021.0,2021.0,2021.0,2021.0,2021.0,2021.0,2021.0,2021.0,2021.0,2021.0,2021.0,2021.0,2021.0,2021.0,2021.0,2021.0,2021.0,2021.0,2021.0,2021.0,2021.0,2021.0,2021.0,2021.0,2021.0,2021.0,2021.0,2021.0,2021.0,2021.0,2021.0,2021.0,2021.0,2021.0,2021.0,2021.0,2021.0,2021.0,2021.0,2021.0,2021.0,2021.0,2021.0,2021.0,2021.0,2021.0,2021.0,2021.0,2021.0,2021.0,2021.0,2021.0,2021.0,2021.0,2021.0,2021.0,2021.0,2021.0,2021.0,2021.0,2021.0,2021.0,2021.0,2021.0,2021.0,2021.0,2021.0,2021.0,2021.0,2021.0,2021.0,2021.0,2021.0,2021.0,2021.0,2021.0,2021.0,2021.0,2021.0,2021.0,2021.0,2021.0,2021.0,2021.0,2021.0,2021.0,2021.0,2021.0,2021.0,2021.0,2021.0,2021.0,2021.0,2021.0,2021.0,2021.0,2021.0,2021.0,2021.0,2021.0,2021.0,2021.0,2021.0,2021.0,2021.0,2021.0,2021.0,2021.0,2021.0,2021.0,2021.0,2021.0,2021.0,2021.0,2021.0,2021.0,2021.0,2021.0,2021.0,2021.0,2021.0,2021.0,2021.0,2021.0,2021.0,2021.0,2021.0,2021.0,2021.0,2021.0,2021.0,2021.0,2021.0,2021.0,2021.0,2021.0,2021.0,2021.0,2021.0,2021.0,2021.0,2021.0,2021.0,2021.0,2021.0,2021.0,2021.0,2021.0,2021.0,2021.0,2021.0,2021.0,2021.0,2021.0,2021.0,2021.0,2021.0,2021.0,2021.0,2021.0,2021.0,2021.0,2021.0,2021.0,2021.0,2021.0,2021.0,2021.0,2021.0,2021.0,2021.0,2021.0,2021.0,2021.0,2021.0,2021.0,2021.0,2021.0,2021.0,2021.0,2021.0,2021.0,2021.0,2021.0,2021.0,2021.0,2021.0,2021.0,2021.0,2021.0,2021.0,2021.0,2021.0,2021.0,2021.0,2021.0,2021.0,2021.0,2021.0,2021.0,2021.0,2021.0,2021.0,2021.0,2021.0,2021.0,2021.0,2021.0,2021.0,2021.0,2021.0,2021.0,2021.0,2021.0,2021.0,2021.0,2021.0,2021.0,2021.0,2021.0,2021.0,2021.0,2021.0,2021.0,2021.0,2021.0,2021.0,2021.0,2021.0,2021.0,2021.0,2021.0,2021.0,2021.0,2021.0,2021.0,2021.0,2021.0,2021.0,2021.0,2021.0,2021.0,2021.0,2021.0,2021.0,2021.0,2021.0,2021.0,2021.0,2021.0,2021.0,2021.0,2021.0,2021.0,2021.0,2021.0,2021.0,2021.0,2021.0,2021.0,2021.0,2021.0,2021.0,2021.0,2021.0,2021.0,2021.0,2021.0,2021.0,2021.0,2021.0,2021.0,2021.0,2021.0,2021.0,2021.0,2021.0,2021.0,2021.0,2021.0,2021.0,2021.0,2021.0,2021.0,2021.0,2021.0,2021.0,2021.0,2021.0,2021.0,2021.0,2021.0,2021.0,2021.0,2021.0,2021.0,2021.0,2021.0,2021.0,2021.0,2021.0,2021.0,2021.0,2021.0,2021.0,2021.0,2021.0,2021.0,2021.0,2021.0,2021.0,2021.0,2021.0,2021.0,2021.0,2021.0,2021.0,2021.0,2021.0,2021.0,2021.0,2021.0,2021.0,2021.0,2021.0,2021.0,2021.0,2021.0,2021.0,2021.0,2021.0,2021.0,2021.0,2021.0,2021.0,2021.0,2021.0,2021.0,2021.0,2021.0,2021.0,2021.0,2021.0,2021.0,2021.0,2021.0,2021.0,2021.0,2021.0,2021.0,2021.0,2021.0,2021.0,2021.0,2021.0,2021.0,2021.0,2021.0,2021.0,2021.0,2021.0,2021.0,2021.0,2021.0,2021.0,2021.0,2021.0,2021.0,2021.0,2021.0,2021.0,2021.0,2021.0,2021.0,2021.0,2021.0,2021.0,2021.0,2021.0,2021.0,2021.0,2021.0,2021.0,2021.0,2021.0,2021.0,2021.0,2021.0,2021.0,2021.0,2021.0,2021.0,2021.0,2021.0,2021.0,2021.0,2021.0,2021.0,2021.0,2021.0,2021.0,2021.0,2021.0,2021.0,2021.0,2021.0,2021.0,2021.0,2021.0,2021.0,2021.0,2021.0,2021.0,2021.0,2021.0,2021.0,2021.0,2021.0,2021.0,2021.0,2021.0,2021.0,2021.0,2021.0,2021.0,2021.0,2021.0,2021.0,2021.0,2021.0,2021.0,2021.0,2021.0,2021.0,2021.0,2021.0,2021.0,2021.0,2021.0,2021.0,2021.0,2021.0,2021.0,2021.0,2021.0,2021.0,2021.0,2021.0,2021.0,2021.0,2021.0,2021.0,2021.0,2021.0,2021.0,2021.0,2021.0,2021.0,2021.0,2021.0,2021.0,2021.0,2021.0,2021.0,2021.0,2021.0,2021.0,2021.0,2021.0,2021.0,2021.0,2021.0,2021.0,2021.0,2021.0,2021.0,2021.0,2021.0,2021.0,2021.0,2021.0,2021.0,2021.0,2021.0,2021.0,2021.0,2021.0,2021.0,2021.0,2021.0,2021.0,2021.0,2021.0,2021.0,2021.0,2021.0,2021.0,2021.0,2021.0,2021.0,2021.0,2021.0,2021.0,2021.0,2021.0,2021.0,2021.0,2021.0,2021.0,2021.0,2021.0,2021.0,2021.0,2021.0,2021.0,2021.0,2021.0,2021.0,2021.0,2021.0,2021.0,2021.0,2021.0,2021.0,2021.0,2021.0,2021.0,2021.0,2021.0,2021.0,2021.0,2021.0,2021.0,2021.0,2021.0,2021.0,2021.0,2021.0,2021.0,2021.0,2021.0,2021.0,2021.0,2021.0,2021.0,2021.0,2021.0,2021.0,2021.0,2021.0,2021.0,2021.0,2021.0,2021.0,2021.0,2021.0,2021.0,2021.0,2021.0,2021.0,2021.0,2021.0,2021.0,2021.0,2021.0,2021.0,2021.0,2021.0,2021.0,2021.0,2021.0,2021.0,2021.0,2021.0,2021.0,2021.0,2021.0,2021.0,2021.0,2021.0,2021.0,2021.0,2021.0,2021.0,2021.0,2021.0,2021.0,2021.0,2021.0,2021.0,2021.0,2021.0,2021.0,2021.0,2021.0,2021.0,2021.0,2021.0,2021.0,2021.0,2021.0,2021.0,2021.0,2021.0,2021.0,2021.0,2021.0,2021.0,2021.0,2021.0,2021.0,2021.0,2021.0,2021.0,2021.0,2021.0,2021.0,2021.0,2021.0,2021.0,2021.0,2021.0,2021.0,2021.0,2021.0,2021.0,2021.0,2021.0,2021.0,2021.0,2021.0,2021.0,2021.0,2021.0,2021.0,2021.0,2021.0,2021.0,2021.0,2021.0,2021.0,2021.0,2021.0,2021.0,2021.0,2021.0,2021.0,2021.0,2021.0,2021.0,2021.0,2021.0,2021.0,2021.0,2021.0,2021.0,2021.0,2021.0,2021.0,2021.0,2021.0,2021.0,2021.0,2021.0,2021.0,2021.0,2021.0,2021.0,2021.0,2021.0,2021.0,2021.0,2021.0,2021.0,2021.0,2021.0,2021.0,2021.0,2021.0,2021.0,2021.0,2021.0,2021.0,2021.0,2021.0,2021.0,2021.0,2021.0,2021.0,2021.0,2021.0,2021.0,2021.0,2021.0,2021.0,2021.0,2021.0,2021.0,2021.0,2021.0,2021.0,2021.0,2021.0,2021.0,2021.0,2021.0,2021.0,2021.0,2021.0,2021.0,2021.0,2021.0,2021.0,2021.0,2021.0,2021.0,2021.0,2021.0,2021.0,2021.0,2021.0,2021.0,2021.0,2021.0,2021.0,2021.0,2021.0,2021.0,2021.0,2021.0,2021.0,2021.0,2021.0,2021.0,2021.0,2021.0,2021.0,2021.0,2021.0,2021.0,2021.0,2021.0,2021.0,2021.0,2021.0,2021.0,2021.0,2021.0,2021.0,2021.0,2021.0,2021.0,2021.0,2021.0,2021.0],\"lat\":[30.2,30.0802,30.0,29.9849,30.0,29.9773,30.0,30.045,30.3,30.9307,31.7,32.2972,32.9,33.7025,34.4,34.7165,34.9,35.222,35.5,35.6961,35.7,35.4055,35.0,34.7178,34.5,34.2972,34.2,34.3146,34.4,34.2771,34.2,34.3828,34.7,35.0401,35.4022,35.7494,36.1,36.449,36.8,37.1529,37.5,31.4,31.5981,31.8,32.0196,32.3,32.6544,33.1,33.6573,34.26,34.5852,34.9,35.3304,35.9444,36.7816,37.7416,38.7762,39.7,40.3206,40.9,41.6466,42.5,19.8,19.65,19.5,19.35,19.2,19.05,18.9,18.75,18.6,18.4275,18.3,18.2625,18.3,18.3699,18.5,18.6701,18.9,19.1625,19.5,19.92,20.4,20.885,21.4,21.9424,22.5,22.95,23.35,23.865,24.4937,25.169,25.8777,26.6194,27.3313,27.9178,28.4,28.7772,29.2,29.8125,30.5,31.2031,31.8,32.1517,32.4,32.6956,33.0,33.3514,33.65,33.7851,33.9,34.1116,34.4,34.7252,35.15,35.739,36.3,36.5873,36.85,37.2756,37.8,28.2,28.3034,28.4,28.492,28.6,28.7347,28.9,29.0843,29.3,29.557,29.8,29.9422,30.1,30.362,30.7,31.099,31.5,31.8478,32.1,32.1981,32.3,32.553,32.9,9.4,9.45737,9.47143,9.44726,9.52153,9.76311,10.0603,10.393,10.7475,11.0633,11.4,11.8081,12.2254,12.5882,12.9479,13.3494,13.7546,14.1043,14.5,15.0455,15.608,16.0565,16.4506,16.8442,17.1842,17.4479,17.6667,17.8707,18.0818,18.3046,18.5862,18.9674,19.3896,19.7943,20.1667,20.4634,20.7472,21.0807,21.4368,21.7983,22.1746,22.565,22.9667,23.3736,23.7712,24.1247,24.4993,24.9378,25.4527,26.0653,26.7,27.2426,27.7974,28.4564,29.1215,29.7022,30.2682,30.8748,31.5,32.1093,32.7472,33.4407,34.1443,34.8071,35.4691,36.1494,36.8667,37.6243,38.4443,39.3363,40.2521,41.1388,42.0,11.2,11.2452,11.3,11.3773,11.5,11.6926,11.9,12.0498,12.2,12.3924,12.6,12.7999,13.0,13.1924,13.4,13.6272,13.88,14.251,14.65,15.0004,15.3389,15.7011,16.0515,16.3781,16.7046,17.073,17.4,17.6091,17.7672,17.9327,18.1149,18.3316,18.5884,18.8801,19.2,19.5321,19.8773,20.2607,20.5946,20.7911,20.9398,21.1294,21.3333,21.5484,21.7573,21.9526,22.0933,22.1197,22.149,22.2992,22.5,22.6989,22.8611,22.913,22.9588,23.1097,23.2855,23.4023,23.5667,23.8214,24.2332,24.9132,25.589,25.9556,26.2419,26.6529,27.0667,27.3672,27.7016,28.1903,28.707,29.1167,29.5339,30.0459,30.6,31.1601,31.722,32.2653,32.8169,33.3577,34.0034,34.8568,35.8,36.7592,37.6334,38.2753,38.8624,39.6099,40.3097,40.8147,41.2,41.5338,41.839,42.1941,42.498,42.6507,42.7026,42.696,42.7,11.5,11.5006,11.5,11.4997,11.5,11.4849,11.5,11.5924,11.7,11.7493,11.8,11.8848,12.0,12.1349,12.3,12.477,12.7,12.9923,13.3,13.5645,13.8,14.0222,14.2,14.3221,14.4,14.4346,14.5,14.6846,14.9,15.0721,15.2,15.2613,15.3,15.3416,15.4,15.5052,15.6466,15.819,15.9677,16.038,16.1277,16.3465,16.5667,16.6569,16.7171,16.8439,16.9546,16.9816,16.9898,17.0356,17.1,17.1736,17.271,17.408,17.5516,17.6662,17.7649,17.856,17.9333,17.9804,18.0223,18.0755,18.1337,18.1987,18.2533,18.2592,18.3,18.4576,18.669,18.881,19.0982,19.3129,19.5033,19.6496,19.7667,19.8724,19.9766,20.0812,20.2066,20.3757,20.5498,20.7034,20.8,20.8072,20.7677,20.7364,20.709,20.6919,20.6876,20.703,20.7,20.6664,20.5445,20.2609,19.9629,19.7897,19.7,37.5,37.24,37.0,36.7925,36.6,36.4,36.2,36.0,35.8,35.615,35.4,35.1225,34.8,34.4575,34.1,33.765,33.4333,33.0321,32.5893,32.0958,31.6488,31.3644,31.1656,30.9653,30.8,30.6642,30.563,30.4923,30.4414,30.3977,30.3491,30.2746,30.2,30.1402,30.0915,30.0389,29.9878,29.9406,29.8902,29.8347,29.7667,29.6547,29.5585,29.523,29.5275,29.5495,29.5909,29.6285,29.7,29.8237,29.9539,29.9944,30.0961,30.3904,30.782,31.1697,31.6,32.0837,32.6281,33.2014,33.8792,34.6969,35.6234,36.6199,37.6,38.4779,39.2579,39.9498,40.5321,41.0317,41.39,41.6527,41.8,41.8518,41.8096,41.6946,41.5776,41.5603,41.5329,41.3831,41.3,41.5197,41.825,42.0861,42.2,11.2,11.2482,11.3,11.3696,11.5,11.7047,12.0,12.3471,12.8,13.3473,14.0,14.7271,15.5,16.2341,17.0,17.8573,18.7,19.4295,20.1,20.7642,21.4,22.0143,22.6,23.187,23.7,24.0792,24.4,24.7421,25.1,25.4998,25.9,26.2123,26.6,27.1973,27.9,28.5925,29.3,30.0298,30.7,31.2225,31.7,32.303,32.8,33.0246,33.1,33.18,33.2,33.1875,33.1,32.9224,32.7,32.4849,32.3,32.1548,32.1,32.1551,32.3,32.4472,32.7,33.1717,33.6361,34.004,34.5,35.2192,36.0,36.6886,37.3,12.6,11.8201,11.1,10.4774,9.9,9.26995,8.7,8.24743,7.9,7.58997,7.4,7.36241,7.4,7.37737,7.4,7.49735,7.7,8.02743,8.4,8.72233,9.0,9.20716,9.4,9.64997,9.9,10.0997,10.3,10.5349,10.8,11.1222,11.4,11.507,11.6,11.8501,12.1,12.237,12.3,12.2922,12.3,12.4275,12.6,12.7573,12.9,13.007,13.1,13.1999,13.3,13.4002,13.5,13.5548,13.7,14.0808,14.5,14.835,15.2,15.6888,16.2,16.6136,17.0756,17.6871,18.2902,18.7642,19.1714,19.5061,19.8,20.135,20.5,20.8563,21.25,21.7512,22.2,22.4562,22.6,22.7,22.8,22.955,23.2,23.57,24.0,24.4225,24.8,25.0312,25.3,25.7388,26.35,27.1289,28.0,11.8,11.9134,12.0,12.0496,12.1,12.192,12.3,12.37,12.5,12.7847,13.1,13.307,13.5,13.6899,14.0,14.5474,15.2,15.8076,16.4,17.0615,17.5857,17.7775,18.0,18.6861,19.3991,19.8603,20.3189,20.9205,21.5267,22.0258,22.5,23.0197,23.5307,23.9795,24.4332,24.9848,25.6,26.1722,26.7,27.1651,27.6,28.0647,28.5,28.865,29.2,29.5498,29.9,30.235,30.6,31.05,31.5,31.8574,32.2,32.5926,33.0,33.3996,33.8,34.2224,34.6,34.8571,35.1,35.4194,35.8,36.2269,36.7,37.152,37.7,38.4823,39.2,39.5492,39.8,40.1619,40.6,8.2,8.20268,8.2,8.19241,8.2,8.22741,8.3,8.38242,8.6,9.05479,9.6,10.0724,10.5,10.8647,11.12,11.5287,11.9,12.0793,12.159,12.2353,12.3011,12.3596,12.4267,12.5177,12.6333,12.7693,12.9257,13.0971,13.2663,13.4067,13.5488,13.7193,13.9,14.0675,14.2247,14.3591,14.4859,14.6113,14.7625,14.9543,15.2,15.5101,15.8386,16.1242,16.4066,16.7108,17.0296,17.3583,17.7,18.0538,18.4171,18.7653,19.1444,19.612,20.0662,20.4042,20.7,21.0185,21.3143,21.5579,21.774,21.9823,22.1967,22.4329,22.7,23.0038,23.327,23.6423,23.9727,24.337,24.7072,25.0477,25.4,25.7805,26.197,26.6396,27.1197,27.6476,28.1741,28.6318,29.1,29.6167,30.1656,30.6884,31.2779,32.0103,32.809,33.561,34.4,35.4039,36.5452,37.761,39.0818,40.4785,41.9505,43.4626,45.0889,46.9086,48.8,50.6701,52.5,11.2,11.2428,11.3,11.3849,11.5,11.6425,11.8,11.9268,12.1,12.3786,12.7,13.0368,13.3,13.3874,13.4,13.4501,13.5,13.5498,13.6,13.6275,13.7,13.8549,14.1,14.4499,14.8,14.9692,15.2,15.7215,16.3,16.7368,17.1,17.4223,17.7,17.9649,18.2,18.4075,18.6,18.8075,19.0,19.165,19.3,19.4075,19.5,19.6,19.7,19.7925,19.9,20.0425,20.2,20.335,20.5,20.735,21.0,21.235,21.5,21.8275,22.2,22.5925,23.0,23.415,23.8,24.1225,24.4,24.6119,24.9,25.3978,26.0,26.5923,27.2,27.8073,28.4,28.9607,29.5,29.9976,30.4706,30.887,31.2,31.4623,31.7,31.951,32.2,17.0,17.04,17.1,17.1925,17.3,17.3774,17.5,17.7199,18.0,18.3,18.6,18.8423,19.1,19.3972,19.8,20.3482,20.78,21.5783,22.3571,22.7748,23.1222,24.0152,24.8307,25.1519,25.4803,26.1723,26.9328,27.5718,28.1,28.4849,28.7301,28.8097,29.1511,29.4,29.4651,29.5,29.6924,29.9,30.0146,30.1,30.2231,30.3,30.2721,30.2,30.2026,30.1,29.6624,29.3,29.4167,29.7,29.8554,30.0093,30.1978,30.4,30.5844,30.8,31.0892,31.4,31.6628,31.9,10.0,9.99057,10.0,10.0422,10.1,10.1575,10.2,10.2071,10.2,10.1922,10.2,10.2499,10.3,10.2998,10.3,10.2891,10.4,10.7851,11.2,11.4324,11.5,11.3719,11.2,11.132,11.2,11.4921,11.8,11.8873,11.9,11.9196,12.0,12.1897,12.5,12.9346,13.4,13.7873,14.1,14.3149,14.5,14.7345,15.0,15.2773,15.6,15.9996,16.3,16.6267,16.9311,17.1678,17.4028,17.7383,18.0639,18.2811,18.4667,18.6874,18.9068,19.0982,19.2884,19.5248,19.7176,19.7922,19.8,19.7814,19.7736,19.8213,19.9328,20.1221,20.3279,20.4568,20.6,20.8546,21.0923,21.1917,21.2636,21.4097,21.5821,21.7431,21.9,22.042,22.1989,22.3871,22.5983,22.8312,23.0502,23.2176,23.3568,23.491,23.6202,23.7549,23.8925,24.0285,24.1757,24.3429,24.5219,24.6961,24.8828,25.0827,25.3104,25.5691,25.8482,26.1534,26.4888,26.8575,27.2,27.4924,27.8,28.185,28.6,29.0,29.32,29.6632,30.0375,30.4533,30.8803,31.2511,31.5851,31.9029,32.2,32.4247,32.6302,32.8298,33.0367,33.2565,33.5249,33.86,34.3,34.8459,35.5,36.2548,37.056,37.8382,38.6,22.7,23.1103,23.5,23.8573,24.2,24.5575,24.9,25.1847,25.5,25.9204,26.4,26.8696,27.4,28.0799,28.7,29.0153,29.3,29.8122,30.4,30.9499,31.5,32.0727,32.6,33.0374,33.4,33.6997,34.0,34.3546,34.8,35.4082,36.12,36.3417,36.5,36.9411,37.4625,37.889,38.2625,38.5011,38.7,38.938,39.2277,39.6268,40.1343,40.7085,41.3473,41.9642,42.5641,43.1452,43.6702,44.169,44.4877,44.5135,44.3933,44.3744,44.2191,43.8164,43.2,42.4264,41.6,40.8188,40.2,39.798,39.7,39.8904,40.3,40.7794,41.3,41.7424,42.2,42.7574,43.3,43.7753,44.1,44.2096,44.2,44.2304,44.2,44.0272,43.9,44.0281,44.2,44.2746,44.2,43.918,43.5,43.0945,42.6,41.9505,41.3,40.8795,40.4,39.588,38.7,37.9773,37.3,36.6076,35.9,12.0,11.9026,11.8,11.6801,11.5,11.2447,10.9,10.48,10.0,9.4325,9.0,8.9324,9.0,8.91247,8.9,9.06757,9.4,9.86989,10.4,10.8276,11.3,11.9365,12.6,13.2263,13.8,14.3085,14.7556,15.135,15.5543,16.0999,16.6769,17.2331,17.7748,18.2375,18.75,19.5574,20.35,20.8197,21.2,21.7264,22.2,22.4948,22.7,22.9149,23.1,23.2499,23.4,23.5925,23.8,23.9775,24.2,24.4999,24.9,25.4851,26.1,26.5799,27.0,27.43,27.8,28.0776,28.3,10.3,10.1404,10.0,9.89231,9.8,9.69237,9.6,9.53479,9.5,9.50724,9.5,9.39235,9.3,9.32727,9.4,9.45758,9.5,9.50719,9.5,9.49982,9.5,9.49244,9.5,9.54988,9.6,9.59238,9.6,9.68493,9.8,9.89985,10.02,10.1099,10.2,10.3119,10.439,10.5742,10.7076,10.8187,10.9164,11.0018,11.1,11.2431,11.3938,11.5104,11.6281,11.7696,11.9316,12.1112,12.3,12.4952,12.66,12.7443,12.8183,12.9538,13.1092,13.2545,13.4,13.5498,13.6789,13.757,13.8268,13.9178,14.0529,14.2583,14.5,14.7436,14.9838,15.1981,15.4208,15.6849,15.964,16.2362,16.5,16.7473,16.9662,17.134,17.2915,17.4834,17.6878,17.8861,18.1,18.3428,18.6,18.8409,19.098,19.3991,19.7123,19.9971,20.3,20.6306,21.0227,21.506,22.0271,22.5031,23.0178,23.6236,24.3,25.0115,25.7907,26.6534,27.5347,28.3634,29.1614,29.9457,30.7,31.4316,32.1274,32.7583,33.3892,34.109,34.8063,35.3932,35.9,36.3308,36.6862,36.9651,37.2291,37.5516,37.9078,38.2588,38.7,39.2859,39.9933,40.732,41.6196,42.7103,43.8981,45.0556,46.3857,48.1036,50.0,27.3,27.9817,28.7,29.4663,30.2,30.814,31.4,32.0347,32.7,33.4903,34.1,34.2041,34.2,34.2953,34.3815,34.3649,34.3,34.2692,34.3,34.4627,34.7,7.0,7.24043,7.5,7.77973,8.02,8.08002,8.1,8.15249,8.24444,8.40801,8.64107,8.93104,9.23008,9.4986,9.76631,10.0563,10.3889,10.8375,11.2,11.3013,11.35,11.5634,11.8,11.9539,12.1,12.3073,12.5,12.5812,12.7,12.9612,13.35,13.8525,14.4,14.9312,15.35,15.4998,15.65,16.0947,16.6,16.9842,17.3,17.5568,17.8,18.0859,18.4,31.3,31.3589,31.5,31.7619,32.0,31.8777,32.0,32.9526,34.2,35.2109,36.1,36.792,37.5,38.506,39.5,40.2465,40.8,41.3626,41.5,40.9062,40.0,39.156,38.6,38.6758,39.0,39.1474,39.3,39.4916,39.7,39.8922,40.1,40.3719,40.6,40.6941,40.7,40.672,40.6,40.5143,40.4,40.2879,40.1,39.7939,39.4,38.9716,38.5,38.0074,37.5,36.9167,36.5,36.5089,36.5642,36.5224,36.4692,36.4699,36.4103,36.2177,35.9,35.4651,35.0001,34.5819,34.2863,34.1911,34.2127,34.2209,34.3,34.4806,34.74,35.0556,35.411,35.7717,36.1432,36.5208,36.9,37.265,37.6409,38.0169,38.4289,38.9193,39.4108,39.8174,40.2,40.6542,41.0847,41.4303,41.7296,42.0514,42.2847,42.353,42.3,42.1954,41.9464,41.5128,40.9278,40.2413,39.5369,38.921,38.4,37.9815,37.655,37.3527,37.1534,37.0823,37.1023,37.1939,37.4,37.7009,38.1,38.5988,39.15,10.4,10.2652,10.1,9.8799,9.6,9.23493,8.9,8.69749,8.6,8.56992,8.6,8.64991,8.7,8.70754,8.7,8.67746,8.7,8.82745,9.0,9.15001,9.3,9.46578,9.6,9.67252,9.7,9.69656,9.65771,9.61074,9.52711,9.35567,9.16737,9.03897,8.93333,8.82697,8.72053,8.61011,8.50649,8.41738,8.35,8.29228,8.25,8.21776,8.2,8.18095,8.2,8.26249,8.4,8.6236,8.9,9.1786,9.45,9.68994,9.9,10.0824,10.25,10.4136,10.6,10.8686,11.1,11.1612,11.2,11.3636,11.55,11.701,11.8,11.8262,11.8,11.7498,11.7,11.6879,11.7],\"legendgroup\":\"\",\"lon\":[-58.3,-57.9497,-57.6,-57.2502,-56.9,-56.5572,-56.2,-55.8066,-55.4,-55.1107,-54.6,-53.2911,-52.3,-52.7225,-53.7,-54.3302,-55.0,-55.7968,-56.7,-57.6384,-58.7,-60.0593,-61.2,-61.6632,-61.8,-61.9424,-62.1,-62.4995,-62.8,-62.8121,-62.6,-62.2379,-61.8,-61.3962,-61.0399,-60.7516,-60.3,-59.7041,-58.9,-57.8675,-56.7,-79.2,-78.6381,-78.1,-77.5993,-77.1,-76.5865,-76.0,-75.2956,-74.5,-73.7532,-72.9286,-71.9544,-70.8,-69.566,-68.1119,-66.0665,-63.9,-62.2379,-60.8,-59.3709,-57.9,-95.1,-95.1,-95.1,-95.1,-95.1,-95.115,-95.1,-95.015,-94.9,-94.8075,-94.7,-94.5575,-94.4,-94.2724,-94.1,-93.815,-93.5,-93.2275,-93.0,-92.8274,-92.7,-92.585,-92.5,-92.472,-92.4,-92.2342,-92.05,-91.8428,-91.6424,-91.4941,-91.3682,-91.3276,-91.2846,-91.1922,-91.1,-91.1162,-91.0,-90.5977,-90.0,-89.2939,-88.6,-88.1257,-87.7,-87.2055,-86.6,-85.817,-84.95,-84.1494,-83.3,-82.3516,-81.3,-80.1719,-78.95,-77.6571,-76.3,-74.9646,-73.55,-71.9802,-70.3,-64.9,-65.6996,-66.5,-67.3003,-68.1,-68.9077,-69.7,-70.4504,-71.2,-71.9849,-72.8,-73.6511,-74.5,-75.3153,-76.1,-76.8353,-77.6,-78.5314,-79.4,-80.0371,-80.7,-81.6145,-82.7,-42.8,-44.0984,-45.3571,-46.5276,-47.6854,-48.8909,-50.1085,-51.3153,-52.4885,-53.58,-54.7,-55.9676,-57.284,-58.5538,-59.8261,-61.1234,-62.4386,-63.7638,-65.1,-66.4936,-67.8575,-69.1139,-70.3211,-71.574,-72.7415,-73.7754,-74.6,-75.1469,-75.5791,-76.0964,-76.6268,-77.1456,-77.661,-78.1742,-78.6667,-79.1431,-79.6203,-80.1834,-80.7199,-81.1452,-81.4846,-81.772,-82.0,-82.1987,-82.3735,-82.5547,-82.7282,-82.8949,-83.0354,-83.1255,-83.2,-83.3393,-83.4604,-83.5277,-83.5394,-83.5296,-83.4076,-83.1048,-82.7,-82.3323,-81.8742,-81.2479,-80.529,-79.8155,-79.0529,-78.2203,-77.3333,-76.4331,-75.4534,-74.3221,-73.1515,-72.0543,-71.0,-49.3,-49.7974,-50.3,-50.8201,-51.4,-52.0924,-52.8,-53.4152,-54.0,-54.6,-55.2,-55.8001,-56.4,-57.0076,-57.6,-58.1353,-58.68,-59.373,-60.1,-60.8003,-61.5251,-62.3038,-63.0973,-63.8914,-64.6652,-65.3876,-66.1,-66.8455,-67.5982,-68.3523,-69.0802,-69.7587,-70.3971,-71.0031,-71.6,-72.2222,-72.8187,-73.3562,-73.8278,-74.249,-74.5978,-74.8444,-75.1333,-75.6214,-76.2367,-76.9352,-77.6739,-78.3834,-79.0493,-79.6469,-80.2,-80.7338,-81.2861,-81.9054,-82.539,-83.1899,-83.714,-83.9699,-84.1,-84.2714,-84.4477,-84.6565,-84.8725,-85.0554,-85.2445,-85.488,-85.7,-85.8318,-85.8704,-85.8285,-85.7243,-85.5956,-85.4661,-85.3778,-85.3,-85.2307,-85.1422,-85.0385,-84.8723,-84.631,-84.275,-83.7646,-83.2,-82.7029,-82.2212,-81.7731,-81.2242,-80.4388,-79.5133,-78.5082,-77.6,-77.0196,-76.5258,-75.8885,-75.1714,-74.3589,-73.5712,-72.9806,-72.5,-20.6,-21.5025,-22.4,-23.2925,-24.2,-25.1576,-26.1,-26.9948,-27.8,-28.4352,-29.1,-29.9827,-31.0,-32.0851,-33.2,-34.2578,-35.3,-36.3649,-37.4,-38.3652,-39.3,-40.2575,-41.2,-42.1077,-43.0,-43.8929,-44.8,-45.7348,-46.7,-47.685,-48.64,-49.7226,-50.8,-51.7689,-52.7,-53.6978,-54.7828,-55.9659,-57.1906,-58.4752,-59.6844,-60.6593,-61.5667,-62.5971,-63.5926,-64.453,-65.2311,-65.9752,-66.6874,-67.3963,-68.1,-68.8167,-69.5058,-70.1439,-70.741,-71.3027,-71.8642,-72.4565,-73.1,-73.8288,-74.5769,-75.2816,-75.9703,-76.6683,-77.345,-77.9636,-78.6,-79.3383,-80.1012,-80.8053,-81.5171,-82.2727,-83.0745,-83.9352,-84.8,-85.6061,-86.4031,-87.248,-88.07,-88.805,-89.5186,-90.2686,-91.0333,-91.8272,-92.5544,-93.1243,-93.6085,-94.072,-94.55,-95.09,-95.7,-96.403,-97.1074,-97.7006,-98.2664,-98.8693,-99.5,-64.6,-64.4498,-64.3,-64.1501,-64.0,-63.8501,-63.7,-63.5501,-63.4,-63.2502,-63.1,-62.9349,-62.8,-62.7276,-62.7,-62.6926,-62.7,-62.7283,-62.7514,-62.7458,-62.7513,-62.8219,-62.9198,-63.0032,-63.1,-63.2218,-63.3639,-63.5271,-63.6886,-63.8048,-63.9524,-64.1892,-64.5,-64.8619,-65.2682,-65.6809,-66.1188,-66.588,-67.0683,-67.5306,-68.0,-68.5025,-69.02,-69.5341,-70.0463,-70.5525,-71.0493,-71.5431,-72.0,-72.4097,-72.787,-73.1892,-73.513,-73.6917,-73.7578,-73.7682,-73.7,-73.5591,-73.3232,-72.9882,-72.5803,-72.1425,-71.6949,-71.2313,-70.9,-70.8875,-71.0354,-71.1899,-71.4184,-71.7132,-72.0773,-72.4587,-72.9,-73.5259,-73.989,-73.9336,-73.7204,-73.7784,-73.793,-73.3797,-72.7,-71.9661,-71.225,-70.4069,-69.6,-24.9,-25.9499,-27.0,-28.0502,-29.1,-30.1577,-31.2,-32.2154,-33.2,-34.1802,-35.1,-35.9304,-36.7,-37.414,-38.2,-39.19,-40.3,-41.436,-42.6,-43.7509,-44.9,-46.0583,-47.2,-48.3301,-49.4,-50.3887,-51.3,-52.188,-53.0,-53.76,-54.4,-54.9404,-55.3,-55.4678,-55.5,-55.5226,-55.5,-55.5092,-55.4,-55.0674,-54.6,-54.0489,-53.6,-53.4964,-53.5,-53.3575,-53.2,-53.0925,-53.0,-52.9151,-52.8,-52.63,-52.4,-52.1373,-51.8,-51.3651,-50.9,-50.4994,-50.1,-49.5757,-49.0941,-48.5947,-47.8,-46.8052,-45.6,-44.2435,-42.8,-14.8,-15.1555,-15.5,-15.8347,-16.2,-16.62,-17.1,-17.6199,-18.2,-18.835,-19.5,-20.1498,-20.8,-21.4426,-22.1,-22.7776,-23.5,-24.2849,-25.1,-25.9001,-26.7,-27.4778,-28.3,-29.235,-30.2,-31.1077,-32.0,-32.9226,-33.8,-34.5799,-35.3,-35.9706,-36.7,-37.6197,-38.6,-39.4927,-40.4,-41.378,-42.4,-43.4723,-44.5,-45.4249,-46.2,-46.7951,-47.3,-47.85,-48.4,-49.01,-49.5,-49.7176,-49.8,-49.9207,-50.0,-50.0225,-50.0,-49.9501,-49.9,-49.8958,-49.9536,-50.0948,-50.2284,-50.275,-50.3063,-50.426,-50.5556,-50.5827,-50.6,-50.6962,-50.8,-50.865,-50.9,-50.9076,-50.9,-50.9075,-50.9,-50.8463,-50.8,-50.7951,-50.85,-50.9774,-51.15,-51.3068,-51.5,-51.7527,-52.05,-52.3687,-52.7,-64.2,-65.2998,-66.4,-67.5002,-68.6,-69.6925,-70.8,-71.9803,-73.1,-74.0896,-74.9,-75.5104,-76.0,-76.5079,-77.0,-77.4999,-78.0,-78.5448,-79.0,-79.2059,-79.4,-79.7208,-80.1,-80.4925,-80.8983,-81.2903,-81.7047,-82.179,-82.6589,-83.067,-83.5,-84.0527,-84.6433,-85.1793,-85.68,-86.154,-86.6,-87.0567,-87.55,-88.129,-88.7,-89.1803,-89.6,-90.0239,-90.35,-90.5167,-90.6,-90.7187,-90.8,-90.8374,-90.8,-90.6948,-90.5,-90.2152,-89.9,-89.6791,-89.4,-88.9602,-88.4,-87.7937,-87.1,-86.3441,-85.5,-84.5866,-83.6,-82.6426,-81.5,-79.9513,-78.3,-76.9132,-75.6,-74.2293,-72.8,-11.5,-12.1,-12.7,-13.3,-13.9,-14.5001,-15.1,-15.7002,-16.3,-16.8775,-17.5,-18.2201,-19.0,-19.7704,-20.52,-21.4561,-22.4,-23.2782,-24.2315,-25.3721,-26.5023,-27.4655,-28.3479,-29.2287,-30.0667,-30.8372,-31.6196,-32.5059,-33.411,-34.2607,-35.0803,-35.8777,-36.6667,-37.479,-38.298,-39.1346,-39.9461,-40.7012,-41.4045,-42.064,-42.7,-43.36,-44.0127,-44.644,-45.2622,-45.888,-46.4807,-47.0072,-47.5,-48.0114,-48.4937,-48.917,-49.3234,-49.7633,-50.1999,-50.5984,-51.0,-51.4685,-51.9206,-52.2779,-52.6316,-53.0815,-53.5267,-53.8841,-54.2,-54.5088,-54.8002,-55.0778,-55.3479,-55.6184,-55.8966,-56.192,-56.5,-56.8262,-57.1706,-57.5272,-57.9311,-58.4122,-58.9262,-59.4252,-59.9,-60.379,-60.8214,-61.2208,-61.5718,-61.9044,-62.1541,-62.2881,-62.3,-62.2556,-62.0184,-61.4996,-60.7926,-60.1,-59.2493,-57.9605,-56.4,-54.8891,-53.3,-51.5042,-49.5,-74.3,-74.87,-75.4,-75.865,-76.3,-76.7575,-77.2,-77.518,-78.0,-78.9771,-80.0,-80.6176,-81.1,-81.6578,-82.2,-82.76,-83.2,-83.395,-83.5,-83.6851,-83.9,-84.1276,-84.4,-84.7199,-85.1,-85.4462,-86.0,-87.0335,-88.1,-88.7631,-89.2,-89.5528,-89.8,-90.0226,-90.2,-90.3651,-90.5,-90.615,-90.7,-90.7575,-90.8,-90.85,-90.9,-90.9425,-91.0,-91.085,-91.2,-91.35,-91.5,-91.6001,-91.7,-91.8499,-92.0,-92.1076,-92.2,-92.3149,-92.4,-92.4374,-92.4,-92.2727,-92.1,-91.9574,-91.8,-91.6814,-91.4,-90.7903,-90.0,-89.2145,-88.4,-87.5845,-86.8,-86.0931,-85.4,-84.6149,-83.8142,-82.9169,-81.8,-80.6883,-79.4,-77.8352,-76.1,-89.0,-89.33,-89.7,-90.135,-90.6,-91.0502,-91.5,-91.9575,-92.4,-92.8449,-93.2,-93.3729,-93.5,-93.6832,-94.0,-94.6065,-95.04,-95.2901,-95.5143,-95.7376,-95.9333,-96.1641,-96.3686,-96.5531,-96.6642,-96.5907,-96.4238,-96.2877,-96.1333,-95.9216,-95.7766,-95.7267,-95.6294,-95.5,-95.2222,-94.9,-94.6352,-94.4,-94.2372,-94.0,-93.5079,-93.0,-92.7198,-92.5,-92.1853,-91.9,-91.6971,-91.6,-91.5993,-91.7,-91.865,-92.0781,-92.28,-92.5,-92.7667,-93.0,-93.1594,-93.2,-93.0156,-92.7,-11.8,-12.7926,-13.8,-14.835,-15.9,-17.0224,-18.1,-19.045,-19.9,-20.715,-21.5,-22.3074,-23.1,-23.8576,-24.6,-25.2682,-26.1,-27.3018,-28.7,-30.1149,-31.5,-32.7531,-33.9,-34.9802,-36.0,-37.0068,-38.0,-39.0154,-40.0,-40.9153,-41.8,-42.7002,-43.6,-44.4924,-45.4,-46.3501,-47.3,-48.2454,-49.1,-49.7952,-50.4,-51.0152,-51.6,-52.1351,-52.6333,-53.2532,-53.9725,-54.8214,-55.6751,-56.388,-57.0043,-57.5633,-58.0667,-58.5261,-59.0194,-59.6564,-60.2993,-60.823,-61.2795,-61.689,-62.1,-62.606,-63.1078,-63.5323,-63.9224,-64.3372,-64.6928,-64.9005,-65.1,-65.4472,-65.8328,-66.2089,-66.5016,-66.6176,-66.6751,-66.7891,-66.9,-66.9718,-67.0286,-67.0833,-67.1292,-67.1727,-67.1993,-67.2129,-67.1862,-67.1185,-66.9873,-66.7895,-66.5498,-66.3167,-66.0709,-65.8161,-65.5477,-65.2733,-64.9769,-64.6452,-64.3054,-63.9895,-63.5396,-63.0563,-62.5381,-61.9425,-61.7,-61.4996,-61.3,-61.0649,-60.8,-60.5074,-60.06,-59.7436,-59.4901,-59.2486,-59.056,-58.9392,-58.8874,-58.8894,-58.9,-58.8767,-58.8201,-58.7293,-58.6132,-58.5054,-58.3504,-58.1143,-57.8,-57.451,-57.0,-56.425,-55.7418,-54.9911,-54.2,-68.6,-69.0194,-69.4,-69.7153,-70.0,-70.3076,-70.6,-70.8282,-71.1,-71.5569,-72.0,-72.2161,-72.4,-72.712,-73.1,-73.5806,-74.0,-74.1881,-74.3,-74.4779,-74.7,-75.0366,-75.3,-75.3108,-75.2,-75.1592,-75.0,-74.6465,-74.1,-73.3744,-72.46,-72.0203,-71.65,-70.9378,-70.0041,-69.0317,-68.0283,-67.0593,-66.1,-65.1386,-64.1708,-63.2084,-62.1555,-60.8537,-59.4591,-58.207,-57.0098,-55.8223,-54.6178,-53.3058,-52.0304,-50.9022,-49.9088,-49.0106,-48.1745,-47.2964,-46.5,-45.9273,-45.3,-44.3271,-43.3,-42.5081,-41.7,-40.5199,-39.6,-39.5056,-39.8,-39.8285,-39.9,-40.0973,-40.4,-40.7992,-41.2,-41.4584,-41.7,-42.1101,-42.4,-42.3617,-42.1,-41.6787,-41.3,-41.3004,-41.3,-40.9288,-40.5,-40.3095,-40.1,-39.6555,-39.2,-38.9454,-38.7,-38.2441,-37.9,-37.9195,-38.1,-38.2645,-38.4,-19.5,-20.0801,-20.7,-21.3724,-22.0,-22.4723,-22.9,-23.4,-23.9,-24.3802,-24.8,-25.1147,-25.4,-25.7352,-26.1,-26.5224,-26.9,-27.1151,-27.3,-27.6,-27.9,-28.0529,-28.3,-28.7899,-29.4,-29.9815,-30.6,-31.2806,-31.9306,-32.4841,-32.994,-33.5079,-34.0264,-34.5832,-35.15,-35.6693,-36.1,-36.391,-36.65,-37.0433,-37.4,-37.5767,-37.7,-37.8701,-38.1,-38.4127,-38.8,-39.235,-39.7,-40.1653,-40.6,-40.9717,-41.3,-41.6444,-41.9,-41.9955,-42.0,-42.0299,-42.0,-41.8777,-41.7,-11.5,-12.3002,-13.1,-13.8999,-14.7,-15.5075,-16.3,-17.0575,-17.8,-18.5349,-19.3,-20.1278,-21.0,-21.8849,-22.8,-23.7799,-24.7,-25.4525,-26.1,-26.715,-27.3,-27.9075,-28.5,-29.0574,-29.6,-30.1426,-30.7,-31.2925,-31.9,-32.4925,-33.12,-33.7467,-34.4,-35.1058,-35.8628,-36.6568,-37.462,-38.2639,-39.0189,-39.6759,-40.3,-40.9544,-41.6347,-42.3663,-43.0811,-43.7129,-44.2953,-44.8687,-45.4,-45.8843,-46.3371,-46.7889,-47.23,-47.6761,-48.0829,-48.4057,-48.7,-49.0319,-49.3536,-49.6542,-49.9091,-50.0958,-50.2516,-50.4139,-50.6,-50.8406,-51.1139,-51.4005,-51.704,-52.0208,-52.3338,-52.6168,-52.9,-53.2179,-53.5315,-53.7983,-54.065,-54.3772,-54.6993,-55.0023,-55.3,-55.5937,-55.9,-56.2357,-56.5863,-56.9362,-57.2891,-57.6392,-58.0,-58.3997,-58.8083,-59.1961,-59.5858,-60.0076,-60.4039,-60.7235,-61.0,-61.3052,-61.5563,-61.7029,-61.7807,-61.8596,-61.8568,-61.7223,-61.5,-61.2945,-60.981,-60.4767,-59.8896,-59.3359,-58.786,-58.2464,-57.7,-57.1651,-56.6036,-56.0321,-55.3987,-54.658,-53.855,-53.0771,-52.2,-51.142,-49.9264,-48.6186,-47.1639,-45.5057,-43.7568,-42.0359,-40.6143,-39.8339,-39.4,-58.8,-59.0438,-59.5,-60.283,-61.1,-61.5972,-62.0,-62.4784,-63.0,-63.6131,-64.18,-64.6264,-65.0,-65.2556,-65.4296,-65.4325,-65.2,-64.9232,-64.6,-64.2531,-63.9,-22.0,-22.7773,-23.4,-23.7801,-24.12,-24.5959,-25.1,-25.6075,-26.1111,-26.5255,-26.9982,-27.637,-28.2947,-28.8545,-29.3906,-29.8766,-30.3778,-31.0196,-31.7,-32.3879,-33.0,-33.4113,-33.8,-34.3713,-34.95,-35.3937,-35.8,-36.2503,-36.7,-37.1251,-37.55,-38.0,-38.45,-38.8936,-39.3,-39.6219,-39.95,-40.3437,-40.85,-41.5536,-42.25,-42.6831,-43.1,-43.6904,-44.4,-82.8,-82.1819,-81.5,-80.6661,-79.5,-77.7562,-76.0,-74.8417,-73.8,-72.4431,-71.1,-69.9117,-69.0,-68.4287,-68.1,-67.6564,-67.6,-68.3455,-69.3,-69.9482,-70.1,-69.6117,-68.6,-67.2438,-65.8,-64.7386,-63.8,-62.7997,-61.8,-60.7768,-59.8,-58.8983,-58.1,-57.4192,-56.8,-56.1574,-55.5,-54.8303,-54.1,-53.2432,-52.4,-51.7281,-51.1,-50.4386,-49.7,-48.8303,-47.9,-47.0058,-46.1,-45.2613,-44.5904,-44.1396,-43.8371,-43.6708,-43.6469,-43.702,-43.8,-43.9193,-43.8998,-43.5799,-43.1459,-42.7871,-42.4693,-42.2337,-42.0,-41.6648,-41.32,-41.0132,-40.7779,-40.6543,-40.58,-40.478,-40.3667,-40.2385,-40.1109,-40.0071,-39.9077,-39.7874,-39.684,-39.6289,-39.6,-39.5728,-39.5527,-39.531,-39.5091,-39.516,-39.4609,-39.2626,-39.0,-38.7567,-38.5086,-38.2462,-38.0091,-37.7903,-37.6806,-37.7515,-37.9,-38.0283,-38.1064,-38.079,-37.9957,-37.9361,-37.8598,-37.702,-37.4,-36.9203,-36.3,-35.5605,-34.75,-81.2,-81.8076,-82.4,-82.9649,-83.5,-84.0151,-84.5,-84.9799,-85.4,-85.7224,-86.0,-86.2775,-86.6,-87.035,-87.5,-87.9151,-88.3,-88.6575,-89.0,-89.365,-89.7,-89.9467,-90.2,-90.5213,-90.8556,-91.1566,-91.4647,-91.7858,-92.1298,-92.5359,-92.9906,-93.4735,-93.9667,-94.4256,-94.8967,-95.4262,-95.9827,-96.5212,-97.05,-97.5838,-98.2,-99.0038,-99.8,-100.376,-100.9,-101.521,-102.15,-102.725,-103.3,-103.903,-104.55,-105.26,-106.0,-106.74,-107.45,-108.098,-108.7,-109.275,-109.85,-110.468,-111.1,-111.729,-112.35,-112.943,-113.55,-114.218,-114.9,-115.546,-116.2,-116.889,-117.6],\"marker\":{\"color\":[-3,-3,-3,-3,-3,-3,-3,-3,-4,-4,-4,-4,-4,-4,-4,-4,-4,-4,-4,-4,-4,-4,-4,-4,-4,-4,-2,-2,-2,-2,-2,-2,-2,-2,0,0,0,0,0,0,-3,-3,-3,-3,-3,-3,-3,-3,-3,-1,-1,0,0,0,0,0,0,0,0,0,0,-4,-3,-3,-3,-3,-3,-3,-3,-3,-3,-3,-3,-3,-3,-3,-3,-3,-3,-3,-3,-3,-3,-3,-3,-3,-3,-3,-3,-3,-3,-3,-3,-3,-3,-3,-3,-3,0,0,0,0,0,-1,-1,-1,-1,-1,-1,-1,-1,-1,-1,-1,0,0,0,0,0,0,0,-3,-3,-3,-3,-3,-3,-3,-3,-3,-3,-3,-3,-3,-3,-3,-3,-1,-1,0,0,0,-1,-3,-3,-3,-1,-1,0,0,0,0,0,0,0,0,0,0,1,1,1,1,1,1,1,1,1,0,0,0,0,0,0,0,0,0,0,0,0,0,0,0,0,0,0,0,0,0,0,0,0,0,0,0,1,0,0,0,0,0,0,0,0,0,0,0,0,0,0,0,0,0,0,0,0,0,-4,-3,-3,-3,-3,-3,-3,-3,-3,-3,-3,-3,-3,-3,-3,-3,-3,-3,-3,-3,-3,-3,-3,-3,-3,-3,-3,0,0,0,0,0,0,0,-1,-1,-1,-1,-1,-1,-1,-1,-1,-1,-1,-1,-1,-1,-1,-1,-1,-1,-1,-1,-1,-3,-3,-3,-3,-3,-3,-3,-3,0,0,0,0,0,0,0,0,0,0,0,0,0,0,0,-1,-1,-1,-3,-3,-1,-1,-3,-3,-3,-3,-3,-3,-4,-4,-4,-4,-4,-4,-4,-4,-4,-3,-3,-3,-3,-3,-3,-3,-3,-3,-3,-3,-3,-3,-3,-3,-3,-3,-3,-3,-3,-3,-3,-3,-3,-3,-3,-3,-3,-3,-3,-3,-3,-1,-1,-1,-1,0,0,0,0,0,0,0,0,0,0,0,-1,-1,-1,-1,-1,-1,-1,-1,-1,-1,-1,-1,-1,0,0,0,0,0,0,0,0,0,0,0,1,1,1,1,1,1,1,0,0,0,0,0,0,0,1,1,1,1,2,3,3,3,2,1,0,-1,-3,-3,-3,-3,-3,-3,-3,-3,-3,-3,-3,-3,-3,-3,-3,-3,-1,-1,-1,-1,-1,-1,0,0,0,0,0,0,0,0,0,0,0,0,0,0,0,0,0,0,0,0,0,0,0,0,0,0,0,0,0,0,0,0,0,0,0,0,0,0,0,0,1,1,1,1,1,0,0,0,0,0,-1,-1,-1,-1,-1,-1,-3,-3,-3,-3,-3,-3,-3,-3,-3,-3,-3,-3,-3,-3,-3,-3,-3,-3,-3,-3,-3,-3,-3,-3,-3,-3,-3,-3,-3,-3,-3,-3,-3,-3,-3,-3,-3,-3,-3,-3,-3,-3,-3,-3,-3,-3,-3,-3,-3,-3,-3,-3,-3,-3,-3,-3,-3,-3,-3,-3,-3,-3,-3,-3,-3,-1,-1,-1,0,0,0,0,0,-4,-3,-3,-3,-3,-3,-3,-3,-3,-3,-3,-3,-3,-3,-3,-3,-3,-3,-3,-3,-3,-3,-3,-3,-3,-3,-3,-3,-3,-3,-3,-3,-3,-3,-3,-3,-3,-3,-3,-3,-3,-3,-3,-3,-3,-3,-3,-3,-3,-3,-3,-1,-1,-1,-1,-1,-1,-1,-1,-1,-1,-1,-1,-1,-1,-1,-1,0,0,0,0,0,0,0,0,0,-1,-1,-1,-1,-1,-1,-1,-1,-1,-1,-1,-1,-3,-3,-3,-3,-3,-3,-3,-3,-3,-3,-3,-3,-3,-3,-3,-3,-3,-3,-1,-1,0,0,0,0,0,0,0,0,1,1,1,1,1,1,1,1,2,2,2,3,4,4,4,4,4,4,3,2,1,0,0,0,0,-1,-1,-1,-1,-1,-1,-1,-3,-3,-1,-1,-1,-1,-4,-4,-4,-4,-4,-4,-4,-3,-3,-3,-3,-3,-3,-3,-3,-3,-3,-3,-3,-3,-3,-1,-1,0,0,0,0,0,0,0,0,0,0,1,1,1,1,1,1,1,1,1,1,1,1,2,2,3,3,3,3,3,3,3,3,3,3,3,3,3,3,3,3,3,3,3,3,3,3,3,3,3,3,3,3,3,3,3,3,3,3,3,3,2,2,2,2,2,2,2,1,1,1,1,1,1,1,1,1,1,1,1,1,1,1,1,0,-4,-3,-3,-3,-3,-3,-3,-3,-3,-3,-3,-3,-3,-3,-3,-3,-3,-3,-3,-3,-3,-3,-3,-3,-3,-3,-3,-3,-3,-3,-3,-3,-3,-3,-3,-3,-3,-3,-3,-3,-3,-3,-3,-3,-3,-3,-3,-3,-3,-3,-3,-3,-3,-3,-3,-3,-3,-3,-3,-3,-3,-3,-3,-3,-3,-3,-3,-3,-3,-3,-3,0,0,0,0,0,-1,-1,-1,-1,-1,-3,-3,-3,-3,-3,-3,-3,-3,-3,-3,-3,-3,-3,-3,-3,-3,-3,0,0,0,0,0,0,0,0,0,0,0,0,0,0,1,1,0,0,0,0,-1,-1,-1,-1,-1,-1,-1,-1,-1,-1,-1,-3,-3,-3,-3,-3,-3,-3,-3,-3,-3,-3,-3,-3,-3,-3,-3,-3,-3,-3,-3,-3,-3,-3,-3,-3,-3,-3,-3,-3,-3,-3,-3,-3,-3,-3,-3,-3,-3,-3,-3,-3,-3,-3,-3,-3,-3,-3,-3,-3,-3,-3,-3,-3,-3,-3,-3,-3,-1,-1,0,0,0,0,0,0,0,0,0,0,0,0,0,0,0,0,0,0,0,-1,-1,-1,-1,-1,-1,-1,-1,-1,-1,-1,-1,-1,-3,-3,-3,-3,-3,-3,-3,-3,-3,-3,-3,-3,-3,-3,-3,-3,-3,-3,-3,-3,-3,-3,-3,-3,-3,-3,-3,-3,-3,-3,-3,-3,-3,-3,-3,-3,-3,-3,-3,-3,-3,-3,-3,-3,-3,-3,-3,-3,-3,-3,-3,-3,-3,-3,-3,-3,-3,-3,-3,-3,-3,-3,-3,-3,-3,-3,-3,-3,-3,-3,-3,-3,-3,-3,-3,-3,-3,-3,-3,-3,-3,-3,-3,0,0,0,0,0,0,0,0,-4,-4,-4,-4,-4,-4,-4,-4,-4,-4,-4,-4,-4,-4,-4,-4,-4,-4,-4,-4,-4,-4,-4,-4,-4,-4,-4,-4,-4,-4,-4,-4,-4,-4,-4,-4,-4,-4,-4,-4,-4,-4,-4,-4,-4,-4,-4,-4,-4,-4,-4,-4,-4,-4,-4,-4,-4,-4,-4,-3,-3,-3,-3,-3,-3,-3,-3,-3,-3,-3,-3,-3,-3,-3,-3,-1,-1,-1,-1,-1,-1,-1,-1,0,0,0,0,0,0,0,0,0,0,0,0,0,0,0,0,0,0,0,-1,-1,-1,-1,-1,-1,-1,-1,-1,-1,-1,-3,-3,-3,-3,-3,-3,-3,-3,-3,-3,-3,-3,-3,-3,-3,-3,-3,-3,-3,-3,-3,-3,-3,-3,-3,-3,-3,-3,-3,-3,-3,-3,-3,-3,-3,-3,-3,-1,-1,-1,-1,0,0,0,0,0,0,0,0,1,1,1,1,1,1,2,2,2,3,3,3,4,4,4,4,4,4,4,4,4,4,4,4,4,3,3,3,3,3,3,3,4,4,4,4,4,4,4,4,4,4,4,4,4,4,4,4,4,4,4,4,4,4,4,4,4,4,4,4,4,4,4,4,4,4,4,3,3,3,3,2,2,2,2,2,2,2,2,2,2,2,2,1,1,1,1,1,-4,-3,-3,-3,-3,-3,-3,-3,-3,-3,-3,-2,-2,-2,-2,-2,-2,-2,-2,-3,-3,-3,-3,-3,-3,-3,-1,-1,0,0,0,0,0,0,0,0,0,0,0,0,0,0,0,0,0,0,0,0,0,0,0,-1,-1,-1,-1,-1,-1,-1,-1,-1,-1,-1,-1,-1,-1,-1,-3,-3,-3,-3,-3,-3,-3,-3,-3,-3,-3,-3,-3,-3,-3,-4,-4,-4,-4,-4,-4,-4,-4,-4,-4,-4,-4,-4,-4,-4,-4,-4,-4,-4,-4,-4,-4,-4,-4,-4,-4,-4,-4,-4,-4,-4,-4,-4,-4,-2,-2,-2,-2,-2,-2,-2,-2,-2,-2,-2,-2,-2,-2,0,0,0,0,0,0,0,0,0,0,0,0,0,0,0,0,0,0,0,0,0,0,0,0,0,0,0,0,0,0,0,0,0,0,0,0,0,0,0,0,0,0,0,0,0,0,-3,-3,-3,-3,-3,-3,-3,-3,-3,-3,-3,-3,-3,-3,-3,-3,-3,-3,-3,-3,-3,-1,-1,-1,-1,-1,-1,-1,-1,-1,-1,-1,-1,-1,-1,-1,-1,-1,-1,-1,-1,-1,-1,-1,-1,-1,-1,0,0,0,0,0,-1,-1,-1,-1,-1,-1,-1,-1,-1,-1,-1,-1,-1,-1,-1,-1,-1,-1,-1,-3],\"coloraxis\":\"coloraxis\"},\"mode\":\"markers\",\"name\":\"\",\"showlegend\":false,\"subplot\":\"mapbox\",\"type\":\"scattermapbox\"}],                        {\"template\":{\"data\":{\"bar\":[{\"error_x\":{\"color\":\"#2a3f5f\"},\"error_y\":{\"color\":\"#2a3f5f\"},\"marker\":{\"line\":{\"color\":\"#E5ECF6\",\"width\":0.5},\"pattern\":{\"fillmode\":\"overlay\",\"size\":10,\"solidity\":0.2}},\"type\":\"bar\"}],\"barpolar\":[{\"marker\":{\"line\":{\"color\":\"#E5ECF6\",\"width\":0.5},\"pattern\":{\"fillmode\":\"overlay\",\"size\":10,\"solidity\":0.2}},\"type\":\"barpolar\"}],\"carpet\":[{\"aaxis\":{\"endlinecolor\":\"#2a3f5f\",\"gridcolor\":\"white\",\"linecolor\":\"white\",\"minorgridcolor\":\"white\",\"startlinecolor\":\"#2a3f5f\"},\"baxis\":{\"endlinecolor\":\"#2a3f5f\",\"gridcolor\":\"white\",\"linecolor\":\"white\",\"minorgridcolor\":\"white\",\"startlinecolor\":\"#2a3f5f\"},\"type\":\"carpet\"}],\"choropleth\":[{\"colorbar\":{\"outlinewidth\":0,\"ticks\":\"\"},\"type\":\"choropleth\"}],\"contour\":[{\"colorbar\":{\"outlinewidth\":0,\"ticks\":\"\"},\"colorscale\":[[0.0,\"#0d0887\"],[0.1111111111111111,\"#46039f\"],[0.2222222222222222,\"#7201a8\"],[0.3333333333333333,\"#9c179e\"],[0.4444444444444444,\"#bd3786\"],[0.5555555555555556,\"#d8576b\"],[0.6666666666666666,\"#ed7953\"],[0.7777777777777778,\"#fb9f3a\"],[0.8888888888888888,\"#fdca26\"],[1.0,\"#f0f921\"]],\"type\":\"contour\"}],\"contourcarpet\":[{\"colorbar\":{\"outlinewidth\":0,\"ticks\":\"\"},\"type\":\"contourcarpet\"}],\"heatmap\":[{\"colorbar\":{\"outlinewidth\":0,\"ticks\":\"\"},\"colorscale\":[[0.0,\"#0d0887\"],[0.1111111111111111,\"#46039f\"],[0.2222222222222222,\"#7201a8\"],[0.3333333333333333,\"#9c179e\"],[0.4444444444444444,\"#bd3786\"],[0.5555555555555556,\"#d8576b\"],[0.6666666666666666,\"#ed7953\"],[0.7777777777777778,\"#fb9f3a\"],[0.8888888888888888,\"#fdca26\"],[1.0,\"#f0f921\"]],\"type\":\"heatmap\"}],\"heatmapgl\":[{\"colorbar\":{\"outlinewidth\":0,\"ticks\":\"\"},\"colorscale\":[[0.0,\"#0d0887\"],[0.1111111111111111,\"#46039f\"],[0.2222222222222222,\"#7201a8\"],[0.3333333333333333,\"#9c179e\"],[0.4444444444444444,\"#bd3786\"],[0.5555555555555556,\"#d8576b\"],[0.6666666666666666,\"#ed7953\"],[0.7777777777777778,\"#fb9f3a\"],[0.8888888888888888,\"#fdca26\"],[1.0,\"#f0f921\"]],\"type\":\"heatmapgl\"}],\"histogram\":[{\"marker\":{\"pattern\":{\"fillmode\":\"overlay\",\"size\":10,\"solidity\":0.2}},\"type\":\"histogram\"}],\"histogram2d\":[{\"colorbar\":{\"outlinewidth\":0,\"ticks\":\"\"},\"colorscale\":[[0.0,\"#0d0887\"],[0.1111111111111111,\"#46039f\"],[0.2222222222222222,\"#7201a8\"],[0.3333333333333333,\"#9c179e\"],[0.4444444444444444,\"#bd3786\"],[0.5555555555555556,\"#d8576b\"],[0.6666666666666666,\"#ed7953\"],[0.7777777777777778,\"#fb9f3a\"],[0.8888888888888888,\"#fdca26\"],[1.0,\"#f0f921\"]],\"type\":\"histogram2d\"}],\"histogram2dcontour\":[{\"colorbar\":{\"outlinewidth\":0,\"ticks\":\"\"},\"colorscale\":[[0.0,\"#0d0887\"],[0.1111111111111111,\"#46039f\"],[0.2222222222222222,\"#7201a8\"],[0.3333333333333333,\"#9c179e\"],[0.4444444444444444,\"#bd3786\"],[0.5555555555555556,\"#d8576b\"],[0.6666666666666666,\"#ed7953\"],[0.7777777777777778,\"#fb9f3a\"],[0.8888888888888888,\"#fdca26\"],[1.0,\"#f0f921\"]],\"type\":\"histogram2dcontour\"}],\"mesh3d\":[{\"colorbar\":{\"outlinewidth\":0,\"ticks\":\"\"},\"type\":\"mesh3d\"}],\"parcoords\":[{\"line\":{\"colorbar\":{\"outlinewidth\":0,\"ticks\":\"\"}},\"type\":\"parcoords\"}],\"pie\":[{\"automargin\":true,\"type\":\"pie\"}],\"scatter\":[{\"marker\":{\"colorbar\":{\"outlinewidth\":0,\"ticks\":\"\"}},\"type\":\"scatter\"}],\"scatter3d\":[{\"line\":{\"colorbar\":{\"outlinewidth\":0,\"ticks\":\"\"}},\"marker\":{\"colorbar\":{\"outlinewidth\":0,\"ticks\":\"\"}},\"type\":\"scatter3d\"}],\"scattercarpet\":[{\"marker\":{\"colorbar\":{\"outlinewidth\":0,\"ticks\":\"\"}},\"type\":\"scattercarpet\"}],\"scattergeo\":[{\"marker\":{\"colorbar\":{\"outlinewidth\":0,\"ticks\":\"\"}},\"type\":\"scattergeo\"}],\"scattergl\":[{\"marker\":{\"colorbar\":{\"outlinewidth\":0,\"ticks\":\"\"}},\"type\":\"scattergl\"}],\"scattermapbox\":[{\"marker\":{\"colorbar\":{\"outlinewidth\":0,\"ticks\":\"\"}},\"type\":\"scattermapbox\"}],\"scatterpolar\":[{\"marker\":{\"colorbar\":{\"outlinewidth\":0,\"ticks\":\"\"}},\"type\":\"scatterpolar\"}],\"scatterpolargl\":[{\"marker\":{\"colorbar\":{\"outlinewidth\":0,\"ticks\":\"\"}},\"type\":\"scatterpolargl\"}],\"scatterternary\":[{\"marker\":{\"colorbar\":{\"outlinewidth\":0,\"ticks\":\"\"}},\"type\":\"scatterternary\"}],\"surface\":[{\"colorbar\":{\"outlinewidth\":0,\"ticks\":\"\"},\"colorscale\":[[0.0,\"#0d0887\"],[0.1111111111111111,\"#46039f\"],[0.2222222222222222,\"#7201a8\"],[0.3333333333333333,\"#9c179e\"],[0.4444444444444444,\"#bd3786\"],[0.5555555555555556,\"#d8576b\"],[0.6666666666666666,\"#ed7953\"],[0.7777777777777778,\"#fb9f3a\"],[0.8888888888888888,\"#fdca26\"],[1.0,\"#f0f921\"]],\"type\":\"surface\"}],\"table\":[{\"cells\":{\"fill\":{\"color\":\"#EBF0F8\"},\"line\":{\"color\":\"white\"}},\"header\":{\"fill\":{\"color\":\"#C8D4E3\"},\"line\":{\"color\":\"white\"}},\"type\":\"table\"}]},\"layout\":{\"annotationdefaults\":{\"arrowcolor\":\"#2a3f5f\",\"arrowhead\":0,\"arrowwidth\":1},\"autotypenumbers\":\"strict\",\"coloraxis\":{\"colorbar\":{\"outlinewidth\":0,\"ticks\":\"\"}},\"colorscale\":{\"diverging\":[[0,\"#8e0152\"],[0.1,\"#c51b7d\"],[0.2,\"#de77ae\"],[0.3,\"#f1b6da\"],[0.4,\"#fde0ef\"],[0.5,\"#f7f7f7\"],[0.6,\"#e6f5d0\"],[0.7,\"#b8e186\"],[0.8,\"#7fbc41\"],[0.9,\"#4d9221\"],[1,\"#276419\"]],\"sequential\":[[0.0,\"#0d0887\"],[0.1111111111111111,\"#46039f\"],[0.2222222222222222,\"#7201a8\"],[0.3333333333333333,\"#9c179e\"],[0.4444444444444444,\"#bd3786\"],[0.5555555555555556,\"#d8576b\"],[0.6666666666666666,\"#ed7953\"],[0.7777777777777778,\"#fb9f3a\"],[0.8888888888888888,\"#fdca26\"],[1.0,\"#f0f921\"]],\"sequentialminus\":[[0.0,\"#0d0887\"],[0.1111111111111111,\"#46039f\"],[0.2222222222222222,\"#7201a8\"],[0.3333333333333333,\"#9c179e\"],[0.4444444444444444,\"#bd3786\"],[0.5555555555555556,\"#d8576b\"],[0.6666666666666666,\"#ed7953\"],[0.7777777777777778,\"#fb9f3a\"],[0.8888888888888888,\"#fdca26\"],[1.0,\"#f0f921\"]]},\"colorway\":[\"#636efa\",\"#EF553B\",\"#00cc96\",\"#ab63fa\",\"#FFA15A\",\"#19d3f3\",\"#FF6692\",\"#B6E880\",\"#FF97FF\",\"#FECB52\"],\"font\":{\"color\":\"#2a3f5f\"},\"geo\":{\"bgcolor\":\"white\",\"lakecolor\":\"white\",\"landcolor\":\"#E5ECF6\",\"showlakes\":true,\"showland\":true,\"subunitcolor\":\"white\"},\"hoverlabel\":{\"align\":\"left\"},\"hovermode\":\"closest\",\"mapbox\":{\"style\":\"light\"},\"paper_bgcolor\":\"white\",\"plot_bgcolor\":\"#E5ECF6\",\"polar\":{\"angularaxis\":{\"gridcolor\":\"white\",\"linecolor\":\"white\",\"ticks\":\"\"},\"bgcolor\":\"#E5ECF6\",\"radialaxis\":{\"gridcolor\":\"white\",\"linecolor\":\"white\",\"ticks\":\"\"}},\"scene\":{\"xaxis\":{\"backgroundcolor\":\"#E5ECF6\",\"gridcolor\":\"white\",\"gridwidth\":2,\"linecolor\":\"white\",\"showbackground\":true,\"ticks\":\"\",\"zerolinecolor\":\"white\"},\"yaxis\":{\"backgroundcolor\":\"#E5ECF6\",\"gridcolor\":\"white\",\"gridwidth\":2,\"linecolor\":\"white\",\"showbackground\":true,\"ticks\":\"\",\"zerolinecolor\":\"white\"},\"zaxis\":{\"backgroundcolor\":\"#E5ECF6\",\"gridcolor\":\"white\",\"gridwidth\":2,\"linecolor\":\"white\",\"showbackground\":true,\"ticks\":\"\",\"zerolinecolor\":\"white\"}},\"shapedefaults\":{\"line\":{\"color\":\"#2a3f5f\"}},\"ternary\":{\"aaxis\":{\"gridcolor\":\"white\",\"linecolor\":\"white\",\"ticks\":\"\"},\"baxis\":{\"gridcolor\":\"white\",\"linecolor\":\"white\",\"ticks\":\"\"},\"bgcolor\":\"#E5ECF6\",\"caxis\":{\"gridcolor\":\"white\",\"linecolor\":\"white\",\"ticks\":\"\"}},\"title\":{\"x\":0.05},\"xaxis\":{\"automargin\":true,\"gridcolor\":\"white\",\"linecolor\":\"white\",\"ticks\":\"\",\"title\":{\"standoff\":15},\"zerolinecolor\":\"white\",\"zerolinewidth\":2},\"yaxis\":{\"automargin\":true,\"gridcolor\":\"white\",\"linecolor\":\"white\",\"ticks\":\"\",\"title\":{\"standoff\":15},\"zerolinecolor\":\"white\",\"zerolinewidth\":2}}},\"mapbox\":{\"domain\":{\"x\":[0.0,1.0],\"y\":[0.0,1.0]},\"center\":{\"lat\":23.881847256582933,\"lon\":-61.33601947336191},\"zoom\":3,\"style\":\"white-bg\",\"layers\":[{\"below\":\"traces\",\"source\":[\"https://basemap.nationalmap.gov/arcgis/rest/services/USGSImageryOnly/MapServer/tile/{z}/{y}/{x}\"],\"sourceattribution\":\"United States Geological Survey\",\"sourcetype\":\"raster\"},{\"source\":[\"https://geo.weather.gc.ca/geomet/?SERVICE=WMS&VERSION=1.3.0&REQUEST=GetMap&BBOX={bbox-epsg-3857}&CRS=EPSG:3857&WIDTH=1000&HEIGHT=1000&LAYERS=RADAR_1KM_RDBR&TILED=true&FORMAT=image/png\"],\"sourceattribution\":\"Government of Canada\",\"sourcetype\":\"raster\"}]},\"coloraxis\":{\"colorbar\":{\"title\":{\"text\":\"USA_SSHS\"}},\"colorscale\":[[0.0,\"#0d0887\"],[0.1111111111111111,\"#46039f\"],[0.2222222222222222,\"#7201a8\"],[0.3333333333333333,\"#9c179e\"],[0.4444444444444444,\"#bd3786\"],[0.5555555555555556,\"#d8576b\"],[0.6666666666666666,\"#ed7953\"],[0.7777777777777778,\"#fb9f3a\"],[0.8888888888888888,\"#fdca26\"],[1.0,\"#f0f921\"]]},\"legend\":{\"tracegroupgap\":0},\"margin\":{\"t\":0,\"r\":0,\"l\":0,\"b\":0},\"height\":600},                        {\"responsive\": true}                    ).then(function(){\n",
              "                            \n",
              "var gd = document.getElementById('c78c2018-4521-482c-b602-c4f246862784');\n",
              "var x = new MutationObserver(function (mutations, observer) {{\n",
              "        var display = window.getComputedStyle(gd).display;\n",
              "        if (!display || display === 'none') {{\n",
              "            console.log([gd, 'removed!']);\n",
              "            Plotly.purge(gd);\n",
              "            observer.disconnect();\n",
              "        }}\n",
              "}});\n",
              "\n",
              "// Listen for the removal of the full notebook cells\n",
              "var notebookContainer = gd.closest('#notebook-container');\n",
              "if (notebookContainer) {{\n",
              "    x.observe(notebookContainer, {childList: true});\n",
              "}}\n",
              "\n",
              "// Listen for the clearing of the current output cell\n",
              "var outputEl = gd.closest('.output');\n",
              "if (outputEl) {{\n",
              "    x.observe(outputEl, {childList: true});\n",
              "}}\n",
              "\n",
              "                        })                };                            </script>        </div>\n",
              "</body>\n",
              "</html>"
            ]
          },
          "metadata": {}
        }
      ]
    },
    {
      "cell_type": "markdown",
      "source": [
        "This map shows the tracks of all tropical cyclones in the 2020 Atlantic hurricane season.The colour represents our column **USA_SSHS :**\n",
        "\n",
        "storm's maximum sustained wind speeds as classified in the Saffir-Simpson Hurricane Scale"
      ],
      "metadata": {
        "id": "UlMl43y0r2MG"
      }
    },
    {
      "cell_type": "markdown",
      "source": [
        "##Name\n",
        "Name provided by the agency"
      ],
      "metadata": {
        "id": "aAeacFrKMu5Z"
      }
    },
    {
      "cell_type": "code",
      "source": [
        "df['NAME'].nunique()"
      ],
      "metadata": {
        "colab": {
          "base_uri": "https://localhost:8080/"
        },
        "id": "XLLnXempdSJu",
        "outputId": "eb954bba-142c-42a7-808d-1d5a050b06aa"
      },
      "execution_count": null,
      "outputs": [
        {
          "output_type": "execute_result",
          "data": {
            "text/plain": [
              "303"
            ]
          },
          "metadata": {},
          "execution_count": 40
        }
      ]
    },
    {
      "cell_type": "code",
      "source": [
        "df['NAME'].value_counts(ascending=False)"
      ],
      "metadata": {
        "colab": {
          "base_uri": "https://localhost:8080/"
        },
        "id": "TcxOIy6kqAZT",
        "outputId": "ab12f5fb-86f6-4589-f814-022826ec0e1e"
      },
      "execution_count": null,
      "outputs": [
        {
          "output_type": "execute_result",
          "data": {
            "text/plain": [
              "NOT_NAMED    72416\n",
              "FLORENCE       642\n",
              "ARLENE         625\n",
              "FRANCES        621\n",
              "HELENE         556\n",
              "             ...  \n",
              "SIMONE          19\n",
              "SHARY           17\n",
              "TAMMY           16\n",
              "IMELDA          14\n",
              "AMELIA          11\n",
              "Name: NAME, Length: 303, dtype: int64"
            ]
          },
          "metadata": {},
          "execution_count": 41
        }
      ]
    },
    {
      "cell_type": "markdown",
      "source": [
        "The majority values **58% = 72416/df.shape[0]** of Name are missing 'NOT NAMED' ➡ drop the column "
      ],
      "metadata": {
        "id": "yIaBKx_HdhfK"
      }
    },
    {
      "cell_type": "code",
      "source": [
        "df.drop('NAME', axis=1, inplace=True)"
      ],
      "metadata": {
        "id": "C2BrqGsQeFem"
      },
      "execution_count": null,
      "outputs": []
    },
    {
      "cell_type": "markdown",
      "source": [
        "##Year \n"
      ],
      "metadata": {
        "id": "Rirfd6WjV0ga"
      }
    },
    {
      "cell_type": "code",
      "source": [
        "df.YEAR.value_counts(ascending=True)"
      ],
      "metadata": {
        "colab": {
          "base_uri": "https://localhost:8080/"
        },
        "id": "d0yQ2ov-WppZ",
        "outputId": "78a0ee94-62fa-4e61-dd2b-ed9ee373d16f"
      },
      "execution_count": null,
      "outputs": [
        {
          "output_type": "execute_result",
          "data": {
            "text/plain": [
              "1914      36\n",
              "1925     132\n",
              "1907     198\n",
              "1919     242\n",
              "1920     252\n",
              "        ... \n",
              "1995    1481\n",
              "2021    1633\n",
              "2020    1699\n",
              "2005    1807\n",
              "1887    1907\n",
              "Name: YEAR, Length: 171, dtype: int64"
            ]
          },
          "metadata": {},
          "execution_count": 43
        }
      ]
    },
    {
      "cell_type": "code",
      "source": [
        "df.YEAR.value_counts().sort_values().plot(kind = 'barh',figsize=(40,30))\n"
      ],
      "metadata": {
        "colab": {
          "base_uri": "https://localhost:8080/",
          "height": 719
        },
        "id": "SqKXXpKJKnfF",
        "outputId": "809cf4d3-e7d4-4b71-f9e6-fb49a84e5db4"
      },
      "execution_count": null,
      "outputs": [
        {
          "output_type": "execute_result",
          "data": {
            "text/plain": [
              "<matplotlib.axes._subplots.AxesSubplot at 0x7fd569610d50>"
            ]
          },
          "metadata": {},
          "execution_count": 44
        },
        {
          "output_type": "display_data",
          "data": {
            "image/png": "[encoded data removed]",
            "text/plain": [
              "<Figure size 2880x2160 with 1 Axes>"
            ]
          },
          "metadata": {
            "needs_background": "light"
          }
        }
      ]
    },
    {
      "cell_type": "markdown",
      "source": [
        "##Missing values"
      ],
      "metadata": {
        "id": "d61SLdjVYVOd"
      }
    },
    {
      "cell_type": "code",
      "source": [
        "df.isnull().sum()"
      ],
      "metadata": {
        "colab": {
          "base_uri": "https://localhost:8080/"
        },
        "id": "4kpnZ-rJWlAY",
        "outputId": "79cd1bc0-1560-4c09-da8b-a5db3be532ce"
      },
      "execution_count": null,
      "outputs": [
        {
          "output_type": "execute_result",
          "data": {
            "text/plain": [
              "SID               0\n",
              "YEAR              0\n",
              "NUMBER            0\n",
              "ISO_TIME          0\n",
              "NATURE            0\n",
              "LAT               0\n",
              "LON               0\n",
              "WMO_WIND          0\n",
              "WMO_AGENCY        0\n",
              "TRACK_TYPE        0\n",
              "DIST2LAND         0\n",
              "LANDFALL       2293\n",
              "IFLAG             0\n",
              "USA_AGENCY        0\n",
              "USA_ATCF_ID       0\n",
              "USA_LAT           0\n",
              "USA_LON           0\n",
              "USA_STATUS        0\n",
              "USA_WIND          0\n",
              "USA_PRES          0\n",
              "USA_SSHS          0\n",
              "STORM_SPEED      29\n",
              "STORM_DIR        29\n",
              "dtype: int64"
            ]
          },
          "metadata": {},
          "execution_count": 45
        }
      ]
    },
    {
      "cell_type": "markdown",
      "source": [
        "**Hypothesis :**\n",
        "\n",
        "Verify if the rows having null values for STORM_SPEED and STORM_DIR are the same since they have both 29 missing values.\n",
        "\n",
        "It is suspicious.\n"
      ],
      "metadata": {
        "id": "qPJpHw7dsgas"
      }
    },
    {
      "cell_type": "code",
      "source": [
        "df[df['STORM_SPEED'].isna() & df['STORM_DIR'].isna()].shape\n"
      ],
      "metadata": {
        "colab": {
          "base_uri": "https://localhost:8080/"
        },
        "id": "d-hLo2t5Ul8h",
        "outputId": "3f16f14b-37cd-4f69-f550-65d33789599b"
      },
      "execution_count": null,
      "outputs": [
        {
          "output_type": "execute_result",
          "data": {
            "text/plain": [
              "(29, 23)"
            ]
          },
          "metadata": {},
          "execution_count": 46
        }
      ]
    },
    {
      "cell_type": "markdown",
      "source": [
        "**Conclusion**\n",
        "\n",
        "Exactly, the same rows have both NaNs for STORM_SPEED and STORM_DIR.\n",
        "\n",
        "That's why we can delete the rows containing these missing values."
      ],
      "metadata": {
        "id": "TZZeNE9ss9tP"
      }
    },
    {
      "cell_type": "code",
      "source": [
        "df.dropna(axis=0, inplace=True)"
      ],
      "metadata": {
        "id": "Z_oPp747sbhW"
      },
      "execution_count": null,
      "outputs": []
    },
    {
      "cell_type": "code",
      "source": [
        "df.isnull().sum()"
      ],
      "metadata": {
        "colab": {
          "base_uri": "https://localhost:8080/"
        },
        "id": "YWF7sBT7vHF_",
        "outputId": "e0198f43-bbd6-4ab4-ae9f-e7c129e1223e"
      },
      "execution_count": null,
      "outputs": [
        {
          "output_type": "execute_result",
          "data": {
            "text/plain": [
              "SID            0\n",
              "YEAR           0\n",
              "NUMBER         0\n",
              "ISO_TIME       0\n",
              "NATURE         0\n",
              "LAT            0\n",
              "LON            0\n",
              "WMO_WIND       0\n",
              "WMO_AGENCY     0\n",
              "TRACK_TYPE     0\n",
              "DIST2LAND      0\n",
              "LANDFALL       0\n",
              "IFLAG          0\n",
              "USA_AGENCY     0\n",
              "USA_ATCF_ID    0\n",
              "USA_LAT        0\n",
              "USA_LON        0\n",
              "USA_STATUS     0\n",
              "USA_WIND       0\n",
              "USA_PRES       0\n",
              "USA_SSHS       0\n",
              "STORM_SPEED    0\n",
              "STORM_DIR      0\n",
              "dtype: int64"
            ]
          },
          "metadata": {},
          "execution_count": 48
        }
      ]
    },
    {
      "cell_type": "markdown",
      "source": [
        "## USA_SSHS\n",
        "\n",
        "-5 = Unknown [XX]\n",
        "\n",
        "-4 = Post-tropical [EX, ET, PT]\n",
        "\n",
        "-3 = Miscellaneous disturbances [WV, LO, DB, DS, IN, MD]\n",
        "\n",
        "-2 = Subtropical [SS, SD]\n",
        "\n",
        "Tropical systems classified based on wind speeds [TD, TS, HU, TY,, TC, ST, HR]\n",
        "\n",
        " -1 = Tropical depression (W<34)\n",
        "\n",
        " 0 = Tropical storm [34<W<64]\n",
        "\n",
        " 1 = Category 1 [64<=W<83]\n",
        "\n",
        " 2 = Category 2 [83<=W<96]\n",
        "\n",
        " 3 = Category 3 [96<=W<113]\n",
        " \n",
        " 4 = Category 4 [113<=W<137]\n",
        "\n",
        " 5 = Category 5 [W >= 137]\n"
      ],
      "metadata": {
        "id": "0r2TbHvThpvN"
      }
    },
    {
      "cell_type": "code",
      "source": [
        "# count plot on single categorical variable\n",
        "sns.countplot(x ='USA_SSHS', data = df)\n",
        "# Show the plot\n",
        "plt.show()"
      ],
      "metadata": {
        "colab": {
          "base_uri": "https://localhost:8080/",
          "height": 280
        },
        "id": "FVcZmXq_jx0t",
        "outputId": "763e41ac-20f1-4d70-944f-ae0f94acd8c5"
      },
      "execution_count": null,
      "outputs": [
        {
          "output_type": "display_data",
          "data": {
            "image/png": "[encoded data removed]",
            "text/plain": [
              "<Figure size 432x288 with 1 Axes>"
            ]
          },
          "metadata": {
            "needs_background": "light"
          }
        }
      ]
    },
    {
      "cell_type": "markdown",
      "source": [
        "Unbalanced distribution of the values of USA_SSHS"
      ],
      "metadata": {
        "id": "pj1PMZ55nTp_"
      }
    },
    {
      "cell_type": "markdown",
      "source": [
        "#Feature engineering"
      ],
      "metadata": {
        "id": "DzSPbskNI263"
      }
    },
    {
      "cell_type": "code",
      "source": [
        "#Correlation matrix\n",
        "matrix = df.corr()\n",
        "\n",
        "# Create a mask\n",
        "mask = np.triu(np.ones_like(matrix, dtype=bool))\n",
        "\n",
        "# Create a custom divergin palette\n",
        "cmap = sns.diverging_palette(200, 10, s=75, l=40,\n",
        "                            n=9, center=\"light\", as_cmap=True)\n",
        "\n",
        "plt.figure(figsize=(19, 19))\n",
        "sns.heatmap(matrix, mask=mask, center=0, annot=True,\n",
        "            fmt='.3f', square=True, cmap=cmap)\n",
        "\n",
        "plt.show();\n",
        "\n"
      ],
      "metadata": {
        "colab": {
          "base_uri": "https://localhost:8080/",
          "height": 989
        },
        "id": "x2F2K7GPSk6x",
        "outputId": "0b11c978-0dcb-4aa5-8d06-b4a2e2a2cab7"
      },
      "execution_count": null,
      "outputs": [
        {
          "output_type": "display_data",
          "data": {
            "image/png": "[encoded data removed]",
            "text/plain": [
              "<Figure size 1368x1368 with 2 Axes>"
            ]
          },
          "metadata": {
            "needs_background": "light"
          }
        }
      ]
    },
    {
      "cell_type": "markdown",
      "source": [
        "1. Here we note that season is highly correlated with the Number which is obvious given the information that : \n",
        "\n",
        "      ▶ Number is The cardinal number of the system for that season.\n",
        "\n",
        "      ▶ Season is the year\n",
        "\n",
        "2. We note that we are having exactly 2 redundant columns.\n",
        "\n",
        "  Let's verify if they are equal element wise or one is the result of a calculation of the other.\n",
        "\n",
        " "
      ],
      "metadata": {
        "id": "9R2wYlOBTIFx"
      }
    },
    {
      "cell_type": "code",
      "source": [
        "#verifying if they are equal element-wise \n",
        "df['DIST2LAND'].equals(df['LANDFALL'])\n"
      ],
      "metadata": {
        "colab": {
          "base_uri": "https://localhost:8080/"
        },
        "id": "9Ug--0-sGGt8",
        "outputId": "6ef2d68f-08cb-4405-e33e-64692b9c801e"
      },
      "execution_count": null,
      "outputs": [
        {
          "output_type": "execute_result",
          "data": {
            "text/plain": [
              "False"
            ]
          },
          "metadata": {},
          "execution_count": 51
        }
      ]
    },
    {
      "cell_type": "markdown",
      "source": [
        "Conclusion : \n",
        "\n",
        "One Column is the result of a calculation of the other.\n",
        "\n",
        "We could just maintain the most correlated with the target."
      ],
      "metadata": {
        "id": "k_P5PCmTHXsS"
      }
    },
    {
      "cell_type": "code",
      "source": [
        "df.drop(columns=['NUMBER','DIST2LAND'], axis =1, inplace=True)"
      ],
      "metadata": {
        "id": "mqUf3RgwV25S"
      },
      "execution_count": null,
      "outputs": []
    },
    {
      "cell_type": "markdown",
      "source": [
        "#Modeling "
      ],
      "metadata": {
        "id": "cJswD3Z__Rjc"
      }
    },
    {
      "cell_type": "markdown",
      "source": [
        "This is a case of multivariate Time series because it consists of more than one time-dependent variable and each variable depends not only on its past values but also has some dependency on other variables.\n",
        "\n",
        "Here in the modeling part we worked on predicting the trajectory so we are limiting our dataframe only on the longitude and latitude."
      ],
      "metadata": {
        "id": "N2C4j219Tbh2"
      }
    },
    {
      "cell_type": "code",
      "source": [
        "df.set_index(df['ISO_TIME'], inplace=True)"
      ],
      "metadata": {
        "id": "0WFtJhx4rTl3"
      },
      "execution_count": null,
      "outputs": []
    },
    {
      "cell_type": "code",
      "source": [
        "df=df[['LAT','LON']]"
      ],
      "metadata": {
        "id": "db7RMRf7NKXM"
      },
      "execution_count": null,
      "outputs": []
    },
    {
      "cell_type": "code",
      "source": [
        "df.head(4)"
      ],
      "metadata": {
        "colab": {
          "base_uri": "https://localhost:8080/",
          "height": 206
        },
        "id": "Dd_zgHi5NNOk",
        "outputId": "a47f8ea4-abcc-418f-c9ee-053f8455c387"
      },
      "execution_count": null,
      "outputs": [
        {
          "output_type": "execute_result",
          "data": {
            "text/html": [
              "\n",
              "  <div id=\"df-aa825fb3-75be-4efb-8043-93dd67b1b187\">\n",
              "    <div class=\"colab-df-container\">\n",
              "      <div>\n",
              "<style scoped>\n",
              "    .dataframe tbody tr th:only-of-type {\n",
              "        vertical-align: middle;\n",
              "    }\n",
              "\n",
              "    .dataframe tbody tr th {\n",
              "        vertical-align: top;\n",
              "    }\n",
              "\n",
              "    .dataframe thead th {\n",
              "        text-align: right;\n",
              "    }\n",
              "</style>\n",
              "<table border=\"1\" class=\"dataframe\">\n",
              "  <thead>\n",
              "    <tr style=\"text-align: right;\">\n",
              "      <th></th>\n",
              "      <th>LAT</th>\n",
              "      <th>LON</th>\n",
              "    </tr>\n",
              "    <tr>\n",
              "      <th>ISO_TIME</th>\n",
              "      <th></th>\n",
              "      <th></th>\n",
              "    </tr>\n",
              "  </thead>\n",
              "  <tbody>\n",
              "    <tr>\n",
              "      <th>1851-06-23 12:00:00</th>\n",
              "      <td>26.1000</td>\n",
              "      <td>-90.4000</td>\n",
              "    </tr>\n",
              "    <tr>\n",
              "      <th>1851-06-23 15:00:00</th>\n",
              "      <td>26.2001</td>\n",
              "      <td>-90.6999</td>\n",
              "    </tr>\n",
              "    <tr>\n",
              "      <th>1851-06-23 18:00:00</th>\n",
              "      <td>26.3000</td>\n",
              "      <td>-91.0000</td>\n",
              "    </tr>\n",
              "    <tr>\n",
              "      <th>1851-06-23 21:00:00</th>\n",
              "      <td>26.3999</td>\n",
              "      <td>-91.3001</td>\n",
              "    </tr>\n",
              "  </tbody>\n",
              "</table>\n",
              "</div>\n",
              "      <button class=\"colab-df-convert\" onclick=\"convertToInteractive('df-aa825fb3-75be-4efb-8043-93dd67b1b187')\"\n",
              "              title=\"Convert this dataframe to an interactive table.\"\n",
              "              style=\"display:none;\">\n",
              "        \n",
              "  <svg xmlns=\"http://www.w3.org/2000/svg\" height=\"24px\"viewBox=\"0 0 24 24\"\n",
              "       width=\"24px\">\n",
              "    <path d=\"M0 0h24v24H0V0z\" fill=\"none\"/>\n",
              "    <path d=\"M18.56 5.44l.94 2.06.94-2.06 2.06-.94-2.06-.94-.94-2.06-.94 2.06-2.06.94zm-11 1L8.5 8.5l.94-2.06 2.06-.94-2.06-.94L8.5 2.5l-.94 2.06-2.06.94zm10 10l.94 2.06.94-2.06 2.06-.94-2.06-.94-.94-2.06-.94 2.06-2.06.94z\"/><path d=\"M17.41 7.96l-1.37-1.37c-.4-.4-.92-.59-1.43-.59-.52 0-1.04.2-1.43.59L10.3 9.45l-7.72 7.72c-.78.78-.78 2.05 0 2.83L4 21.41c.39.39.9.59 1.41.59.51 0 1.02-.2 1.41-.59l7.78-7.78 2.81-2.81c.8-.78.8-2.07 0-2.86zM5.41 20L4 18.59l7.72-7.72 1.47 1.35L5.41 20z\"/>\n",
              "  </svg>\n",
              "      </button>\n",
              "      \n",
              "  <style>\n",
              "    .colab-df-container {\n",
              "      display:flex;\n",
              "      flex-wrap:wrap;\n",
              "      gap: 12px;\n",
              "    }\n",
              "\n",
              "    .colab-df-convert {\n",
              "      background-color: #E8F0FE;\n",
              "      border: none;\n",
              "      border-radius: 50%;\n",
              "      cursor: pointer;\n",
              "      display: none;\n",
              "      fill: #1967D2;\n",
              "      height: 32px;\n",
              "      padding: 0 0 0 0;\n",
              "      width: 32px;\n",
              "    }\n",
              "\n",
              "    .colab-df-convert:hover {\n",
              "      background-color: #E2EBFA;\n",
              "      box-shadow: 0px 1px 2px rgba(60, 64, 67, 0.3), 0px 1px 3px 1px rgba(60, 64, 67, 0.15);\n",
              "      fill: #174EA6;\n",
              "    }\n",
              "\n",
              "    [theme=dark] .colab-df-convert {\n",
              "      background-color: #3B4455;\n",
              "      fill: #D2E3FC;\n",
              "    }\n",
              "\n",
              "    [theme=dark] .colab-df-convert:hover {\n",
              "      background-color: #434B5C;\n",
              "      box-shadow: 0px 1px 3px 1px rgba(0, 0, 0, 0.15);\n",
              "      filter: drop-shadow(0px 1px 2px rgba(0, 0, 0, 0.3));\n",
              "      fill: #FFFFFF;\n",
              "    }\n",
              "  </style>\n",
              "\n",
              "      <script>\n",
              "        const buttonEl =\n",
              "          document.querySelector('#df-aa825fb3-75be-4efb-8043-93dd67b1b187 button.colab-df-convert');\n",
              "        buttonEl.style.display =\n",
              "          google.colab.kernel.accessAllowed ? 'block' : 'none';\n",
              "\n",
              "        async function convertToInteractive(key) {\n",
              "          const element = document.querySelector('#df-aa825fb3-75be-4efb-8043-93dd67b1b187');\n",
              "          const dataTable =\n",
              "            await google.colab.kernel.invokeFunction('convertToInteractive',\n",
              "                                                     [key], {});\n",
              "          if (!dataTable) return;\n",
              "\n",
              "          const docLinkHtml = 'Like what you see? Visit the ' +\n",
              "            '<a target=\"_blank\" href=https://colab.research.google.com/notebooks/data_table.ipynb>data table notebook</a>'\n",
              "            + ' to learn more about interactive tables.';\n",
              "          element.innerHTML = '';\n",
              "          dataTable['output_type'] = 'display_data';\n",
              "          await google.colab.output.renderOutput(dataTable, element);\n",
              "          const docLink = document.createElement('div');\n",
              "          docLink.innerHTML = docLinkHtml;\n",
              "          element.appendChild(docLink);\n",
              "        }\n",
              "      </script>\n",
              "    </div>\n",
              "  </div>\n",
              "  "
            ],
            "text/plain": [
              "                         LAT      LON\n",
              "ISO_TIME                             \n",
              "1851-06-23 12:00:00  26.1000 -90.4000\n",
              "1851-06-23 15:00:00  26.2001 -90.6999\n",
              "1851-06-23 18:00:00  26.3000 -91.0000\n",
              "1851-06-23 21:00:00  26.3999 -91.3001"
            ]
          },
          "metadata": {},
          "execution_count": 55
        }
      ]
    },
    {
      "cell_type": "code",
      "source": [
        "df.info()"
      ],
      "metadata": {
        "id": "xhwAkxw69xEj",
        "outputId": "a295c73f-0a66-46c1-dd37-1b07068a6cd8",
        "colab": {
          "base_uri": "https://localhost:8080/"
        }
      },
      "execution_count": null,
      "outputs": [
        {
          "output_type": "stream",
          "name": "stdout",
          "text": [
            "<class 'pandas.core.frame.DataFrame'>\n",
            "DatetimeIndex: 121845 entries, 1851-06-23 12:00:00 to 2021-11-10 15:00:00\n",
            "Data columns (total 2 columns):\n",
            " #   Column  Non-Null Count   Dtype  \n",
            "---  ------  --------------   -----  \n",
            " 0   LAT     121845 non-null  float64\n",
            " 1   LON     121845 non-null  float64\n",
            "dtypes: float64(2)\n",
            "memory usage: 2.8 MB\n"
          ]
        }
      ]
    },
    {
      "cell_type": "code",
      "source": [
        "df=df.apply(pd.to_numeric, errors='coerce')\n"
      ],
      "metadata": {
        "id": "rz-p39pENe0e"
      },
      "execution_count": null,
      "outputs": []
    },
    {
      "cell_type": "markdown",
      "source": [
        "##Testing stationarity :ADF Test\n",
        "\n",
        "\n"
      ],
      "metadata": {
        "id": "kOC5XPMC_1DM"
      }
    },
    {
      "cell_type": "code",
      "source": [
        "def adf_test(series,title=''):\n",
        "    \"\"\"\n",
        "    Pass in a time series and an optional title, returns an ADF report\n",
        "    \"\"\"\n",
        "    print(f'Augmented Dickey-Fuller Test: {title}')\n",
        "    result = adfuller(series.dropna(),autolag='AIC') # .dropna() handles differenced data\n",
        "    labels = ['ADF test statistic','p-value','# lags used','# observations']\n",
        "    out = pd.Series(result[0:4],index=labels)\n",
        "    for key,val in result[4].items():\n",
        "        out[f'critical value ({key})']=val\n",
        "    print(out.to_string())          # .to_string() removes the line \"dtype: float64\"\n",
        "    if result[1] <= 0.05:\n",
        "        print(\"Strong evidence against the null hypothesis\")\n",
        "        print(\"Reject the null hypothesis\")\n",
        "        print(\"Data has no unit root and is stationary\")\n",
        "    else:\n",
        "        print(\"Weak evidence against the null hypothesis\")\n",
        "        print(\"Fail to reject the null hypothesis\")\n",
        "        print(\"Data has a unit root and is non-stationary\")"
      ],
      "metadata": {
        "id": "0eYytzdUFMQC"
      },
      "execution_count": null,
      "outputs": []
    },
    {
      "cell_type": "code",
      "source": [
        "adf_test(df['LAT'])"
      ],
      "metadata": {
        "colab": {
          "base_uri": "https://localhost:8080/"
        },
        "id": "QwEb0rL0F8LH",
        "outputId": "75fd1537-6355-4787-e2ae-891668bd6653"
      },
      "execution_count": null,
      "outputs": [
        {
          "output_type": "stream",
          "name": "stdout",
          "text": [
            "Augmented Dickey-Fuller Test: \n",
            "ADF test statistic         -35.850949\n",
            "p-value                      0.000000\n",
            "# lags used                 71.000000\n",
            "# observations          121773.000000\n",
            "critical value (1%)         -3.430404\n",
            "critical value (5%)         -2.861564\n",
            "critical value (10%)        -2.566783\n",
            "Strong evidence against the null hypothesis\n",
            "Reject the null hypothesis\n",
            "Data has no unit root and is stationary\n"
          ]
        }
      ]
    },
    {
      "cell_type": "code",
      "source": [
        "adf_test(df['LON'])"
      ],
      "metadata": {
        "colab": {
          "base_uri": "https://localhost:8080/"
        },
        "id": "Ogwq8vRbGALt",
        "outputId": "d7fb61b5-fe34-46e7-a576-012a647e9ee1"
      },
      "execution_count": null,
      "outputs": [
        {
          "output_type": "stream",
          "name": "stdout",
          "text": [
            "Augmented Dickey-Fuller Test: \n",
            "ADF test statistic         -36.201758\n",
            "p-value                      0.000000\n",
            "# lags used                 42.000000\n",
            "# observations          121802.000000\n",
            "critical value (1%)         -3.430404\n",
            "critical value (5%)         -2.861564\n",
            "critical value (10%)        -2.566783\n",
            "Strong evidence against the null hypothesis\n",
            "Reject the null hypothesis\n",
            "Data has no unit root and is stationary\n"
          ]
        }
      ]
    },
    {
      "cell_type": "markdown",
      "source": [
        "##Testing Causation: Granger’s Causality Test"
      ],
      "metadata": {
        "id": "WHMjXujqGnK0"
      }
    },
    {
      "cell_type": "code",
      "source": [
        "df.head()"
      ],
      "metadata": {
        "colab": {
          "base_uri": "https://localhost:8080/",
          "height": 238
        },
        "id": "gFjmDxfvq2IW",
        "outputId": "abb815a4-7873-43f4-ee98-a11544720757"
      },
      "execution_count": null,
      "outputs": [
        {
          "output_type": "execute_result",
          "data": {
            "text/html": [
              "\n",
              "  <div id=\"df-4561ade1-2ba3-4688-aec2-d9be6a5c1d8a\">\n",
              "    <div class=\"colab-df-container\">\n",
              "      <div>\n",
              "<style scoped>\n",
              "    .dataframe tbody tr th:only-of-type {\n",
              "        vertical-align: middle;\n",
              "    }\n",
              "\n",
              "    .dataframe tbody tr th {\n",
              "        vertical-align: top;\n",
              "    }\n",
              "\n",
              "    .dataframe thead th {\n",
              "        text-align: right;\n",
              "    }\n",
              "</style>\n",
              "<table border=\"1\" class=\"dataframe\">\n",
              "  <thead>\n",
              "    <tr style=\"text-align: right;\">\n",
              "      <th></th>\n",
              "      <th>LAT</th>\n",
              "      <th>LON</th>\n",
              "    </tr>\n",
              "    <tr>\n",
              "      <th>ISO_TIME</th>\n",
              "      <th></th>\n",
              "      <th></th>\n",
              "    </tr>\n",
              "  </thead>\n",
              "  <tbody>\n",
              "    <tr>\n",
              "      <th>1851-06-23 12:00:00</th>\n",
              "      <td>26.1000</td>\n",
              "      <td>-90.4000</td>\n",
              "    </tr>\n",
              "    <tr>\n",
              "      <th>1851-06-23 15:00:00</th>\n",
              "      <td>26.2001</td>\n",
              "      <td>-90.6999</td>\n",
              "    </tr>\n",
              "    <tr>\n",
              "      <th>1851-06-23 18:00:00</th>\n",
              "      <td>26.3000</td>\n",
              "      <td>-91.0000</td>\n",
              "    </tr>\n",
              "    <tr>\n",
              "      <th>1851-06-23 21:00:00</th>\n",
              "      <td>26.3999</td>\n",
              "      <td>-91.3001</td>\n",
              "    </tr>\n",
              "    <tr>\n",
              "      <th>1851-06-24 00:00:00</th>\n",
              "      <td>26.5000</td>\n",
              "      <td>-91.6000</td>\n",
              "    </tr>\n",
              "  </tbody>\n",
              "</table>\n",
              "</div>\n",
              "      <button class=\"colab-df-convert\" onclick=\"convertToInteractive('df-4561ade1-2ba3-4688-aec2-d9be6a5c1d8a')\"\n",
              "              title=\"Convert this dataframe to an interactive table.\"\n",
              "              style=\"display:none;\">\n",
              "        \n",
              "  <svg xmlns=\"http://www.w3.org/2000/svg\" height=\"24px\"viewBox=\"0 0 24 24\"\n",
              "       width=\"24px\">\n",
              "    <path d=\"M0 0h24v24H0V0z\" fill=\"none\"/>\n",
              "    <path d=\"M18.56 5.44l.94 2.06.94-2.06 2.06-.94-2.06-.94-.94-2.06-.94 2.06-2.06.94zm-11 1L8.5 8.5l.94-2.06 2.06-.94-2.06-.94L8.5 2.5l-.94 2.06-2.06.94zm10 10l.94 2.06.94-2.06 2.06-.94-2.06-.94-.94-2.06-.94 2.06-2.06.94z\"/><path d=\"M17.41 7.96l-1.37-1.37c-.4-.4-.92-.59-1.43-.59-.52 0-1.04.2-1.43.59L10.3 9.45l-7.72 7.72c-.78.78-.78 2.05 0 2.83L4 21.41c.39.39.9.59 1.41.59.51 0 1.02-.2 1.41-.59l7.78-7.78 2.81-2.81c.8-.78.8-2.07 0-2.86zM5.41 20L4 18.59l7.72-7.72 1.47 1.35L5.41 20z\"/>\n",
              "  </svg>\n",
              "      </button>\n",
              "      \n",
              "  <style>\n",
              "    .colab-df-container {\n",
              "      display:flex;\n",
              "      flex-wrap:wrap;\n",
              "      gap: 12px;\n",
              "    }\n",
              "\n",
              "    .colab-df-convert {\n",
              "      background-color: #E8F0FE;\n",
              "      border: none;\n",
              "      border-radius: 50%;\n",
              "      cursor: pointer;\n",
              "      display: none;\n",
              "      fill: #1967D2;\n",
              "      height: 32px;\n",
              "      padding: 0 0 0 0;\n",
              "      width: 32px;\n",
              "    }\n",
              "\n",
              "    .colab-df-convert:hover {\n",
              "      background-color: #E2EBFA;\n",
              "      box-shadow: 0px 1px 2px rgba(60, 64, 67, 0.3), 0px 1px 3px 1px rgba(60, 64, 67, 0.15);\n",
              "      fill: #174EA6;\n",
              "    }\n",
              "\n",
              "    [theme=dark] .colab-df-convert {\n",
              "      background-color: #3B4455;\n",
              "      fill: #D2E3FC;\n",
              "    }\n",
              "\n",
              "    [theme=dark] .colab-df-convert:hover {\n",
              "      background-color: #434B5C;\n",
              "      box-shadow: 0px 1px 3px 1px rgba(0, 0, 0, 0.15);\n",
              "      filter: drop-shadow(0px 1px 2px rgba(0, 0, 0, 0.3));\n",
              "      fill: #FFFFFF;\n",
              "    }\n",
              "  </style>\n",
              "\n",
              "      <script>\n",
              "        const buttonEl =\n",
              "          document.querySelector('#df-4561ade1-2ba3-4688-aec2-d9be6a5c1d8a button.colab-df-convert');\n",
              "        buttonEl.style.display =\n",
              "          google.colab.kernel.accessAllowed ? 'block' : 'none';\n",
              "\n",
              "        async function convertToInteractive(key) {\n",
              "          const element = document.querySelector('#df-4561ade1-2ba3-4688-aec2-d9be6a5c1d8a');\n",
              "          const dataTable =\n",
              "            await google.colab.kernel.invokeFunction('convertToInteractive',\n",
              "                                                     [key], {});\n",
              "          if (!dataTable) return;\n",
              "\n",
              "          const docLinkHtml = 'Like what you see? Visit the ' +\n",
              "            '<a target=\"_blank\" href=https://colab.research.google.com/notebooks/data_table.ipynb>data table notebook</a>'\n",
              "            + ' to learn more about interactive tables.';\n",
              "          element.innerHTML = '';\n",
              "          dataTable['output_type'] = 'display_data';\n",
              "          await google.colab.output.renderOutput(dataTable, element);\n",
              "          const docLink = document.createElement('div');\n",
              "          docLink.innerHTML = docLinkHtml;\n",
              "          element.appendChild(docLink);\n",
              "        }\n",
              "      </script>\n",
              "    </div>\n",
              "  </div>\n",
              "  "
            ],
            "text/plain": [
              "                         LAT      LON\n",
              "ISO_TIME                             \n",
              "1851-06-23 12:00:00  26.1000 -90.4000\n",
              "1851-06-23 15:00:00  26.2001 -90.6999\n",
              "1851-06-23 18:00:00  26.3000 -91.0000\n",
              "1851-06-23 21:00:00  26.3999 -91.3001\n",
              "1851-06-24 00:00:00  26.5000 -91.6000"
            ]
          },
          "metadata": {},
          "execution_count": 61
        }
      ]
    },
    {
      "cell_type": "code",
      "source": [
        "print('LAT causes LON?\\n')\n",
        "print('------------------')\n",
        "granger_1 = grangercausalitytests(df[['LON', 'LAT']], 4)\n",
        "\n",
        "print('\\nLON causes LAT?\\n')\n",
        "print('------------------')\n",
        "granger_2 = grangercausalitytests(df[['LAT', 'LON']], 4)"
      ],
      "metadata": {
        "colab": {
          "base_uri": "https://localhost:8080/"
        },
        "id": "RX_ND1m1GKw0",
        "outputId": "6e7ddc8f-5b45-4049-e901-4780a3395440"
      },
      "execution_count": null,
      "outputs": [
        {
          "output_type": "stream",
          "name": "stdout",
          "text": [
            "LAT causes LON?\n",
            "\n",
            "------------------\n",
            "\n",
            "Granger Causality\n",
            "number of lags (no zero) 1\n",
            "ssr based F test:         F=222.8921, p=0.0000  , df_denom=121841, df_num=1\n",
            "ssr based chi2 test:   chi2=222.8975, p=0.0000  , df=1\n",
            "likelihood ratio test: chi2=222.6939, p=0.0000  , df=1\n",
            "parameter F test:         F=222.8921, p=0.0000  , df_denom=121841, df_num=1\n",
            "\n",
            "Granger Causality\n",
            "number of lags (no zero) 2\n",
            "ssr based F test:         F=106.2008, p=0.0000  , df_denom=121838, df_num=2\n",
            "ssr based chi2 test:   chi2=212.4104, p=0.0000  , df=2\n",
            "likelihood ratio test: chi2=212.2254, p=0.0000  , df=2\n",
            "parameter F test:         F=106.2008, p=0.0000  , df_denom=121838, df_num=2\n",
            "\n",
            "Granger Causality\n",
            "number of lags (no zero) 3\n",
            "ssr based F test:         F=68.0954 , p=0.0000  , df_denom=121835, df_num=3\n",
            "ssr based chi2 test:   chi2=204.2981, p=0.0000  , df=3\n",
            "likelihood ratio test: chi2=204.1270, p=0.0000  , df=3\n",
            "parameter F test:         F=68.0954 , p=0.0000  , df_denom=121835, df_num=3\n",
            "\n",
            "Granger Causality\n",
            "number of lags (no zero) 4\n",
            "ssr based F test:         F=48.9985 , p=0.0000  , df_denom=121832, df_num=4\n",
            "ssr based chi2 test:   chi2=196.0087, p=0.0000  , df=4\n",
            "likelihood ratio test: chi2=195.8512, p=0.0000  , df=4\n",
            "parameter F test:         F=48.9985 , p=0.0000  , df_denom=121832, df_num=4\n",
            "\n",
            "LON causes LAT?\n",
            "\n",
            "------------------\n",
            "\n",
            "Granger Causality\n",
            "number of lags (no zero) 1\n",
            "ssr based F test:         F=239.8101, p=0.0000  , df_denom=121841, df_num=1\n",
            "ssr based chi2 test:   chi2=239.8160, p=0.0000  , df=1\n",
            "likelihood ratio test: chi2=239.5803, p=0.0000  , df=1\n",
            "parameter F test:         F=239.8101, p=0.0000  , df_denom=121841, df_num=1\n",
            "\n",
            "Granger Causality\n",
            "number of lags (no zero) 2\n",
            "ssr based F test:         F=117.3247, p=0.0000  , df_denom=121838, df_num=2\n",
            "ssr based chi2 test:   chi2=234.6590, p=0.0000  , df=2\n",
            "likelihood ratio test: chi2=234.4333, p=0.0000  , df=2\n",
            "parameter F test:         F=117.3247, p=0.0000  , df_denom=121838, df_num=2\n",
            "\n",
            "Granger Causality\n",
            "number of lags (no zero) 3\n",
            "ssr based F test:         F=76.5751 , p=0.0000  , df_denom=121835, df_num=3\n",
            "ssr based chi2 test:   chi2=229.7384, p=0.0000  , df=3\n",
            "likelihood ratio test: chi2=229.5221, p=0.0000  , df=3\n",
            "parameter F test:         F=76.5751 , p=0.0000  , df_denom=121835, df_num=3\n",
            "\n",
            "Granger Causality\n",
            "number of lags (no zero) 4\n",
            "ssr based F test:         F=56.4684 , p=0.0000  , df_denom=121832, df_num=4\n",
            "ssr based chi2 test:   chi2=225.8903, p=0.0000  , df=4\n",
            "likelihood ratio test: chi2=225.6811, p=0.0000  , df=4\n",
            "parameter F test:         F=56.4684 , p=0.0000  , df_denom=121832, df_num=4\n"
          ]
        }
      ]
    },
    {
      "cell_type": "markdown",
      "source": [
        "Plotting PACF"
      ],
      "metadata": {
        "id": "DLbzxoapH-zH"
      }
    },
    {
      "cell_type": "code",
      "source": [
        "plot_pacf(df['LON'],lags=40)\n",
        "plt.show()"
      ],
      "metadata": {
        "colab": {
          "base_uri": "https://localhost:8080/",
          "height": 281
        },
        "id": "o_rqmviTG5L6",
        "outputId": "8252adc4-fb64-4407-e14e-9038d79107a6"
      },
      "execution_count": null,
      "outputs": [
        {
          "output_type": "display_data",
          "data": {
            "image/png": "[encoded data removed]",
            "text/plain": [
              "<Figure size 432x288 with 1 Axes>"
            ]
          },
          "metadata": {
            "needs_background": "light"
          }
        }
      ]
    },
    {
      "cell_type": "code",
      "source": [
        "plot_pacf(df['LAT'],lags=40)\n",
        "plt.show()"
      ],
      "metadata": {
        "colab": {
          "base_uri": "https://localhost:8080/",
          "height": 281
        },
        "id": "DrpPyLVeIEN4",
        "outputId": "0849b1eb-b3d2-4f82-f7c3-3064b5289bcc"
      },
      "execution_count": null,
      "outputs": [
        {
          "output_type": "display_data",
          "data": {
            "image/png": "[encoded data removed]",
            "text/plain": [
              "<Figure size 432x288 with 1 Axes>"
            ]
          },
          "metadata": {
            "needs_background": "light"
          }
        }
      ]
    },
    {
      "cell_type": "markdown",
      "source": [
        "##Correlation between \"LON\" and lagged \"LAT\"\n"
      ],
      "metadata": {
        "id": "zuixYIpY1Nbm"
      }
    },
    {
      "cell_type": "code",
      "source": [
        "from scipy.stats import pearsonr\n",
        "\n",
        "for lag in range(1, 40):\n",
        "    LON_series = df['LON'].iloc[lag:]\n",
        "    lagged_LAT_series = df['LAT'].iloc[:-lag]\n",
        "    print('Lag: %s'%lag)\n",
        "    print(pearsonr(LON_series, lagged_LAT_series))\n",
        "    print('------')"
      ],
      "metadata": {
        "colab": {
          "base_uri": "https://localhost:8080/"
        },
        "id": "mU0Te9ly1OA2",
        "outputId": "3ad2f2ea-dba6-4d58-b661-6d70bb5c774f"
      },
      "execution_count": null,
      "outputs": [
        {
          "output_type": "stream",
          "name": "stdout",
          "text": [
            "Lag: 1\n",
            "(0.1464859228392891, 0.0)\n",
            "------\n",
            "Lag: 2\n",
            "(0.15180280633602233, 0.0)\n",
            "------\n",
            "Lag: 3\n",
            "(0.15652136028526098, 0.0)\n",
            "------\n",
            "Lag: 4\n",
            "(0.16059351906787656, 0.0)\n",
            "------\n",
            "Lag: 5\n",
            "(0.16408475121385963, 0.0)\n",
            "------\n",
            "Lag: 6\n",
            "(0.16701342732602315, 0.0)\n",
            "------\n",
            "Lag: 7\n",
            "(0.1693848894656813, 0.0)\n",
            "------\n",
            "Lag: 8\n",
            "(0.17116409757673695, 0.0)\n",
            "------\n",
            "Lag: 9\n",
            "(0.1723897433799365, 0.0)\n",
            "------\n",
            "Lag: 10\n",
            "(0.1731213465000585, 0.0)\n",
            "------\n",
            "Lag: 11\n",
            "(0.17334018599439383, 0.0)\n",
            "------\n",
            "Lag: 12\n",
            "(0.17316127211612553, 0.0)\n",
            "------\n",
            "Lag: 13\n",
            "(0.1726783363382467, 0.0)\n",
            "------\n",
            "Lag: 14\n",
            "(0.17182722762871488, 0.0)\n",
            "------\n",
            "Lag: 15\n",
            "(0.1706981882852519, 0.0)\n",
            "------\n",
            "Lag: 16\n",
            "(0.16925104365795807, 0.0)\n",
            "------\n",
            "Lag: 17\n",
            "(0.1674231473174776, 0.0)\n",
            "------\n",
            "Lag: 18\n",
            "(0.1653094498882035, 0.0)\n",
            "------\n",
            "Lag: 19\n",
            "(0.1630311858273946, 0.0)\n",
            "------\n",
            "Lag: 20\n",
            "(0.1605979533948303, 0.0)\n",
            "------\n",
            "Lag: 21\n",
            "(0.15805691451601606, 0.0)\n",
            "------\n",
            "Lag: 22\n",
            "(0.15526554830837225, 0.0)\n",
            "------\n",
            "Lag: 23\n",
            "(0.15262018985027598, 0.0)\n",
            "------\n",
            "Lag: 24\n",
            "(0.14975890751260057, 0.0)\n",
            "------\n",
            "Lag: 25\n",
            "(0.14674330868764046, 0.0)\n",
            "------\n",
            "Lag: 26\n",
            "(0.14368009191795902, 0.0)\n",
            "------\n",
            "Lag: 27\n",
            "(0.14076670558413137, 0.0)\n",
            "------\n",
            "Lag: 28\n",
            "(0.13760837272445375, 0.0)\n",
            "------\n",
            "Lag: 29\n",
            "(0.13459489175966782, 0.0)\n",
            "------\n",
            "Lag: 30\n",
            "(0.13167012443671489, 0.0)\n",
            "------\n",
            "Lag: 31\n",
            "(0.12847968616346273, 0.0)\n",
            "------\n",
            "Lag: 32\n",
            "(0.12514088791438993, 0.0)\n",
            "------\n",
            "Lag: 33\n",
            "(0.12188294259416464, 0.0)\n",
            "------\n",
            "Lag: 34\n",
            "(0.11851739476733478, 0.0)\n",
            "------\n",
            "Lag: 35\n",
            "(0.11492616557108597, 0.0)\n",
            "------\n",
            "Lag: 36\n",
            "(0.11125830434115894, 0.0)\n",
            "------\n",
            "Lag: 37\n",
            "(0.10752706605119822, 5.37955851031937e-310)\n",
            "------\n",
            "Lag: 38\n",
            "(0.10368504292848384, 2.8483458769627625e-288)\n",
            "------\n",
            "Lag: 39\n",
            "(0.09962503680795722, 3.425471821131831e-266)\n",
            "------\n"
          ]
        }
      ]
    },
    {
      "cell_type": "markdown",
      "source": [
        "Lag 37 is intersting when we want to predict longitude using the lagged column of latitude."
      ],
      "metadata": {
        "id": "7aXzBbff2jWn"
      }
    },
    {
      "cell_type": "code",
      "source": [
        "df.tail(15)"
      ],
      "metadata": {
        "colab": {
          "base_uri": "https://localhost:8080/",
          "height": 551
        },
        "id": "1zSBQNh-HwUR",
        "outputId": "a5a56f50-8ceb-4eeb-f64c-8800d9971307"
      },
      "execution_count": null,
      "outputs": [
        {
          "output_type": "execute_result",
          "data": {
            "text/html": [
              "\n",
              "  <div id=\"df-504d5224-fca8-4803-9f68-5f79383a3db6\">\n",
              "    <div class=\"colab-df-container\">\n",
              "      <div>\n",
              "<style scoped>\n",
              "    .dataframe tbody tr th:only-of-type {\n",
              "        vertical-align: middle;\n",
              "    }\n",
              "\n",
              "    .dataframe tbody tr th {\n",
              "        vertical-align: top;\n",
              "    }\n",
              "\n",
              "    .dataframe thead th {\n",
              "        text-align: right;\n",
              "    }\n",
              "</style>\n",
              "<table border=\"1\" class=\"dataframe\">\n",
              "  <thead>\n",
              "    <tr style=\"text-align: right;\">\n",
              "      <th></th>\n",
              "      <th>LAT</th>\n",
              "      <th>LON</th>\n",
              "    </tr>\n",
              "    <tr>\n",
              "      <th>ISO_TIME</th>\n",
              "      <th></th>\n",
              "      <th></th>\n",
              "    </tr>\n",
              "  </thead>\n",
              "  <tbody>\n",
              "    <tr>\n",
              "      <th>2021-11-08 21:00:00</th>\n",
              "      <td>10.4136</td>\n",
              "      <td>-108.098</td>\n",
              "    </tr>\n",
              "    <tr>\n",
              "      <th>2021-11-09 00:00:00</th>\n",
              "      <td>10.6000</td>\n",
              "      <td>-108.700</td>\n",
              "    </tr>\n",
              "    <tr>\n",
              "      <th>2021-11-09 03:00:00</th>\n",
              "      <td>10.8686</td>\n",
              "      <td>-109.275</td>\n",
              "    </tr>\n",
              "    <tr>\n",
              "      <th>2021-11-09 06:00:00</th>\n",
              "      <td>11.1000</td>\n",
              "      <td>-109.850</td>\n",
              "    </tr>\n",
              "    <tr>\n",
              "      <th>2021-11-09 09:00:00</th>\n",
              "      <td>11.1612</td>\n",
              "      <td>-110.468</td>\n",
              "    </tr>\n",
              "    <tr>\n",
              "      <th>2021-11-09 12:00:00</th>\n",
              "      <td>11.2000</td>\n",
              "      <td>-111.100</td>\n",
              "    </tr>\n",
              "    <tr>\n",
              "      <th>2021-11-09 15:00:00</th>\n",
              "      <td>11.3636</td>\n",
              "      <td>-111.729</td>\n",
              "    </tr>\n",
              "    <tr>\n",
              "      <th>2021-11-09 18:00:00</th>\n",
              "      <td>11.5500</td>\n",
              "      <td>-112.350</td>\n",
              "    </tr>\n",
              "    <tr>\n",
              "      <th>2021-11-09 21:00:00</th>\n",
              "      <td>11.7010</td>\n",
              "      <td>-112.943</td>\n",
              "    </tr>\n",
              "    <tr>\n",
              "      <th>2021-11-10 00:00:00</th>\n",
              "      <td>11.8000</td>\n",
              "      <td>-113.550</td>\n",
              "    </tr>\n",
              "    <tr>\n",
              "      <th>2021-11-10 03:00:00</th>\n",
              "      <td>11.8262</td>\n",
              "      <td>-114.218</td>\n",
              "    </tr>\n",
              "    <tr>\n",
              "      <th>2021-11-10 06:00:00</th>\n",
              "      <td>11.8000</td>\n",
              "      <td>-114.900</td>\n",
              "    </tr>\n",
              "    <tr>\n",
              "      <th>2021-11-10 09:00:00</th>\n",
              "      <td>11.7498</td>\n",
              "      <td>-115.546</td>\n",
              "    </tr>\n",
              "    <tr>\n",
              "      <th>2021-11-10 12:00:00</th>\n",
              "      <td>11.7000</td>\n",
              "      <td>-116.200</td>\n",
              "    </tr>\n",
              "    <tr>\n",
              "      <th>2021-11-10 15:00:00</th>\n",
              "      <td>11.6879</td>\n",
              "      <td>-116.889</td>\n",
              "    </tr>\n",
              "  </tbody>\n",
              "</table>\n",
              "</div>\n",
              "      <button class=\"colab-df-convert\" onclick=\"convertToInteractive('df-504d5224-fca8-4803-9f68-5f79383a3db6')\"\n",
              "              title=\"Convert this dataframe to an interactive table.\"\n",
              "              style=\"display:none;\">\n",
              "        \n",
              "  <svg xmlns=\"http://www.w3.org/2000/svg\" height=\"24px\"viewBox=\"0 0 24 24\"\n",
              "       width=\"24px\">\n",
              "    <path d=\"M0 0h24v24H0V0z\" fill=\"none\"/>\n",
              "    <path d=\"M18.56 5.44l.94 2.06.94-2.06 2.06-.94-2.06-.94-.94-2.06-.94 2.06-2.06.94zm-11 1L8.5 8.5l.94-2.06 2.06-.94-2.06-.94L8.5 2.5l-.94 2.06-2.06.94zm10 10l.94 2.06.94-2.06 2.06-.94-2.06-.94-.94-2.06-.94 2.06-2.06.94z\"/><path d=\"M17.41 7.96l-1.37-1.37c-.4-.4-.92-.59-1.43-.59-.52 0-1.04.2-1.43.59L10.3 9.45l-7.72 7.72c-.78.78-.78 2.05 0 2.83L4 21.41c.39.39.9.59 1.41.59.51 0 1.02-.2 1.41-.59l7.78-7.78 2.81-2.81c.8-.78.8-2.07 0-2.86zM5.41 20L4 18.59l7.72-7.72 1.47 1.35L5.41 20z\"/>\n",
              "  </svg>\n",
              "      </button>\n",
              "      \n",
              "  <style>\n",
              "    .colab-df-container {\n",
              "      display:flex;\n",
              "      flex-wrap:wrap;\n",
              "      gap: 12px;\n",
              "    }\n",
              "\n",
              "    .colab-df-convert {\n",
              "      background-color: #E8F0FE;\n",
              "      border: none;\n",
              "      border-radius: 50%;\n",
              "      cursor: pointer;\n",
              "      display: none;\n",
              "      fill: #1967D2;\n",
              "      height: 32px;\n",
              "      padding: 0 0 0 0;\n",
              "      width: 32px;\n",
              "    }\n",
              "\n",
              "    .colab-df-convert:hover {\n",
              "      background-color: #E2EBFA;\n",
              "      box-shadow: 0px 1px 2px rgba(60, 64, 67, 0.3), 0px 1px 3px 1px rgba(60, 64, 67, 0.15);\n",
              "      fill: #174EA6;\n",
              "    }\n",
              "\n",
              "    [theme=dark] .colab-df-convert {\n",
              "      background-color: #3B4455;\n",
              "      fill: #D2E3FC;\n",
              "    }\n",
              "\n",
              "    [theme=dark] .colab-df-convert:hover {\n",
              "      background-color: #434B5C;\n",
              "      box-shadow: 0px 1px 3px 1px rgba(0, 0, 0, 0.15);\n",
              "      filter: drop-shadow(0px 1px 2px rgba(0, 0, 0, 0.3));\n",
              "      fill: #FFFFFF;\n",
              "    }\n",
              "  </style>\n",
              "\n",
              "      <script>\n",
              "        const buttonEl =\n",
              "          document.querySelector('#df-504d5224-fca8-4803-9f68-5f79383a3db6 button.colab-df-convert');\n",
              "        buttonEl.style.display =\n",
              "          google.colab.kernel.accessAllowed ? 'block' : 'none';\n",
              "\n",
              "        async function convertToInteractive(key) {\n",
              "          const element = document.querySelector('#df-504d5224-fca8-4803-9f68-5f79383a3db6');\n",
              "          const dataTable =\n",
              "            await google.colab.kernel.invokeFunction('convertToInteractive',\n",
              "                                                     [key], {});\n",
              "          if (!dataTable) return;\n",
              "\n",
              "          const docLinkHtml = 'Like what you see? Visit the ' +\n",
              "            '<a target=\"_blank\" href=https://colab.research.google.com/notebooks/data_table.ipynb>data table notebook</a>'\n",
              "            + ' to learn more about interactive tables.';\n",
              "          element.innerHTML = '';\n",
              "          dataTable['output_type'] = 'display_data';\n",
              "          await google.colab.output.renderOutput(dataTable, element);\n",
              "          const docLink = document.createElement('div');\n",
              "          docLink.innerHTML = docLinkHtml;\n",
              "          element.appendChild(docLink);\n",
              "        }\n",
              "      </script>\n",
              "    </div>\n",
              "  </div>\n",
              "  "
            ],
            "text/plain": [
              "                         LAT      LON\n",
              "ISO_TIME                             \n",
              "2021-11-08 21:00:00  10.4136 -108.098\n",
              "2021-11-09 00:00:00  10.6000 -108.700\n",
              "2021-11-09 03:00:00  10.8686 -109.275\n",
              "2021-11-09 06:00:00  11.1000 -109.850\n",
              "2021-11-09 09:00:00  11.1612 -110.468\n",
              "2021-11-09 12:00:00  11.2000 -111.100\n",
              "2021-11-09 15:00:00  11.3636 -111.729\n",
              "2021-11-09 18:00:00  11.5500 -112.350\n",
              "2021-11-09 21:00:00  11.7010 -112.943\n",
              "2021-11-10 00:00:00  11.8000 -113.550\n",
              "2021-11-10 03:00:00  11.8262 -114.218\n",
              "2021-11-10 06:00:00  11.8000 -114.900\n",
              "2021-11-10 09:00:00  11.7498 -115.546\n",
              "2021-11-10 12:00:00  11.7000 -116.200\n",
              "2021-11-10 15:00:00  11.6879 -116.889"
            ]
          },
          "metadata": {},
          "execution_count": 81
        }
      ]
    },
    {
      "cell_type": "code",
      "source": [
        "train_df = df.iloc[df.index.year != 2021]\n"
      ],
      "metadata": {
        "id": "fLYhv8MUIOEh"
      },
      "execution_count": null,
      "outputs": []
    },
    {
      "cell_type": "code",
      "source": [
        "train_df.shape"
      ],
      "metadata": {
        "colab": {
          "base_uri": "https://localhost:8080/"
        },
        "id": "nIwWteVWONp9",
        "outputId": "5116540b-e0fd-4660-9c69-5e0eea17bd26"
      },
      "execution_count": null,
      "outputs": [
        {
          "output_type": "execute_result",
          "data": {
            "text/plain": [
              "(120234, 2)"
            ]
          },
          "metadata": {},
          "execution_count": 68
        }
      ]
    },
    {
      "cell_type": "code",
      "source": [
        "test_df = df.iloc[df.index.year == 2021]"
      ],
      "metadata": {
        "id": "yCSrlvHXHhZR"
      },
      "execution_count": null,
      "outputs": []
    },
    {
      "cell_type": "code",
      "source": [
        "test_df.shape"
      ],
      "metadata": {
        "colab": {
          "base_uri": "https://localhost:8080/"
        },
        "id": "zgmWgg3FOTJX",
        "outputId": "91636fb5-25cb-4559-c967-7b72d8b619b5"
      },
      "execution_count": null,
      "outputs": [
        {
          "output_type": "execute_result",
          "data": {
            "text/plain": [
              "(1611, 2)"
            ]
          },
          "metadata": {},
          "execution_count": 70
        }
      ]
    },
    {
      "cell_type": "code",
      "source": [
        "model = VAR(train_df)\n"
      ],
      "metadata": {
        "id": "ljlmR5UeNlKd"
      },
      "execution_count": null,
      "outputs": []
    },
    {
      "cell_type": "code",
      "source": [
        "model_fit = model.fit(maxlags=37)\n"
      ],
      "metadata": {
        "id": "MnnVSrkXQ31s"
      },
      "execution_count": null,
      "outputs": []
    },
    {
      "cell_type": "code",
      "source": [
        "model_fit.summary()\n"
      ],
      "metadata": {
        "colab": {
          "base_uri": "https://localhost:8080/"
        },
        "id": "3lYC7Xtp3Vk2",
        "outputId": "b44c4f24-9e51-4a8a-8e59-63919de9cbba"
      },
      "execution_count": null,
      "outputs": [
        {
          "output_type": "execute_result",
          "data": {
            "text/plain": [
              "  Summary of Regression Results   \n",
              "==================================\n",
              "Model:                         VAR\n",
              "Method:                        OLS\n",
              "Date:           Sun, 13, Feb, 2022\n",
              "Time:                     22:05:36\n",
              "--------------------------------------------------------------------\n",
              "No. of Equations:         2.00000    BIC:                    5.10567\n",
              "Nobs:                     120197.    HQIC:                   5.09721\n",
              "Log likelihood:          -647070.    FPE:                    162.971\n",
              "AIC:                      5.09357    Det(Omega_mle):         162.768\n",
              "--------------------------------------------------------------------\n",
              "Results for equation LAT\n",
              "==========================================================================\n",
              "             coefficient       std. error           t-stat            prob\n",
              "--------------------------------------------------------------------------\n",
              "const           1.023962         0.050589           20.241           0.000\n",
              "L1.LAT          0.971811         0.002939          330.695           0.000\n",
              "L1.LON         -0.007301         0.001783           -4.095           0.000\n",
              "L2.LAT         -0.000895         0.004094           -0.219           0.827\n",
              "L2.LON          0.000423         0.002506            0.169           0.866\n",
              "L3.LAT         -0.000984         0.004094           -0.240           0.810\n",
              "L3.LON         -0.000528         0.002506           -0.211           0.833\n",
              "L4.LAT         -0.001763         0.004094           -0.431           0.667\n",
              "L4.LON          0.000211         0.002506            0.084           0.933\n",
              "L5.LAT         -0.000523         0.004094           -0.128           0.898\n",
              "L5.LON          0.000338         0.002506            0.135           0.893\n",
              "L6.LAT         -0.001705         0.004094           -0.416           0.677\n",
              "L6.LON         -0.000394         0.002506           -0.157           0.875\n",
              "L7.LAT         -0.000581         0.004094           -0.142           0.887\n",
              "L7.LON          0.000036         0.002506            0.014           0.988\n",
              "L8.LAT         -0.000578         0.004094           -0.141           0.888\n",
              "L8.LON          0.001485         0.002506            0.593           0.554\n",
              "L9.LAT         -0.001550         0.004094           -0.379           0.705\n",
              "L9.LON         -0.001372         0.002506           -0.547           0.584\n",
              "L10.LAT        -0.002106         0.004094           -0.514           0.607\n",
              "L10.LON         0.000821         0.002506            0.328           0.743\n",
              "L11.LAT         0.001332         0.004094            0.325           0.745\n",
              "L11.LON        -0.000276         0.002506           -0.110           0.912\n",
              "L12.LAT        -0.001743         0.004094           -0.426           0.670\n",
              "L12.LON         0.002162         0.002506            0.863           0.388\n",
              "L13.LAT         0.000476         0.004094            0.116           0.907\n",
              "L13.LON        -0.001955         0.002506           -0.780           0.435\n",
              "L14.LAT         0.000125         0.004094            0.031           0.976\n",
              "L14.LON        -0.000215         0.002506           -0.086           0.931\n",
              "L15.LAT        -0.001881         0.004094           -0.460           0.646\n",
              "L15.LON        -0.000332         0.002506           -0.132           0.895\n",
              "L16.LAT        -0.003655         0.004094           -0.893           0.372\n",
              "L16.LON         0.001380         0.002506            0.551           0.582\n",
              "L17.LAT         0.004133         0.004094            1.010           0.313\n",
              "L17.LON        -0.000329         0.002506           -0.131           0.895\n",
              "L18.LAT        -0.002641         0.004094           -0.645           0.519\n",
              "L18.LON         0.000349         0.002506            0.139           0.889\n",
              "L19.LAT         0.000858         0.004094            0.210           0.834\n",
              "L19.LON        -0.001374         0.002506           -0.548           0.584\n",
              "L20.LAT         0.001089         0.004094            0.266           0.790\n",
              "L20.LON         0.000056         0.002506            0.022           0.982\n",
              "L21.LAT        -0.001564         0.004094           -0.382           0.702\n",
              "L21.LON         0.000168         0.002506            0.067           0.947\n",
              "L22.LAT         0.003804         0.004094            0.929           0.353\n",
              "L22.LON         0.001013         0.002506            0.404           0.686\n",
              "L23.LAT        -0.002270         0.004094           -0.554           0.579\n",
              "L23.LON         0.000375         0.002506            0.150           0.881\n",
              "L24.LAT         0.001850         0.004094            0.452           0.651\n",
              "L24.LON         0.000949         0.002506            0.379           0.705\n",
              "L25.LAT        -0.003977         0.004094           -0.972           0.331\n",
              "L25.LON        -0.001656         0.002506           -0.661           0.509\n",
              "L26.LAT         0.005483         0.004094            1.339           0.180\n",
              "L26.LON        -0.000172         0.002506           -0.068           0.945\n",
              "L27.LAT        -0.006666         0.004094           -1.628           0.103\n",
              "L27.LON        -0.000490         0.002506           -0.196           0.845\n",
              "L28.LAT         0.002760         0.004094            0.674           0.500\n",
              "L28.LON         0.001149         0.002506            0.458           0.647\n",
              "L29.LAT        -0.001922         0.004094           -0.470           0.639\n",
              "L29.LON         0.000341         0.002506            0.136           0.892\n",
              "L30.LAT         0.005815         0.004094            1.421           0.155\n",
              "L30.LON         0.001145         0.002506            0.457           0.648\n",
              "L31.LAT        -0.007237         0.004094           -1.768           0.077\n",
              "L31.LON        -0.002454         0.002506           -0.979           0.327\n",
              "L32.LAT         0.001281         0.004094            0.313           0.754\n",
              "L32.LON        -0.000424         0.002506           -0.169           0.866\n",
              "L33.LAT        -0.000990         0.004094           -0.242           0.809\n",
              "L33.LON         0.002096         0.002506            0.836           0.403\n",
              "L34.LAT         0.002785         0.004094            0.680           0.496\n",
              "L34.LON        -0.000301         0.002506           -0.120           0.905\n",
              "L35.LAT        -0.004370         0.004094           -1.067           0.286\n",
              "L35.LON        -0.000841         0.002506           -0.336           0.737\n",
              "L36.LAT         0.000373         0.004094            0.091           0.927\n",
              "L36.LON         0.001357         0.002506            0.542           0.588\n",
              "L37.LAT        -0.001303         0.002935           -0.444           0.657\n",
              "L37.LON         0.000860         0.001783            0.482           0.629\n",
              "==========================================================================\n",
              "\n",
              "Results for equation LON\n",
              "==========================================================================\n",
              "             coefficient       std. error           t-stat            prob\n",
              "--------------------------------------------------------------------------\n",
              "const          -2.586781         0.083389          -31.021           0.000\n",
              "L1.LAT          0.016970         0.004844            3.503           0.000\n",
              "L1.LON          0.985601         0.002939          335.376           0.000\n",
              "L2.LAT          0.000051         0.006748            0.008           0.994\n",
              "L2.LON         -0.003141         0.004131           -0.760           0.447\n",
              "L3.LAT          0.000828         0.006748            0.123           0.902\n",
              "L3.LON          0.000701         0.004131            0.170           0.865\n",
              "L4.LAT         -0.001042         0.006748           -0.154           0.877\n",
              "L4.LON         -0.001470         0.004131           -0.356           0.722\n",
              "L5.LAT         -0.000127         0.006748           -0.019           0.985\n",
              "L5.LON         -0.001177         0.004131           -0.285           0.776\n",
              "L6.LAT          0.000828         0.006748            0.123           0.902\n",
              "L6.LON         -0.002202         0.004131           -0.533           0.594\n",
              "L7.LAT          0.000706         0.006748            0.105           0.917\n",
              "L7.LON          0.000936         0.004131            0.227           0.821\n",
              "L8.LAT          0.001072         0.006748            0.159           0.874\n",
              "L8.LON         -0.005193         0.004131           -1.257           0.209\n",
              "L9.LAT         -0.002222         0.006748           -0.329           0.742\n",
              "L9.LON          0.002952         0.004131            0.715           0.475\n",
              "L10.LAT         0.002581         0.006748            0.382           0.702\n",
              "L10.LON        -0.005712         0.004131           -1.383           0.167\n",
              "L11.LAT        -0.003537         0.006748           -0.524           0.600\n",
              "L11.LON         0.003725         0.004131            0.902           0.367\n",
              "L12.LAT        -0.000064         0.006748           -0.009           0.992\n",
              "L12.LON        -0.005629         0.004131           -1.363           0.173\n",
              "L13.LAT         0.000216         0.006748            0.032           0.974\n",
              "L13.LON         0.005482         0.004131            1.327           0.184\n",
              "L14.LAT        -0.001277         0.006748           -0.189           0.850\n",
              "L14.LON        -0.001938         0.004131           -0.469           0.639\n",
              "L15.LAT         0.000874         0.006748            0.130           0.897\n",
              "L15.LON         0.000982         0.004130            0.238           0.812\n",
              "L16.LAT         0.007704         0.006748            1.142           0.254\n",
              "L16.LON        -0.017552         0.004130           -4.250           0.000\n",
              "L17.LAT        -0.007145         0.006748           -1.059           0.290\n",
              "L17.LON         0.017551         0.004131            4.249           0.000\n",
              "L18.LAT         0.000079         0.006748            0.012           0.991\n",
              "L18.LON        -0.008593         0.004131           -2.080           0.038\n",
              "L19.LAT        -0.001303         0.006748           -0.193           0.847\n",
              "L19.LON         0.004938         0.004131            1.195           0.232\n",
              "L20.LAT        -0.000435         0.006748           -0.064           0.949\n",
              "L20.LON         0.001053         0.004131            0.255           0.799\n",
              "L21.LAT         0.002496         0.006748            0.370           0.711\n",
              "L21.LON         0.001292         0.004131            0.313           0.755\n",
              "L22.LAT        -0.007070         0.006748           -1.048           0.295\n",
              "L22.LON        -0.006476         0.004130           -1.568           0.117\n",
              "L23.LAT         0.007327         0.006748            1.086           0.278\n",
              "L23.LON         0.004535         0.004130            1.098           0.272\n",
              "L24.LAT         0.002799         0.006748            0.415           0.678\n",
              "L24.LON        -0.012341         0.004130           -2.988           0.003\n",
              "L25.LAT        -0.004663         0.006748           -0.691           0.490\n",
              "L25.LON         0.008097         0.004131            1.960           0.050\n",
              "L26.LAT        -0.005400         0.006748           -0.800           0.424\n",
              "L26.LON         0.002614         0.004131            0.633           0.527\n",
              "L27.LAT         0.008668         0.006748            1.285           0.199\n",
              "L27.LON         0.003274         0.004131            0.793           0.428\n",
              "L28.LAT        -0.007420         0.006748           -1.100           0.272\n",
              "L28.LON        -0.006477         0.004131           -1.568           0.117\n",
              "L29.LAT         0.001407         0.006748            0.208           0.835\n",
              "L29.LON         0.000717         0.004131            0.174           0.862\n",
              "L30.LAT         0.007882         0.006748            1.168           0.243\n",
              "L30.LON         0.002931         0.004131            0.710           0.478\n",
              "L31.LAT        -0.002513         0.006748           -0.372           0.710\n",
              "L31.LON        -0.000667         0.004131           -0.162           0.872\n",
              "L32.LAT        -0.001021         0.006748           -0.151           0.880\n",
              "L32.LON        -0.013466         0.004131           -3.260           0.001\n",
              "L33.LAT         0.001124         0.006748            0.167           0.868\n",
              "L33.LON         0.012628         0.004131            3.057           0.002\n",
              "L34.LAT         0.002604         0.006748            0.386           0.700\n",
              "L34.LON         0.001160         0.004131            0.281           0.779\n",
              "L35.LAT        -0.003085         0.006748           -0.457           0.648\n",
              "L35.LON        -0.001072         0.004131           -0.260           0.795\n",
              "L36.LAT        -0.000214         0.006748           -0.032           0.975\n",
              "L36.LON        -0.000334         0.004131           -0.081           0.936\n",
              "L37.LAT        -0.001390         0.004839           -0.287           0.774\n",
              "L37.LON        -0.001168         0.002939           -0.397           0.691\n",
              "==========================================================================\n",
              "\n",
              "Correlation matrix of residuals\n",
              "            LAT       LON\n",
              "LAT    1.000000  0.190293\n",
              "LON    0.190293  1.000000\n",
              "\n"
            ]
          },
          "metadata": {},
          "execution_count": 73
        }
      ]
    },
    {
      "cell_type": "code",
      "source": [
        "sorted_order=model.select_order(maxlags=37)\n",
        "print(sorted_order.summary())"
      ],
      "metadata": {
        "colab": {
          "base_uri": "https://localhost:8080/"
        },
        "id": "xnlJeNsw6guY",
        "outputId": "1b952ad4-e127-43ab-e5b4-dbccee9f386f"
      },
      "execution_count": null,
      "outputs": [
        {
          "output_type": "stream",
          "name": "stdout",
          "text": [
            " VAR Order Selection (* highlights the minimums)  \n",
            "==================================================\n",
            "       AIC         BIC         FPE         HQIC   \n",
            "--------------------------------------------------\n",
            "0        10.55       10.55   3.826e+04       10.55\n",
            "1        5.095       5.096       163.2       5.095\n",
            "2        5.095      5.096*       163.2       5.095\n",
            "3        5.094       5.096       163.1       5.095\n",
            "4        5.094       5.096       163.1       5.095\n",
            "5        5.094       5.096       163.0       5.095\n",
            "6        5.094       5.096       163.0       5.094\n",
            "7        5.094       5.096       163.0       5.094\n",
            "8        5.094       5.096       163.0      5.094*\n",
            "9        5.093       5.097       163.0       5.094\n",
            "10       5.093       5.097       162.9       5.094\n",
            "11       5.093       5.097       162.9       5.095\n",
            "12       5.093       5.097       162.9       5.095\n",
            "13       5.093       5.098       162.9       5.095\n",
            "14       5.093       5.098       162.9       5.095\n",
            "15       5.093       5.098       162.9       5.095\n",
            "16       5.093       5.099       162.9       5.095\n",
            "17       5.093       5.099       162.9       5.095\n",
            "18      5.093*       5.099      162.9*       5.095\n",
            "19       5.093       5.100       162.9       5.095\n",
            "20       5.093       5.100       162.9       5.095\n",
            "21       5.093       5.100       162.9       5.095\n",
            "22       5.093       5.101       162.9       5.096\n",
            "23       5.093       5.101       162.9       5.096\n",
            "24       5.093       5.101       162.9       5.096\n",
            "25       5.093       5.102       162.9       5.096\n",
            "26       5.093       5.102       162.9       5.096\n",
            "27       5.093       5.102       162.9       5.096\n",
            "28       5.093       5.103       162.9       5.096\n",
            "29       5.093       5.103       162.9       5.096\n",
            "30       5.093       5.103       163.0       5.096\n",
            "31       5.093       5.104       162.9       5.096\n",
            "32       5.093       5.104       163.0       5.097\n",
            "33       5.093       5.104       162.9       5.097\n",
            "34       5.093       5.105       162.9       5.097\n",
            "35       5.093       5.105       163.0       5.097\n",
            "36       5.094       5.105       163.0       5.097\n",
            "37       5.094       5.106       163.0       5.097\n",
            "--------------------------------------------------\n"
          ]
        }
      ]
    },
    {
      "cell_type": "code",
      "source": [
        "var_model = VARMAX(train_df, order=(1,1),enforce_stationarity= True)\n",
        "fitted_model = var_model.fit(disp=False)\n",
        "print(fitted_model.summary())"
      ],
      "metadata": {
        "id": "6B05v-vy8MLd"
      },
      "execution_count": null,
      "outputs": []
    },
    {
      "cell_type": "markdown",
      "source": [
        "We noticed that Most points are provided at 3 hour intervals.\n",
        "So we need to choose to forecast on the follwing 8 intervals which corespond to 24 hours"
      ],
      "metadata": {
        "id": "owmkz_2XbHpF"
      }
    },
    {
      "cell_type": "code",
      "source": [
        "#predicting 24hours ahead.\n",
        "n_forecast = 8\n",
        "predict = fitted_model.get_prediction(start=len(train_df),end=len(train_df) + n_forecast-1)\n",
        "predictions=predict.predicted_mean"
      ],
      "metadata": {
        "id": "tl2quchB9kmm"
      },
      "execution_count": null,
      "outputs": []
    },
    {
      "cell_type": "code",
      "source": [
        "predictions.columns=['LAT_predicted','LON_predicted']\n",
        "predictions"
      ],
      "metadata": {
        "colab": {
          "base_uri": "https://localhost:8080/",
          "height": 300
        },
        "id": "ESk3feuq9nKM",
        "outputId": "b6f8d025-ac1c-41bc-925e-3543f0a993be"
      },
      "execution_count": null,
      "outputs": [
        {
          "output_type": "execute_result",
          "data": {
            "text/html": [
              "\n",
              "  <div id=\"df-33155e99-1fec-4fca-be56-270e8b011a96\">\n",
              "    <div class=\"colab-df-container\">\n",
              "      <div>\n",
              "<style scoped>\n",
              "    .dataframe tbody tr th:only-of-type {\n",
              "        vertical-align: middle;\n",
              "    }\n",
              "\n",
              "    .dataframe tbody tr th {\n",
              "        vertical-align: top;\n",
              "    }\n",
              "\n",
              "    .dataframe thead th {\n",
              "        text-align: right;\n",
              "    }\n",
              "</style>\n",
              "<table border=\"1\" class=\"dataframe\">\n",
              "  <thead>\n",
              "    <tr style=\"text-align: right;\">\n",
              "      <th></th>\n",
              "      <th>LAT_predicted</th>\n",
              "      <th>LON_predicted</th>\n",
              "    </tr>\n",
              "  </thead>\n",
              "  <tbody>\n",
              "    <tr>\n",
              "      <th>120234</th>\n",
              "      <td>14.427615</td>\n",
              "      <td>-87.948574</td>\n",
              "    </tr>\n",
              "    <tr>\n",
              "      <th>120235</th>\n",
              "      <td>15.075638</td>\n",
              "      <td>-87.490425</td>\n",
              "    </tr>\n",
              "    <tr>\n",
              "      <th>120236</th>\n",
              "      <td>15.694809</td>\n",
              "      <td>-87.033221</td>\n",
              "    </tr>\n",
              "    <tr>\n",
              "      <th>120237</th>\n",
              "      <td>16.286290</td>\n",
              "      <td>-86.577496</td>\n",
              "    </tr>\n",
              "    <tr>\n",
              "      <th>120238</th>\n",
              "      <td>16.851200</td>\n",
              "      <td>-86.123745</td>\n",
              "    </tr>\n",
              "    <tr>\n",
              "      <th>120239</th>\n",
              "      <td>17.390618</td>\n",
              "      <td>-85.672424</td>\n",
              "    </tr>\n",
              "    <tr>\n",
              "      <th>120240</th>\n",
              "      <td>17.905579</td>\n",
              "      <td>-85.223959</td>\n",
              "    </tr>\n",
              "    <tr>\n",
              "      <th>120241</th>\n",
              "      <td>18.397083</td>\n",
              "      <td>-84.778740</td>\n",
              "    </tr>\n",
              "  </tbody>\n",
              "</table>\n",
              "</div>\n",
              "      <button class=\"colab-df-convert\" onclick=\"convertToInteractive('df-33155e99-1fec-4fca-be56-270e8b011a96')\"\n",
              "              title=\"Convert this dataframe to an interactive table.\"\n",
              "              style=\"display:none;\">\n",
              "        \n",
              "  <svg xmlns=\"http://www.w3.org/2000/svg\" height=\"24px\"viewBox=\"0 0 24 24\"\n",
              "       width=\"24px\">\n",
              "    <path d=\"M0 0h24v24H0V0z\" fill=\"none\"/>\n",
              "    <path d=\"M18.56 5.44l.94 2.06.94-2.06 2.06-.94-2.06-.94-.94-2.06-.94 2.06-2.06.94zm-11 1L8.5 8.5l.94-2.06 2.06-.94-2.06-.94L8.5 2.5l-.94 2.06-2.06.94zm10 10l.94 2.06.94-2.06 2.06-.94-2.06-.94-.94-2.06-.94 2.06-2.06.94z\"/><path d=\"M17.41 7.96l-1.37-1.37c-.4-.4-.92-.59-1.43-.59-.52 0-1.04.2-1.43.59L10.3 9.45l-7.72 7.72c-.78.78-.78 2.05 0 2.83L4 21.41c.39.39.9.59 1.41.59.51 0 1.02-.2 1.41-.59l7.78-7.78 2.81-2.81c.8-.78.8-2.07 0-2.86zM5.41 20L4 18.59l7.72-7.72 1.47 1.35L5.41 20z\"/>\n",
              "  </svg>\n",
              "      </button>\n",
              "      \n",
              "  <style>\n",
              "    .colab-df-container {\n",
              "      display:flex;\n",
              "      flex-wrap:wrap;\n",
              "      gap: 12px;\n",
              "    }\n",
              "\n",
              "    .colab-df-convert {\n",
              "      background-color: #E8F0FE;\n",
              "      border: none;\n",
              "      border-radius: 50%;\n",
              "      cursor: pointer;\n",
              "      display: none;\n",
              "      fill: #1967D2;\n",
              "      height: 32px;\n",
              "      padding: 0 0 0 0;\n",
              "      width: 32px;\n",
              "    }\n",
              "\n",
              "    .colab-df-convert:hover {\n",
              "      background-color: #E2EBFA;\n",
              "      box-shadow: 0px 1px 2px rgba(60, 64, 67, 0.3), 0px 1px 3px 1px rgba(60, 64, 67, 0.15);\n",
              "      fill: #174EA6;\n",
              "    }\n",
              "\n",
              "    [theme=dark] .colab-df-convert {\n",
              "      background-color: #3B4455;\n",
              "      fill: #D2E3FC;\n",
              "    }\n",
              "\n",
              "    [theme=dark] .colab-df-convert:hover {\n",
              "      background-color: #434B5C;\n",
              "      box-shadow: 0px 1px 3px 1px rgba(0, 0, 0, 0.15);\n",
              "      filter: drop-shadow(0px 1px 2px rgba(0, 0, 0, 0.3));\n",
              "      fill: #FFFFFF;\n",
              "    }\n",
              "  </style>\n",
              "\n",
              "      <script>\n",
              "        const buttonEl =\n",
              "          document.querySelector('#df-33155e99-1fec-4fca-be56-270e8b011a96 button.colab-df-convert');\n",
              "        buttonEl.style.display =\n",
              "          google.colab.kernel.accessAllowed ? 'block' : 'none';\n",
              "\n",
              "        async function convertToInteractive(key) {\n",
              "          const element = document.querySelector('#df-33155e99-1fec-4fca-be56-270e8b011a96');\n",
              "          const dataTable =\n",
              "            await google.colab.kernel.invokeFunction('convertToInteractive',\n",
              "                                                     [key], {});\n",
              "          if (!dataTable) return;\n",
              "\n",
              "          const docLinkHtml = 'Like what you see? Visit the ' +\n",
              "            '<a target=\"_blank\" href=https://colab.research.google.com/notebooks/data_table.ipynb>data table notebook</a>'\n",
              "            + ' to learn more about interactive tables.';\n",
              "          element.innerHTML = '';\n",
              "          dataTable['output_type'] = 'display_data';\n",
              "          await google.colab.output.renderOutput(dataTable, element);\n",
              "          const docLink = document.createElement('div');\n",
              "          docLink.innerHTML = docLinkHtml;\n",
              "          element.appendChild(docLink);\n",
              "        }\n",
              "      </script>\n",
              "    </div>\n",
              "  </div>\n",
              "  "
            ],
            "text/plain": [
              "        LAT_predicted  LON_predicted\n",
              "120234      14.427615     -87.948574\n",
              "120235      15.075638     -87.490425\n",
              "120236      15.694809     -87.033221\n",
              "120237      16.286290     -86.577496\n",
              "120238      16.851200     -86.123745\n",
              "120239      17.390618     -85.672424\n",
              "120240      17.905579     -85.223959\n",
              "120241      18.397083     -84.778740"
            ]
          },
          "metadata": {},
          "execution_count": 77
        }
      ]
    },
    {
      "cell_type": "markdown",
      "source": [
        "##Plot the forcast vs real data"
      ],
      "metadata": {
        "id": "j0RJWUw9qT3b"
      }
    },
    {
      "cell_type": "code",
      "source": [
        "predictions.plot(figsize=(12,5), legend=True, title = 'Latitude and Longitude predicted for the next 24 hours')\n",
        "test_df[:8].plot(figsize=(12,5), legend=True, title='Real values of latitude and Longitude for the next 24 hours')\n"
      ],
      "metadata": {
        "colab": {
          "base_uri": "https://localhost:8080/",
          "height": 226
        },
        "id": "usvGDgxjCeKV",
        "outputId": "fa916212-0f46-40a2-e28b-14a912192065"
      },
      "execution_count": null,
      "outputs": [
        {
          "output_type": "error",
          "ename": "NameError",
          "evalue": "ignored",
          "traceback": [
            "\u001b[0;31m---------------------------------------------------------------------------\u001b[0m",
            "\u001b[0;31mNameError\u001b[0m                                 Traceback (most recent call last)",
            "\u001b[0;32m<ipython-input-1-606990d5ff0e>\u001b[0m in \u001b[0;36m<module>\u001b[0;34m()\u001b[0m\n\u001b[0;32m----> 1\u001b[0;31m \u001b[0mpredictions\u001b[0m\u001b[0;34m.\u001b[0m\u001b[0mplot\u001b[0m\u001b[0;34m(\u001b[0m\u001b[0mfigsize\u001b[0m\u001b[0;34m=\u001b[0m\u001b[0;34m(\u001b[0m\u001b[0;36m12\u001b[0m\u001b[0;34m,\u001b[0m\u001b[0;36m5\u001b[0m\u001b[0;34m)\u001b[0m\u001b[0;34m,\u001b[0m \u001b[0mlegend\u001b[0m\u001b[0;34m=\u001b[0m\u001b[0;32mTrue\u001b[0m\u001b[0;34m,\u001b[0m \u001b[0mtitle\u001b[0m \u001b[0;34m=\u001b[0m \u001b[0;34m'Latitude and Longitude predicted for the next 24 hours'\u001b[0m\u001b[0;34m)\u001b[0m\u001b[0;34m\u001b[0m\u001b[0;34m\u001b[0m\u001b[0m\n\u001b[0m\u001b[1;32m      2\u001b[0m \u001b[0mtest_df\u001b[0m\u001b[0;34m[\u001b[0m\u001b[0;34m:\u001b[0m\u001b[0;36m8\u001b[0m\u001b[0;34m]\u001b[0m\u001b[0;34m.\u001b[0m\u001b[0mplot\u001b[0m\u001b[0;34m(\u001b[0m\u001b[0mfigsize\u001b[0m\u001b[0;34m=\u001b[0m\u001b[0;34m(\u001b[0m\u001b[0;36m12\u001b[0m\u001b[0;34m,\u001b[0m\u001b[0;36m5\u001b[0m\u001b[0;34m)\u001b[0m\u001b[0;34m,\u001b[0m \u001b[0mlegend\u001b[0m\u001b[0;34m=\u001b[0m\u001b[0;32mTrue\u001b[0m\u001b[0;34m,\u001b[0m \u001b[0mtitle\u001b[0m\u001b[0;34m=\u001b[0m\u001b[0;34m'Real values of latitude and Longitude for the next 24 hours'\u001b[0m\u001b[0;34m)\u001b[0m\u001b[0;34m\u001b[0m\u001b[0;34m\u001b[0m\u001b[0m\n",
            "\u001b[0;31mNameError\u001b[0m: name 'predictions' is not defined"
          ]
        }
      ]
    },
    {
      "cell_type": "code",
      "source": [
        "rmse_LAT=math.sqrt(mean_squared_error(predictions['LAT_predicted'],test_df['LAT'][:8]))\n",
        "print('Mean value of LAT is : {}. Root Mean Squared Error is :{}'.format(mean(test_df['LAT']),rmse_LAT))\n",
        "\n",
        "rmse_LON=math.sqrt(mean_squared_error(predictions['LON_predicted'],test_df['LON'][:8]))\n",
        "print('Mean value of LON is : {}. Root Mean Squared Error is :{}'.format(mean(test_df['LON']),rmse_LON))"
      ],
      "metadata": {
        "colab": {
          "base_uri": "https://localhost:8080/"
        },
        "id": "JQeJjv6sZPo-",
        "outputId": "eb138b2a-f2b9-4f04-8ee2-0435997a0de9"
      },
      "execution_count": null,
      "outputs": [
        {
          "output_type": "stream",
          "name": "stdout",
          "text": [
            "Mean value of LAT is : 23.72595069522036. Root Mean Squared Error is :13.598988350189645\n",
            "Mean value of LON is : -61.30389186840472. Root Mean Squared Error is :29.286506775084\n"
          ]
        }
      ]
    }
  ]
}